{
 "cells": [
  {
   "cell_type": "markdown",
   "metadata": {
    "collapsed": true,
    "pycharm": {
     "name": "#%% md\n"
    }
   },
   "source": [
    "# 自动微分机制\n",
    "\n",
    "Pytorch一般通过反向传播 backward 方法 实现这种求梯度计算。该方法求得的梯度将存在对应自变量张量的grad属性下。除此之外，也能够调用torch.autograd.grad 函数来实现求梯度计算。这就是Pytorch的自动微分机制。"
   ]
  },
  {
   "cell_type": "markdown",
   "source": [
    "## 利用backward"
   ],
   "metadata": {
    "collapsed": false,
    "pycharm": {
     "name": "#%% md\n"
    }
   }
  },
  {
   "cell_type": "code",
   "execution_count": 2,
   "outputs": [
    {
     "name": "stdout",
     "output_type": "stream",
     "text": [
      "tensor(-2.)\n"
     ]
    }
   ],
   "source": [
    "import numpy as np\n",
    "import torch\n",
    "\n",
    "# f(x) = a*x**2 + b*x + c的导数\n",
    "\n",
    "x = torch.tensor(0.0, requires_grad=True)\n",
    "a = torch.tensor(1.0)\n",
    "b = torch.tensor(-2.0)\n",
    "c = torch.tensor(1.0)\n",
    "y = a * torch.pow(x, 2) + b * x + c\n",
    "\n",
    "y.backward()\n",
    "\n",
    "dy_dx = x.grad\n",
    "\n",
    "print(dy_dx)"
   ],
   "metadata": {
    "collapsed": false,
    "pycharm": {
     "name": "#%%\n"
    }
   }
  },
  {
   "cell_type": "code",
   "execution_count": 3,
   "outputs": [
    {
     "name": "stdout",
     "output_type": "stream",
     "text": [
      "x:\n",
      " tensor([[0., 0.],\n",
      "        [1., 2.]], requires_grad=True)\n",
      "y:\n",
      " tensor([[1., 1.],\n",
      "        [0., 1.]], grad_fn=<AddBackward0>)\n",
      "x_grad:\n",
      " tensor([[-2., -2.],\n",
      "        [ 0.,  2.]])\n"
     ]
    }
   ],
   "source": [
    "# f(x) = a*x**2 + b*x + c\n",
    "\n",
    "x = torch.tensor([[0.0, 0.0],[1.0, 2.0]],requires_grad = True) # x需要被求导\n",
    "a = torch.tensor(1.0)\n",
    "b = torch.tensor(-2.0)\n",
    "c = torch.tensor(1.0)\n",
    "y = a * torch.pow(x, 2) + b * x + c\n",
    "\n",
    "gradient = torch.tensor([[1.0,1.0],[1.0,1.0]])\n",
    "\n",
    "print(\"x:\\n\", x)\n",
    "print(\"y:\\n\", y)\n",
    "y.backward(gradient=gradient)\n",
    "x_grad = x.grad\n",
    "print(\"x_grad:\\n\",x_grad)"
   ],
   "metadata": {
    "collapsed": false,
    "pycharm": {
     "name": "#%%\n"
    }
   }
  },
  {
   "cell_type": "markdown",
   "source": [
    "## 利用autograd.grad"
   ],
   "metadata": {
    "collapsed": false,
    "pycharm": {
     "name": "#%% md\n"
    }
   }
  },
  {
   "cell_type": "code",
   "execution_count": 4,
   "outputs": [
    {
     "name": "stdout",
     "output_type": "stream",
     "text": [
      "tensor(-2.)\n",
      "tensor(2.)\n"
     ]
    }
   ],
   "source": [
    "x = torch.tensor(0.0, requires_grad = True) # x需要被求导\n",
    "a = torch.tensor(1.0)\n",
    "b = torch.tensor(-2.0)\n",
    "c = torch.tensor(1.0)\n",
    "y = a * torch.pow(x,2) + b * x + c\n",
    "\n",
    "# create_graph 设置为 True 将允许创建更高阶的导数\n",
    "dy_dx = torch.autograd.grad(y, x, create_graph=True)[0]\n",
    "print(dy_dx.data)\n",
    "\n",
    "# 求二阶导数\n",
    "dy2_dx2 = torch.autograd.grad(dy_dx, x)[0]\n",
    "print(dy2_dx2.data)"
   ],
   "metadata": {
    "collapsed": false,
    "pycharm": {
     "name": "#%%\n"
    }
   }
  },
  {
   "cell_type": "code",
   "execution_count": 5,
   "outputs": [
    {
     "name": "stdout",
     "output_type": "stream",
     "text": [
      "tensor(2.) tensor(1.)\n"
     ]
    }
   ],
   "source": [
    "x1 = torch.tensor(1.0, requires_grad = True) # x需要被求导\n",
    "x2 = torch.tensor(2.0, requires_grad = True)\n",
    "\n",
    "y1 = x1 * x2\n",
    "y2 = x1 + x2\n",
    "# 允许同时对多个自变量求导数\n",
    "(dy1_dx1, dy1_dx2) = torch.autograd.grad(outputs=y1, inputs = [x1,x2], retain_graph = True)\n",
    "print(dy1_dx1,dy1_dx2)"
   ],
   "metadata": {
    "collapsed": false,
    "pycharm": {
     "name": "#%%\n"
    }
   }
  },
  {
   "cell_type": "markdown",
   "source": [
    "## 利用自动微分和优化器求最小值"
   ],
   "metadata": {
    "collapsed": false,
    "pycharm": {
     "name": "#%% md\n"
    }
   }
  },
  {
   "cell_type": "code",
   "execution_count": 6,
   "outputs": [
    {
     "name": "stdout",
     "output_type": "stream",
     "text": [
      "y= tensor(0.) ; x= tensor(1.0000)\n"
     ]
    }
   ],
   "source": [
    "x = torch.tensor(0.0, requires_grad = True) # x需要被求导\n",
    "a = torch.tensor(1.0)\n",
    "b = torch.tensor(-2.0)\n",
    "c = torch.tensor(1.0)\n",
    "\n",
    "optimizer = torch.optim.SGD(params=[x], lr=0.01)\n",
    "\n",
    "def f(x):\n",
    "    result = a * torch.pow(x, 2) + b * x + c\n",
    "    return result\n",
    "\n",
    "for i in range(500):\n",
    "    optimizer.zero_grad()\n",
    "    y = f(x)\n",
    "    y.backward()\n",
    "    optimizer.step()\n",
    "\n",
    "print(\"y=\", f(x).data, \";\", \"x=\", x.data)"
   ],
   "metadata": {
    "collapsed": false,
    "pycharm": {
     "name": "#%%\n"
    }
   }
  }
 ],
 "metadata": {
  "kernelspec": {
   "display_name": "Python 3",
   "language": "python",
   "name": "python3"
  },
  "language_info": {
   "codemirror_mode": {
    "name": "ipython",
    "version": 2
   },
   "file_extension": ".py",
   "mimetype": "text/x-python",
   "name": "python",
   "nbconvert_exporter": "python",
   "pygments_lexer": "ipython2",
   "version": "2.7.6"
  }
 },
 "nbformat": 4,
 "nbformat_minor": 0
}