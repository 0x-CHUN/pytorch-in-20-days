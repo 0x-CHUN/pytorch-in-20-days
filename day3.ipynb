{
 "metadata": {
  "language_info": {
   "codemirror_mode": {
    "name": "ipython",
    "version": 3
   },
   "file_extension": ".py",
   "mimetype": "text/x-python",
   "name": "python",
   "nbconvert_exporter": "python",
   "pygments_lexer": "ipython3",
   "version": "3.7.9-final"
  },
  "orig_nbformat": 2,
  "kernelspec": {
   "name": "python3",
   "display_name": "Python 3.7.9 64-bit ('Learning': conda)",
   "metadata": {
    "interpreter": {
     "hash": "de9728fd90a65b2cd1ac7cbfba0f613b68b4b252666fec1d25da133d119562bf"
    }
   }
  }
 },
 "nbformat": 4,
 "nbformat_minor": 2,
 "cells": [
  {
   "source": [
    "## 准备数据"
   ],
   "cell_type": "markdown",
   "metadata": {}
  },
  {
   "source": [
    "torchtext常见API一览\n",
    "\n",
    "* torchtext.data.Example : 用来表示一个样本，数据和标签\n",
    "* torchtext.vocab.Vocab: 词汇表，可以导入一些预训练词向量\n",
    "* torchtext.data.Datasets: 数据集类，__getitem__返回 Example实例, torchtext.data.TabularDataset是其子类。\n",
    "* torchtext.data.Field : 用来定义字段的处理方法（文本字段，标签字段）创建 Example时的 预处理，batch 时的一些处理操作。\n",
    "* torchtext.data.Iterator: 迭代器，用来生成 batch\n",
    "* torchtext.datasets: 包含了常见的数据集."
   ],
   "cell_type": "markdown",
   "metadata": {}
  },
  {
   "cell_type": "code",
   "execution_count": 2,
   "metadata": {},
   "outputs": [],
   "source": [
    "import numpy as np\n",
    "import pandas as pd\n",
    "from collections import OrderedDict\n",
    "import re\n",
    "import string\n",
    "\n",
    "MAX_WORDS = 10000 # 仅考虑最高频的10000个词\n",
    "MAX_LEN = 200 # 每个样本保留200个词的长度\n",
    "BATCH_SIZE = 20\n",
    "train_data_path = './data/imdb/train.tsv'\n",
    "test_data_path = './data/imdb/test.tsv'\n",
    "train_token_path = './data/imdb/train_token.tsv'\n",
    "test_token_path = './data/imdb/test_token.tsv'\n",
    "train_samples_path = './data/imdb/train_samples/'\n",
    "test_samples_path = './data/imdb/test_samples/'"
   ]
  },
  {
   "cell_type": "code",
   "execution_count": 3,
   "metadata": {},
   "outputs": [
    {
     "output_type": "execute_result",
     "data": {
      "text/plain": [
       "      count  word_id\n",
       "the  268230        2\n",
       "and  129713        3\n",
       "a    129479        4\n",
       "of   116497        5\n",
       "to   108296        6\n",
       "is    85615        7\n",
       "      84074        8\n",
       "in    74715        9\n",
       "it    62587       10\n",
       "i     60837       11"
      ],
      "text/html": "<div>\n<style scoped>\n    .dataframe tbody tr th:only-of-type {\n        vertical-align: middle;\n    }\n\n    .dataframe tbody tr th {\n        vertical-align: top;\n    }\n\n    .dataframe thead th {\n        text-align: right;\n    }\n</style>\n<table border=\"1\" class=\"dataframe\">\n  <thead>\n    <tr style=\"text-align: right;\">\n      <th></th>\n      <th>count</th>\n      <th>word_id</th>\n    </tr>\n  </thead>\n  <tbody>\n    <tr>\n      <th>the</th>\n      <td>268230</td>\n      <td>2</td>\n    </tr>\n    <tr>\n      <th>and</th>\n      <td>129713</td>\n      <td>3</td>\n    </tr>\n    <tr>\n      <th>a</th>\n      <td>129479</td>\n      <td>4</td>\n    </tr>\n    <tr>\n      <th>of</th>\n      <td>116497</td>\n      <td>5</td>\n    </tr>\n    <tr>\n      <th>to</th>\n      <td>108296</td>\n      <td>6</td>\n    </tr>\n    <tr>\n      <th>is</th>\n      <td>85615</td>\n      <td>7</td>\n    </tr>\n    <tr>\n      <th></th>\n      <td>84074</td>\n      <td>8</td>\n    </tr>\n    <tr>\n      <th>in</th>\n      <td>74715</td>\n      <td>9</td>\n    </tr>\n    <tr>\n      <th>it</th>\n      <td>62587</td>\n      <td>10</td>\n    </tr>\n    <tr>\n      <th>i</th>\n      <td>60837</td>\n      <td>11</td>\n    </tr>\n  </tbody>\n</table>\n</div>"
     },
     "metadata": {},
     "execution_count": 3
    }
   ],
   "source": [
    "# 构建词典\n",
    "\n",
    "word_count_dict = {}\n",
    "\n",
    "# 清洗文本\n",
    "\n",
    "def clean_text(text):\n",
    "    lowercase = text.lower().replace(\"\\n\", \" \")\n",
    "    stripped_html = re.sub('<br />', ' ', lowercase)\n",
    "    cleaned_punctuation = re.sub('[%s]'%re.escape(string.punctuation), '', stripped_html)\n",
    "    return cleaned_punctuation\n",
    "\n",
    "with open(train_data_path, 'r', encoding='utf-8') as f:\n",
    "    for line in f:\n",
    "        label, text = line.split('\\t')\n",
    "        cleaned_text = clean_text(text)\n",
    "        for word in cleaned_text.split(' '):\n",
    "            word_count_dict[word] = word_count_dict.get(word, 0) + 1\n",
    "\n",
    "df_word_dict = pd.DataFrame(pd.Series(word_count_dict, name='count'))\n",
    "df_word_dict = df_word_dict.sort_values(by='count', ascending=False)\n",
    "\n",
    "df_word_dict = df_word_dict[0 : MAX_WORDS-2]\n",
    "df_word_dict['word_id'] = range(2, MAX_WORDS)\n",
    "\n",
    "word_id_dict = df_word_dict['word_id'].to_dict()\n",
    "\n",
    "df_word_dict.head(10)"
   ]
  },
  {
   "cell_type": "code",
   "execution_count": 4,
   "metadata": {},
   "outputs": [],
   "source": [
    "# 转换token\n",
    "\n",
    "# 填充文本\n",
    "\n",
    "def pad(data_list, pad_length):\n",
    "    padded_list = data_list.copy()\n",
    "    if len(data_list) > pad_length:\n",
    "        padded_list = data_list[-pad_length:]\n",
    "    if len(data_list) < pad_length:\n",
    "        padded_list = [1] * (pad_length - len(data_list)) + data_list\n",
    "    return padded_list\n",
    "\n",
    "def text_to_token(text_file, token_file):\n",
    "    with open(text_file, 'r', encoding='utf-8') as fin,\\\n",
    "        open(token_file, 'w', encoding='utf-8') as fout:\n",
    "        for line in fin:\n",
    "            label, text = line.split('\\t')\n",
    "            cleaned_text = clean_text(text)\n",
    "            word_token_list = [word_id_dict.get(word, 0) for word in cleaned_text.split(' ')]\n",
    "            pad_list = pad(word_token_list, MAX_LEN)\n",
    "            out_line = label + '\\t' + \" \".join(str(x) for x in pad_list)\n",
    "            fout.write(out_line + '\\n')\n",
    "\n",
    "text_to_token(train_data_path, train_token_path)\n",
    "text_to_token(test_data_path, test_token_path)"
   ]
  },
  {
   "cell_type": "code",
   "execution_count": 5,
   "metadata": {},
   "outputs": [],
   "source": [
    "import os\n",
    "\n",
    "if not os.path.exists(train_samples_path):\n",
    "    os.mkdir(train_samples_path)\n",
    "\n",
    "if not os.path.exists(test_samples_path):\n",
    "    os.mkdir(test_samples_path)\n",
    "\n",
    "def split_samples(token_path, samples_dir):\n",
    "    with open(token_path, 'r', encoding='utf-8') as fin:\n",
    "        i = 0\n",
    "        for line in fin:\n",
    "            with open(samples_dir+\"%d.txt\"%i, 'w', encoding='utf-8') as fout:\n",
    "                fout.write(line)\n",
    "            i = i + 1\n",
    "\n",
    "split_samples(train_token_path, train_samples_path)\n",
    "split_samples(test_token_path, test_samples_path)"
   ]
  },
  {
   "cell_type": "code",
   "execution_count": 7,
   "metadata": {},
   "outputs": [
    {
     "output_type": "stream",
     "name": "stdout",
     "text": [
      "['0.txt', '1.txt', '10.txt', '100.txt', '1000.txt', '10000.txt', '10001.txt', '10002.txt', '10003.txt', '10004.txt']\n"
     ]
    }
   ],
   "source": [
    "print(os.listdir(train_samples_path)[0:10])"
   ]
  },
  {
   "cell_type": "code",
   "execution_count": 8,
   "metadata": {},
   "outputs": [
    {
     "output_type": "stream",
     "name": "stdout",
     "text": [
      "20000\n5000\ntensor([[   1,    1,    1,  ...,    6,   10,    8],\n        [  86,  285,   12,  ...,    2,  465,    8],\n        [   1,    1,    1,  ...,  127,  434,    8],\n        ...,\n        [   1,    1,    1,  ..., 3017,    8,    8],\n        [3609,   12,    7,  ...,    9, 2228,    8],\n        [ 419,   84,   11,  ...,    2,  698,    8]])\ntensor([[1.],\n        [1.],\n        [1.],\n        [0.],\n        [1.],\n        [1.],\n        [0.],\n        [1.],\n        [0.],\n        [0.],\n        [1.],\n        [0.],\n        [1.],\n        [0.],\n        [0.],\n        [0.],\n        [0.],\n        [1.],\n        [1.],\n        [1.]])\n"
     ]
    }
   ],
   "source": [
    "import os\n",
    "import torch\n",
    "from  torch.utils.data import Dataset, DataLoader\n",
    "\n",
    "class imdbDataset(Dataset):\n",
    "    def __init__(self, samples_dir):\n",
    "        self.samples_dir = samples_dir\n",
    "        self.samples_paths = os.listdir(samples_dir)\n",
    "\n",
    "    def __len__(self):\n",
    "        return len(self.samples_paths)\n",
    "\n",
    "    def __getitem__(self, index):\n",
    "        path = self.samples_dir + self.samples_paths[index]\n",
    "        with open(path, 'r', encoding='utf-8') as f:\n",
    "            line = f.readline()\n",
    "            label, tokens = line.split('\\t')\n",
    "            label = torch.tensor([float(label)], dtype=torch.float)\n",
    "            feature = torch.tensor([int(x) for x in tokens.split(' ')], dtype=torch.long)\n",
    "            return (feature, label)\n",
    "\n",
    "ds_train = imdbDataset(train_samples_path)\n",
    "ds_test = imdbDataset(test_samples_path)\n",
    "\n",
    "print(len(ds_train))\n",
    "print(len(ds_test))\n",
    "\n",
    "dl_train = DataLoader(dataset=ds_train, batch_size=BATCH_SIZE, shuffle=True)\n",
    "dl_test = DataLoader(dataset=ds_test, batch_size=BATCH_SIZE)\n",
    "\n",
    "for feature, label in dl_train:\n",
    "    print(feature)\n",
    "    print(label)\n",
    "    break"
   ]
  },
  {
   "source": [
    "## 定义模型"
   ],
   "cell_type": "markdown",
   "metadata": {}
  },
  {
   "cell_type": "code",
   "execution_count": 9,
   "metadata": {},
   "outputs": [],
   "source": [
    "import torch\n",
    "from torch import nn\n",
    "import torchkeras"
   ]
  },
  {
   "cell_type": "code",
   "execution_count": 10,
   "metadata": {},
   "outputs": [
    {
     "output_type": "stream",
     "name": "stdout",
     "text": [
      "Net(\n  (embedding): Embedding(10000, 3, padding_idx=1)\n  (conv): Sequential(\n    (conv_1): Conv1d(3, 16, kernel_size=(5,), stride=(1,))\n    (pool_1): MaxPool1d(kernel_size=2, stride=2, padding=0, dilation=1, ceil_mode=False)\n    (relu_1): ReLU()\n    (conv_2): Conv1d(16, 128, kernel_size=(2,), stride=(1,))\n    (pool_2): MaxPool1d(kernel_size=2, stride=2, padding=0, dilation=1, ceil_mode=False)\n    (relu_2): ReLU()\n  )\n  (dense): Sequential(\n    (flatten): Flatten()\n    (linear): Linear(in_features=6144, out_features=1, bias=True)\n    (sigmoid): Sigmoid()\n  )\n)\n----------------------------------------------------------------\n        Layer (type)               Output Shape         Param #\n================================================================\n         Embedding-1               [-1, 200, 3]          30,000\n            Conv1d-2              [-1, 16, 196]             256\n         MaxPool1d-3               [-1, 16, 98]               0\n              ReLU-4               [-1, 16, 98]               0\n            Conv1d-5              [-1, 128, 97]           4,224\n         MaxPool1d-6              [-1, 128, 48]               0\n              ReLU-7              [-1, 128, 48]               0\n           Flatten-8                 [-1, 6144]               0\n            Linear-9                    [-1, 1]           6,145\n          Sigmoid-10                    [-1, 1]               0\n================================================================\nTotal params: 40,625\nTrainable params: 40,625\nNon-trainable params: 0\n----------------------------------------------------------------\nInput size (MB): 0.000763\nForward/backward pass size (MB): 0.287796\nParams size (MB): 0.154972\nEstimated Total Size (MB): 0.443531\n----------------------------------------------------------------\n"
     ]
    }
   ],
   "source": [
    "torch.random.seed()\n",
    "\n",
    "class Net(torchkeras.Model):\n",
    "    def __init__(self):\n",
    "        super(Net, self).__init__()\n",
    "        #设置padding_idx参数后将在训练过程中将填充的token始终赋值为0向量\n",
    "        self.embedding = nn.Embedding(num_embeddings=MAX_WORDS, embedding_dim=3, padding_idx=1)\n",
    "        self.conv = nn.Sequential()\n",
    "        self.conv.add_module(\"conv_1\", nn.Conv1d(in_channels=3, out_channels=16, kernel_size = 5))\n",
    "        self.conv.add_module(\"pool_1\", nn.MaxPool1d(kernel_size=2))\n",
    "        self.conv.add_module(\"relu_1\", nn.ReLU())\n",
    "        self.conv.add_module(\"conv_2\", nn.Conv1d(in_channels=16, out_channels=128, kernel_size=2))\n",
    "        self.conv.add_module(\"pool_2\", nn.MaxPool1d(kernel_size=2))\n",
    "        self.conv.add_module(\"relu_2\", nn.ReLU())\n",
    "\n",
    "        self.dense = nn.Sequential()\n",
    "        self.dense.add_module(\"flatten\", nn.Flatten())\n",
    "        self.dense.add_module(\"linear\", nn.Linear(6144,1))\n",
    "        self.dense.add_module(\"sigmoid\", nn.Sigmoid())\n",
    "\n",
    "    def forward(self, x):\n",
    "        x = self.embedding(x).transpose(1, 2)\n",
    "        x = self.conv(x)\n",
    "        y = self.dense(x)\n",
    "        return y\n",
    "\n",
    "model = Net()\n",
    "print(model)\n",
    "\n",
    "model.summary(input_shape=(200, ), input_dtype=torch.LongTensor)"
   ]
  },
  {
   "source": [
    "## 训练模型"
   ],
   "cell_type": "markdown",
   "metadata": {}
  },
  {
   "cell_type": "code",
   "execution_count": 12,
   "metadata": {},
   "outputs": [],
   "source": [
    "def accuracy(y_pred, y_true):\n",
    "    y_pred = torch.where(y_pred>0.5, torch.ones_like(y_pred,dtype=torch.float32), torch.zeros_like(y_pred,dtype = torch.float32))\n",
    "    acc = torch.mean(1 - torch.abs(y_true-y_pred))\n",
    "    return acc\n",
    "\n",
    "model.compile(loss_func=nn.BCELoss(), optimizer=torch.optim.Adagrad(model.parameters(), lr=0.02), metrics_dict={\"accuracy\":accuracy})"
   ]
  },
  {
   "cell_type": "code",
   "execution_count": 13,
   "metadata": {},
   "outputs": [
    {
     "output_type": "stream",
     "name": "stdout",
     "text": [
      "Start Training ...\n",
      "\n",
      "================================================================================2021-02-03 15:38:08\n",
      "{'step': 200, 'loss': 0.738, 'accuracy': 0.502}\n",
      "{'step': 400, 'loss': 0.715, 'accuracy': 0.514}\n",
      "{'step': 600, 'loss': 0.705, 'accuracy': 0.528}\n",
      "{'step': 800, 'loss': 0.695, 'accuracy': 0.543}\n",
      "{'step': 1000, 'loss': 0.684, 'accuracy': 0.562}\n",
      "\n",
      " +-------+-------+----------+----------+--------------+\n",
      "| epoch |  loss | accuracy | val_loss | val_accuracy |\n",
      "+-------+-------+----------+----------+--------------+\n",
      "|   1   | 0.684 |  0.562   |  0.635   |    0.634     |\n",
      "+-------+-------+----------+----------+--------------+\n",
      "\n",
      "================================================================================2021-02-03 15:40:49\n",
      "{'step': 200, 'loss': 0.588, 'accuracy': 0.683}\n",
      "{'step': 400, 'loss': 0.584, 'accuracy': 0.692}\n",
      "{'step': 600, 'loss': 0.579, 'accuracy': 0.695}\n",
      "{'step': 800, 'loss': 0.574, 'accuracy': 0.699}\n",
      "{'step': 1000, 'loss': 0.569, 'accuracy': 0.702}\n",
      "\n",
      " +-------+-------+----------+----------+--------------+\n",
      "| epoch |  loss | accuracy | val_loss | val_accuracy |\n",
      "+-------+-------+----------+----------+--------------+\n",
      "|   2   | 0.569 |  0.702   |  0.558   |    0.716     |\n",
      "+-------+-------+----------+----------+--------------+\n",
      "\n",
      "================================================================================2021-02-03 15:41:06\n",
      "{'step': 200, 'loss': 0.527, 'accuracy': 0.741}\n",
      "{'step': 400, 'loss': 0.517, 'accuracy': 0.747}\n",
      "{'step': 600, 'loss': 0.505, 'accuracy': 0.753}\n",
      "{'step': 800, 'loss': 0.503, 'accuracy': 0.755}\n",
      "{'step': 1000, 'loss': 0.501, 'accuracy': 0.756}\n",
      "\n",
      " +-------+-------+----------+----------+--------------+\n",
      "| epoch |  loss | accuracy | val_loss | val_accuracy |\n",
      "+-------+-------+----------+----------+--------------+\n",
      "|   3   | 0.501 |  0.756   |  0.514   |    0.749     |\n",
      "+-------+-------+----------+----------+--------------+\n",
      "\n",
      "================================================================================2021-02-03 15:41:24\n",
      "{'step': 200, 'loss': 0.464, 'accuracy': 0.784}\n",
      "{'step': 400, 'loss': 0.466, 'accuracy': 0.78}\n",
      "{'step': 600, 'loss': 0.46, 'accuracy': 0.783}\n",
      "{'step': 800, 'loss': 0.457, 'accuracy': 0.785}\n",
      "{'step': 1000, 'loss': 0.454, 'accuracy': 0.788}\n",
      "\n",
      " +-------+-------+----------+----------+--------------+\n",
      "| epoch |  loss | accuracy | val_loss | val_accuracy |\n",
      "+-------+-------+----------+----------+--------------+\n",
      "|   4   | 0.454 |  0.788   |  0.509   |    0.752     |\n",
      "+-------+-------+----------+----------+--------------+\n",
      "\n",
      "================================================================================2021-02-03 15:41:42\n",
      "{'step': 200, 'loss': 0.423, 'accuracy': 0.813}\n",
      "{'step': 400, 'loss': 0.416, 'accuracy': 0.81}\n",
      "{'step': 600, 'loss': 0.417, 'accuracy': 0.811}\n",
      "{'step': 800, 'loss': 0.418, 'accuracy': 0.81}\n",
      "{'step': 1000, 'loss': 0.416, 'accuracy': 0.81}\n",
      "\n",
      " +-------+-------+----------+----------+--------------+\n",
      "| epoch |  loss | accuracy | val_loss | val_accuracy |\n",
      "+-------+-------+----------+----------+--------------+\n",
      "|   5   | 0.416 |   0.81   |  0.483   |    0.769     |\n",
      "+-------+-------+----------+----------+--------------+\n",
      "\n",
      "================================================================================2021-02-03 15:41:59\n",
      "{'step': 200, 'loss': 0.387, 'accuracy': 0.825}\n",
      "{'step': 400, 'loss': 0.39, 'accuracy': 0.825}\n",
      "{'step': 600, 'loss': 0.383, 'accuracy': 0.831}\n",
      "{'step': 800, 'loss': 0.382, 'accuracy': 0.83}\n",
      "{'step': 1000, 'loss': 0.385, 'accuracy': 0.828}\n",
      "\n",
      " +-------+-------+----------+----------+--------------+\n",
      "| epoch |  loss | accuracy | val_loss | val_accuracy |\n",
      "+-------+-------+----------+----------+--------------+\n",
      "|   6   | 0.385 |  0.828   |  0.475   |    0.779     |\n",
      "+-------+-------+----------+----------+--------------+\n",
      "\n",
      "================================================================================2021-02-03 15:42:17\n",
      "{'step': 200, 'loss': 0.364, 'accuracy': 0.845}\n",
      "{'step': 400, 'loss': 0.355, 'accuracy': 0.849}\n",
      "{'step': 600, 'loss': 0.359, 'accuracy': 0.847}\n",
      "{'step': 800, 'loss': 0.36, 'accuracy': 0.846}\n",
      "{'step': 1000, 'loss': 0.358, 'accuracy': 0.847}\n",
      "\n",
      " +-------+-------+----------+----------+--------------+\n",
      "| epoch |  loss | accuracy | val_loss | val_accuracy |\n",
      "+-------+-------+----------+----------+--------------+\n",
      "|   7   | 0.358 |  0.847   |  0.479   |    0.776     |\n",
      "+-------+-------+----------+----------+--------------+\n",
      "\n",
      "================================================================================2021-02-03 15:42:34\n",
      "{'step': 200, 'loss': 0.335, 'accuracy': 0.861}\n",
      "{'step': 400, 'loss': 0.337, 'accuracy': 0.859}\n",
      "{'step': 600, 'loss': 0.337, 'accuracy': 0.859}\n",
      "{'step': 800, 'loss': 0.337, 'accuracy': 0.857}\n",
      "{'step': 1000, 'loss': 0.336, 'accuracy': 0.858}\n",
      "\n",
      " +-------+-------+----------+----------+--------------+\n",
      "| epoch |  loss | accuracy | val_loss | val_accuracy |\n",
      "+-------+-------+----------+----------+--------------+\n",
      "|   8   | 0.336 |  0.858   |   0.47   |    0.785     |\n",
      "+-------+-------+----------+----------+--------------+\n",
      "\n",
      "================================================================================2021-02-03 15:42:52\n",
      "{'step': 200, 'loss': 0.312, 'accuracy': 0.868}\n",
      "{'step': 400, 'loss': 0.323, 'accuracy': 0.86}\n",
      "{'step': 600, 'loss': 0.318, 'accuracy': 0.863}\n",
      "{'step': 800, 'loss': 0.316, 'accuracy': 0.866}\n",
      "{'step': 1000, 'loss': 0.315, 'accuracy': 0.867}\n",
      "\n",
      " +-------+-------+----------+----------+--------------+\n",
      "| epoch |  loss | accuracy | val_loss | val_accuracy |\n",
      "+-------+-------+----------+----------+--------------+\n",
      "|   9   | 0.315 |  0.867   |  0.474   |    0.791     |\n",
      "+-------+-------+----------+----------+--------------+\n",
      "\n",
      "================================================================================2021-02-03 15:43:10\n",
      "{'step': 200, 'loss': 0.303, 'accuracy': 0.871}\n",
      "{'step': 400, 'loss': 0.298, 'accuracy': 0.876}\n",
      "{'step': 600, 'loss': 0.3, 'accuracy': 0.875}\n",
      "{'step': 800, 'loss': 0.298, 'accuracy': 0.876}\n",
      "{'step': 1000, 'loss': 0.297, 'accuracy': 0.876}\n",
      "\n",
      " +-------+-------+----------+----------+--------------+\n",
      "| epoch |  loss | accuracy | val_loss | val_accuracy |\n",
      "+-------+-------+----------+----------+--------------+\n",
      "|   10  | 0.297 |  0.876   |  0.474   |    0.787     |\n",
      "+-------+-------+----------+----------+--------------+\n",
      "\n",
      "================================================================================2021-02-03 15:43:27\n",
      "{'step': 200, 'loss': 0.276, 'accuracy': 0.892}\n",
      "{'step': 400, 'loss': 0.277, 'accuracy': 0.89}\n",
      "{'step': 600, 'loss': 0.28, 'accuracy': 0.888}\n",
      "{'step': 800, 'loss': 0.281, 'accuracy': 0.888}\n",
      "{'step': 1000, 'loss': 0.28, 'accuracy': 0.888}\n",
      "\n",
      " +-------+------+----------+----------+--------------+\n",
      "| epoch | loss | accuracy | val_loss | val_accuracy |\n",
      "+-------+------+----------+----------+--------------+\n",
      "|   11  | 0.28 |  0.888   |  0.479   |    0.785     |\n",
      "+-------+------+----------+----------+--------------+\n",
      "\n",
      "================================================================================2021-02-03 15:43:46\n",
      "{'step': 200, 'loss': 0.269, 'accuracy': 0.889}\n",
      "{'step': 400, 'loss': 0.263, 'accuracy': 0.894}\n",
      "{'step': 600, 'loss': 0.264, 'accuracy': 0.894}\n",
      "{'step': 800, 'loss': 0.266, 'accuracy': 0.893}\n",
      "{'step': 1000, 'loss': 0.265, 'accuracy': 0.893}\n",
      "\n",
      " +-------+-------+----------+----------+--------------+\n",
      "| epoch |  loss | accuracy | val_loss | val_accuracy |\n",
      "+-------+-------+----------+----------+--------------+\n",
      "|   12  | 0.265 |  0.893   |  0.496   |    0.786     |\n",
      "+-------+-------+----------+----------+--------------+\n",
      "\n",
      "================================================================================2021-02-03 15:44:04\n",
      "{'step': 200, 'loss': 0.242, 'accuracy': 0.907}\n",
      "{'step': 400, 'loss': 0.242, 'accuracy': 0.907}\n",
      "{'step': 600, 'loss': 0.246, 'accuracy': 0.905}\n",
      "{'step': 800, 'loss': 0.248, 'accuracy': 0.902}\n",
      "{'step': 1000, 'loss': 0.251, 'accuracy': 0.901}\n",
      "\n",
      " +-------+-------+----------+----------+--------------+\n",
      "| epoch |  loss | accuracy | val_loss | val_accuracy |\n",
      "+-------+-------+----------+----------+--------------+\n",
      "|   13  | 0.251 |  0.901   |  0.485   |    0.786     |\n",
      "+-------+-------+----------+----------+--------------+\n",
      "\n",
      "================================================================================2021-02-03 15:44:22\n",
      "{'step': 200, 'loss': 0.235, 'accuracy': 0.91}\n",
      "{'step': 400, 'loss': 0.235, 'accuracy': 0.911}\n",
      "{'step': 600, 'loss': 0.236, 'accuracy': 0.91}\n",
      "{'step': 800, 'loss': 0.238, 'accuracy': 0.907}\n",
      "{'step': 1000, 'loss': 0.237, 'accuracy': 0.908}\n",
      "\n",
      " +-------+-------+----------+----------+--------------+\n",
      "| epoch |  loss | accuracy | val_loss | val_accuracy |\n",
      "+-------+-------+----------+----------+--------------+\n",
      "|   14  | 0.237 |  0.908   |  0.492   |    0.786     |\n",
      "+-------+-------+----------+----------+--------------+\n",
      "\n",
      "================================================================================2021-02-03 15:44:41\n",
      "{'step': 200, 'loss': 0.221, 'accuracy': 0.916}\n",
      "{'step': 400, 'loss': 0.227, 'accuracy': 0.914}\n",
      "{'step': 600, 'loss': 0.225, 'accuracy': 0.915}\n",
      "{'step': 800, 'loss': 0.226, 'accuracy': 0.914}\n",
      "{'step': 1000, 'loss': 0.225, 'accuracy': 0.915}\n",
      "\n",
      " +-------+-------+----------+----------+--------------+\n",
      "| epoch |  loss | accuracy | val_loss | val_accuracy |\n",
      "+-------+-------+----------+----------+--------------+\n",
      "|   15  | 0.225 |  0.915   |  0.499   |    0.789     |\n",
      "+-------+-------+----------+----------+--------------+\n",
      "\n",
      "================================================================================2021-02-03 15:44:59\n",
      "{'step': 200, 'loss': 0.203, 'accuracy': 0.924}\n",
      "{'step': 400, 'loss': 0.211, 'accuracy': 0.922}\n",
      "{'step': 600, 'loss': 0.211, 'accuracy': 0.922}\n",
      "{'step': 800, 'loss': 0.214, 'accuracy': 0.921}\n",
      "{'step': 1000, 'loss': 0.214, 'accuracy': 0.921}\n",
      "\n",
      " +-------+-------+----------+----------+--------------+\n",
      "| epoch |  loss | accuracy | val_loss | val_accuracy |\n",
      "+-------+-------+----------+----------+--------------+\n",
      "|   16  | 0.214 |  0.921   |  0.505   |    0.787     |\n",
      "+-------+-------+----------+----------+--------------+\n",
      "\n",
      "================================================================================2021-02-03 15:45:18\n",
      "{'step': 200, 'loss': 0.2, 'accuracy': 0.928}\n",
      "{'step': 400, 'loss': 0.201, 'accuracy': 0.93}\n",
      "{'step': 600, 'loss': 0.202, 'accuracy': 0.928}\n",
      "{'step': 800, 'loss': 0.202, 'accuracy': 0.926}\n",
      "{'step': 1000, 'loss': 0.203, 'accuracy': 0.926}\n",
      "\n",
      " +-------+-------+----------+----------+--------------+\n",
      "| epoch |  loss | accuracy | val_loss | val_accuracy |\n",
      "+-------+-------+----------+----------+--------------+\n",
      "|   17  | 0.203 |  0.926   |   0.51   |    0.785     |\n",
      "+-------+-------+----------+----------+--------------+\n",
      "\n",
      "================================================================================2021-02-03 15:45:38\n",
      "{'step': 200, 'loss': 0.192, 'accuracy': 0.933}\n",
      "{'step': 400, 'loss': 0.19, 'accuracy': 0.935}\n",
      "{'step': 600, 'loss': 0.192, 'accuracy': 0.933}\n",
      "{'step': 800, 'loss': 0.193, 'accuracy': 0.931}\n",
      "{'step': 1000, 'loss': 0.193, 'accuracy': 0.931}\n",
      "\n",
      " +-------+-------+----------+----------+--------------+\n",
      "| epoch |  loss | accuracy | val_loss | val_accuracy |\n",
      "+-------+-------+----------+----------+--------------+\n",
      "|   18  | 0.193 |  0.931   |  0.522   |    0.788     |\n",
      "+-------+-------+----------+----------+--------------+\n",
      "\n",
      "================================================================================2021-02-03 15:45:58\n",
      "{'step': 200, 'loss': 0.183, 'accuracy': 0.934}\n",
      "{'step': 400, 'loss': 0.183, 'accuracy': 0.932}\n",
      "{'step': 600, 'loss': 0.183, 'accuracy': 0.934}\n",
      "{'step': 800, 'loss': 0.183, 'accuracy': 0.934}\n",
      "{'step': 1000, 'loss': 0.184, 'accuracy': 0.933}\n",
      "\n",
      " +-------+-------+----------+----------+--------------+\n",
      "| epoch |  loss | accuracy | val_loss | val_accuracy |\n",
      "+-------+-------+----------+----------+--------------+\n",
      "|   19  | 0.184 |  0.933   |  0.522   |    0.786     |\n",
      "+-------+-------+----------+----------+--------------+\n",
      "\n",
      "================================================================================2021-02-03 15:46:18\n",
      "{'step': 200, 'loss': 0.165, 'accuracy': 0.942}\n",
      "{'step': 400, 'loss': 0.17, 'accuracy': 0.942}\n",
      "{'step': 600, 'loss': 0.171, 'accuracy': 0.942}\n",
      "{'step': 800, 'loss': 0.173, 'accuracy': 0.941}\n",
      "{'step': 1000, 'loss': 0.175, 'accuracy': 0.939}\n",
      "\n",
      " +-------+-------+----------+----------+--------------+\n",
      "| epoch |  loss | accuracy | val_loss | val_accuracy |\n",
      "+-------+-------+----------+----------+--------------+\n",
      "|   20  | 0.175 |  0.939   |  0.544   |    0.787     |\n",
      "+-------+-------+----------+----------+--------------+\n",
      "\n",
      "================================================================================2021-02-03 15:46:37\n",
      "Finished Training...\n"
     ]
    }
   ],
   "source": [
    "# 有时候模型训练过程中不收敛，需要多试几次\n",
    "dfhistory = model.fit(20,dl_train,dl_val=dl_test,log_step_freq= 200)"
   ]
  },
  {
   "source": [
    "## 评估模型"
   ],
   "cell_type": "markdown",
   "metadata": {}
  },
  {
   "cell_type": "code",
   "execution_count": 16,
   "metadata": {},
   "outputs": [],
   "source": [
    "%matplotlib inline\n",
    "%config InlineBackend.figure_format = 'svg'\n",
    "\n",
    "import matplotlib.pyplot as plt\n",
    "\n",
    "def plot_metric(dfhistory, metric):\n",
    "    train_metrics = dfhistory[metric]\n",
    "    val_metrics = dfhistory['val_'+metric]\n",
    "    epochs = range(1, len(train_metrics) + 1)\n",
    "    plt.plot(epochs, train_metrics, 'bo--')\n",
    "    plt.plot(epochs, val_metrics, 'ro-')\n",
    "    plt.title('Training and validation '+ metric)\n",
    "    plt.xlabel(\"Epochs\")\n",
    "    plt.ylabel(metric)\n",
    "    plt.legend([\"train_\"+metric, 'val_'+metric])\n",
    "    plt.show()"
   ]
  },
  {
   "cell_type": "code",
   "execution_count": 17,
   "metadata": {},
   "outputs": [
    {
     "output_type": "display_data",
     "data": {
      "text/plain": "<Figure size 432x288 with 1 Axes>",
      "image/svg+xml": "<?xml version=\"1.0\" encoding=\"utf-8\" standalone=\"no\"?>\r\n<!DOCTYPE svg PUBLIC \"-//W3C//DTD SVG 1.1//EN\"\r\n  \"http://www.w3.org/Graphics/SVG/1.1/DTD/svg11.dtd\">\r\n<!-- Created with matplotlib (https://matplotlib.org/) -->\r\n<svg height=\"277.314375pt\" version=\"1.1\" viewBox=\"0 0 385.78125 277.314375\" width=\"385.78125pt\" xmlns=\"http://www.w3.org/2000/svg\" xmlns:xlink=\"http://www.w3.org/1999/xlink\">\r\n <metadata>\r\n  <rdf:RDF xmlns:cc=\"http://creativecommons.org/ns#\" xmlns:dc=\"http://purl.org/dc/elements/1.1/\" xmlns:rdf=\"http://www.w3.org/1999/02/22-rdf-syntax-ns#\">\r\n   <cc:Work>\r\n    <dc:type rdf:resource=\"http://purl.org/dc/dcmitype/StillImage\"/>\r\n    <dc:date>2021-02-03T15:47:25.951747</dc:date>\r\n    <dc:format>image/svg+xml</dc:format>\r\n    <dc:creator>\r\n     <cc:Agent>\r\n      <dc:title>Matplotlib v3.3.1, https://matplotlib.org/</dc:title>\r\n     </cc:Agent>\r\n    </dc:creator>\r\n   </cc:Work>\r\n  </rdf:RDF>\r\n </metadata>\r\n <defs>\r\n  <style type=\"text/css\">*{stroke-linecap:butt;stroke-linejoin:round;}</style>\r\n </defs>\r\n <g id=\"figure_1\">\r\n  <g id=\"patch_1\">\r\n   <path d=\"M 0 277.314375 \r\nL 385.78125 277.314375 \r\nL 385.78125 0 \r\nL 0 0 \r\nz\r\n\" style=\"fill:none;\"/>\r\n  </g>\r\n  <g id=\"axes_1\">\r\n   <g id=\"patch_2\">\r\n    <path d=\"M 43.78125 239.758125 \r\nL 378.58125 239.758125 \r\nL 378.58125 22.318125 \r\nL 43.78125 22.318125 \r\nz\r\n\" style=\"fill:#ffffff;\"/>\r\n   </g>\r\n   <g id=\"matplotlib.axis_1\">\r\n    <g id=\"xtick_1\">\r\n     <g id=\"line2d_1\">\r\n      <defs>\r\n       <path d=\"M 0 0 \r\nL 0 3.5 \r\n\" id=\"m77995da4a2\" style=\"stroke:#000000;stroke-width:0.8;\"/>\r\n      </defs>\r\n      <g>\r\n       <use style=\"stroke:#000000;stroke-width:0.8;\" x=\"83.02814\" xlink:href=\"#m77995da4a2\" y=\"239.758125\"/>\r\n      </g>\r\n     </g>\r\n     <g id=\"text_1\">\r\n      <!-- 2.5 -->\r\n      <g transform=\"translate(75.076577 254.356562)scale(0.1 -0.1)\">\r\n       <defs>\r\n        <path d=\"M 19.1875 8.296875 \r\nL 53.609375 8.296875 \r\nL 53.609375 0 \r\nL 7.328125 0 \r\nL 7.328125 8.296875 \r\nQ 12.9375 14.109375 22.625 23.890625 \r\nQ 32.328125 33.6875 34.8125 36.53125 \r\nQ 39.546875 41.84375 41.421875 45.53125 \r\nQ 43.3125 49.21875 43.3125 52.78125 \r\nQ 43.3125 58.59375 39.234375 62.25 \r\nQ 35.15625 65.921875 28.609375 65.921875 \r\nQ 23.96875 65.921875 18.8125 64.3125 \r\nQ 13.671875 62.703125 7.8125 59.421875 \r\nL 7.8125 69.390625 \r\nQ 13.765625 71.78125 18.9375 73 \r\nQ 24.125 74.21875 28.421875 74.21875 \r\nQ 39.75 74.21875 46.484375 68.546875 \r\nQ 53.21875 62.890625 53.21875 53.421875 \r\nQ 53.21875 48.921875 51.53125 44.890625 \r\nQ 49.859375 40.875 45.40625 35.40625 \r\nQ 44.1875 33.984375 37.640625 27.21875 \r\nQ 31.109375 20.453125 19.1875 8.296875 \r\nz\r\n\" id=\"DejaVuSans-50\"/>\r\n        <path d=\"M 10.6875 12.40625 \r\nL 21 12.40625 \r\nL 21 0 \r\nL 10.6875 0 \r\nz\r\n\" id=\"DejaVuSans-46\"/>\r\n        <path d=\"M 10.796875 72.90625 \r\nL 49.515625 72.90625 \r\nL 49.515625 64.59375 \r\nL 19.828125 64.59375 \r\nL 19.828125 46.734375 \r\nQ 21.96875 47.46875 24.109375 47.828125 \r\nQ 26.265625 48.1875 28.421875 48.1875 \r\nQ 40.625 48.1875 47.75 41.5 \r\nQ 54.890625 34.8125 54.890625 23.390625 \r\nQ 54.890625 11.625 47.5625 5.09375 \r\nQ 40.234375 -1.421875 26.90625 -1.421875 \r\nQ 22.3125 -1.421875 17.546875 -0.640625 \r\nQ 12.796875 0.140625 7.71875 1.703125 \r\nL 7.71875 11.625 \r\nQ 12.109375 9.234375 16.796875 8.0625 \r\nQ 21.484375 6.890625 26.703125 6.890625 \r\nQ 35.15625 6.890625 40.078125 11.328125 \r\nQ 45.015625 15.765625 45.015625 23.390625 \r\nQ 45.015625 31 40.078125 35.4375 \r\nQ 35.15625 39.890625 26.703125 39.890625 \r\nQ 22.75 39.890625 18.8125 39.015625 \r\nQ 14.890625 38.140625 10.796875 36.28125 \r\nz\r\n\" id=\"DejaVuSans-53\"/>\r\n       </defs>\r\n       <use xlink:href=\"#DejaVuSans-50\"/>\r\n       <use x=\"63.623047\" xlink:href=\"#DejaVuSans-46\"/>\r\n       <use x=\"95.410156\" xlink:href=\"#DejaVuSans-53\"/>\r\n      </g>\r\n     </g>\r\n    </g>\r\n    <g id=\"xtick_2\">\r\n     <g id=\"line2d_2\">\r\n      <g>\r\n       <use style=\"stroke:#000000;stroke-width:0.8;\" x=\"123.075987\" xlink:href=\"#m77995da4a2\" y=\"239.758125\"/>\r\n      </g>\r\n     </g>\r\n     <g id=\"text_2\">\r\n      <!-- 5.0 -->\r\n      <g transform=\"translate(115.124424 254.356562)scale(0.1 -0.1)\">\r\n       <defs>\r\n        <path d=\"M 31.78125 66.40625 \r\nQ 24.171875 66.40625 20.328125 58.90625 \r\nQ 16.5 51.421875 16.5 36.375 \r\nQ 16.5 21.390625 20.328125 13.890625 \r\nQ 24.171875 6.390625 31.78125 6.390625 \r\nQ 39.453125 6.390625 43.28125 13.890625 \r\nQ 47.125 21.390625 47.125 36.375 \r\nQ 47.125 51.421875 43.28125 58.90625 \r\nQ 39.453125 66.40625 31.78125 66.40625 \r\nz\r\nM 31.78125 74.21875 \r\nQ 44.046875 74.21875 50.515625 64.515625 \r\nQ 56.984375 54.828125 56.984375 36.375 \r\nQ 56.984375 17.96875 50.515625 8.265625 \r\nQ 44.046875 -1.421875 31.78125 -1.421875 \r\nQ 19.53125 -1.421875 13.0625 8.265625 \r\nQ 6.59375 17.96875 6.59375 36.375 \r\nQ 6.59375 54.828125 13.0625 64.515625 \r\nQ 19.53125 74.21875 31.78125 74.21875 \r\nz\r\n\" id=\"DejaVuSans-48\"/>\r\n       </defs>\r\n       <use xlink:href=\"#DejaVuSans-53\"/>\r\n       <use x=\"63.623047\" xlink:href=\"#DejaVuSans-46\"/>\r\n       <use x=\"95.410156\" xlink:href=\"#DejaVuSans-48\"/>\r\n      </g>\r\n     </g>\r\n    </g>\r\n    <g id=\"xtick_3\">\r\n     <g id=\"line2d_3\">\r\n      <g>\r\n       <use style=\"stroke:#000000;stroke-width:0.8;\" x=\"163.123834\" xlink:href=\"#m77995da4a2\" y=\"239.758125\"/>\r\n      </g>\r\n     </g>\r\n     <g id=\"text_3\">\r\n      <!-- 7.5 -->\r\n      <g transform=\"translate(155.172271 254.356562)scale(0.1 -0.1)\">\r\n       <defs>\r\n        <path d=\"M 8.203125 72.90625 \r\nL 55.078125 72.90625 \r\nL 55.078125 68.703125 \r\nL 28.609375 0 \r\nL 18.3125 0 \r\nL 43.21875 64.59375 \r\nL 8.203125 64.59375 \r\nz\r\n\" id=\"DejaVuSans-55\"/>\r\n       </defs>\r\n       <use xlink:href=\"#DejaVuSans-55\"/>\r\n       <use x=\"63.623047\" xlink:href=\"#DejaVuSans-46\"/>\r\n       <use x=\"95.410156\" xlink:href=\"#DejaVuSans-53\"/>\r\n      </g>\r\n     </g>\r\n    </g>\r\n    <g id=\"xtick_4\">\r\n     <g id=\"line2d_4\">\r\n      <g>\r\n       <use style=\"stroke:#000000;stroke-width:0.8;\" x=\"203.171681\" xlink:href=\"#m77995da4a2\" y=\"239.758125\"/>\r\n      </g>\r\n     </g>\r\n     <g id=\"text_4\">\r\n      <!-- 10.0 -->\r\n      <g transform=\"translate(192.038868 254.356562)scale(0.1 -0.1)\">\r\n       <defs>\r\n        <path d=\"M 12.40625 8.296875 \r\nL 28.515625 8.296875 \r\nL 28.515625 63.921875 \r\nL 10.984375 60.40625 \r\nL 10.984375 69.390625 \r\nL 28.421875 72.90625 \r\nL 38.28125 72.90625 \r\nL 38.28125 8.296875 \r\nL 54.390625 8.296875 \r\nL 54.390625 0 \r\nL 12.40625 0 \r\nz\r\n\" id=\"DejaVuSans-49\"/>\r\n       </defs>\r\n       <use xlink:href=\"#DejaVuSans-49\"/>\r\n       <use x=\"63.623047\" xlink:href=\"#DejaVuSans-48\"/>\r\n       <use x=\"127.246094\" xlink:href=\"#DejaVuSans-46\"/>\r\n       <use x=\"159.033203\" xlink:href=\"#DejaVuSans-48\"/>\r\n      </g>\r\n     </g>\r\n    </g>\r\n    <g id=\"xtick_5\">\r\n     <g id=\"line2d_5\">\r\n      <g>\r\n       <use style=\"stroke:#000000;stroke-width:0.8;\" x=\"243.219528\" xlink:href=\"#m77995da4a2\" y=\"239.758125\"/>\r\n      </g>\r\n     </g>\r\n     <g id=\"text_5\">\r\n      <!-- 12.5 -->\r\n      <g transform=\"translate(232.086715 254.356562)scale(0.1 -0.1)\">\r\n       <use xlink:href=\"#DejaVuSans-49\"/>\r\n       <use x=\"63.623047\" xlink:href=\"#DejaVuSans-50\"/>\r\n       <use x=\"127.246094\" xlink:href=\"#DejaVuSans-46\"/>\r\n       <use x=\"159.033203\" xlink:href=\"#DejaVuSans-53\"/>\r\n      </g>\r\n     </g>\r\n    </g>\r\n    <g id=\"xtick_6\">\r\n     <g id=\"line2d_6\">\r\n      <g>\r\n       <use style=\"stroke:#000000;stroke-width:0.8;\" x=\"283.267374\" xlink:href=\"#m77995da4a2\" y=\"239.758125\"/>\r\n      </g>\r\n     </g>\r\n     <g id=\"text_6\">\r\n      <!-- 15.0 -->\r\n      <g transform=\"translate(272.134562 254.356562)scale(0.1 -0.1)\">\r\n       <use xlink:href=\"#DejaVuSans-49\"/>\r\n       <use x=\"63.623047\" xlink:href=\"#DejaVuSans-53\"/>\r\n       <use x=\"127.246094\" xlink:href=\"#DejaVuSans-46\"/>\r\n       <use x=\"159.033203\" xlink:href=\"#DejaVuSans-48\"/>\r\n      </g>\r\n     </g>\r\n    </g>\r\n    <g id=\"xtick_7\">\r\n     <g id=\"line2d_7\">\r\n      <g>\r\n       <use style=\"stroke:#000000;stroke-width:0.8;\" x=\"323.315221\" xlink:href=\"#m77995da4a2\" y=\"239.758125\"/>\r\n      </g>\r\n     </g>\r\n     <g id=\"text_7\">\r\n      <!-- 17.5 -->\r\n      <g transform=\"translate(312.182409 254.356562)scale(0.1 -0.1)\">\r\n       <use xlink:href=\"#DejaVuSans-49\"/>\r\n       <use x=\"63.623047\" xlink:href=\"#DejaVuSans-55\"/>\r\n       <use x=\"127.246094\" xlink:href=\"#DejaVuSans-46\"/>\r\n       <use x=\"159.033203\" xlink:href=\"#DejaVuSans-53\"/>\r\n      </g>\r\n     </g>\r\n    </g>\r\n    <g id=\"xtick_8\">\r\n     <g id=\"line2d_8\">\r\n      <g>\r\n       <use style=\"stroke:#000000;stroke-width:0.8;\" x=\"363.363068\" xlink:href=\"#m77995da4a2\" y=\"239.758125\"/>\r\n      </g>\r\n     </g>\r\n     <g id=\"text_8\">\r\n      <!-- 20.0 -->\r\n      <g transform=\"translate(352.230256 254.356562)scale(0.1 -0.1)\">\r\n       <use xlink:href=\"#DejaVuSans-50\"/>\r\n       <use x=\"63.623047\" xlink:href=\"#DejaVuSans-48\"/>\r\n       <use x=\"127.246094\" xlink:href=\"#DejaVuSans-46\"/>\r\n       <use x=\"159.033203\" xlink:href=\"#DejaVuSans-48\"/>\r\n      </g>\r\n     </g>\r\n    </g>\r\n    <g id=\"text_9\">\r\n     <!-- Epochs -->\r\n     <g transform=\"translate(193.265625 268.034687)scale(0.1 -0.1)\">\r\n      <defs>\r\n       <path d=\"M 9.8125 72.90625 \r\nL 55.90625 72.90625 \r\nL 55.90625 64.59375 \r\nL 19.671875 64.59375 \r\nL 19.671875 43.015625 \r\nL 54.390625 43.015625 \r\nL 54.390625 34.71875 \r\nL 19.671875 34.71875 \r\nL 19.671875 8.296875 \r\nL 56.78125 8.296875 \r\nL 56.78125 0 \r\nL 9.8125 0 \r\nz\r\n\" id=\"DejaVuSans-69\"/>\r\n       <path d=\"M 18.109375 8.203125 \r\nL 18.109375 -20.796875 \r\nL 9.078125 -20.796875 \r\nL 9.078125 54.6875 \r\nL 18.109375 54.6875 \r\nL 18.109375 46.390625 \r\nQ 20.953125 51.265625 25.265625 53.625 \r\nQ 29.59375 56 35.59375 56 \r\nQ 45.5625 56 51.78125 48.09375 \r\nQ 58.015625 40.1875 58.015625 27.296875 \r\nQ 58.015625 14.40625 51.78125 6.484375 \r\nQ 45.5625 -1.421875 35.59375 -1.421875 \r\nQ 29.59375 -1.421875 25.265625 0.953125 \r\nQ 20.953125 3.328125 18.109375 8.203125 \r\nz\r\nM 48.6875 27.296875 \r\nQ 48.6875 37.203125 44.609375 42.84375 \r\nQ 40.53125 48.484375 33.40625 48.484375 \r\nQ 26.265625 48.484375 22.1875 42.84375 \r\nQ 18.109375 37.203125 18.109375 27.296875 \r\nQ 18.109375 17.390625 22.1875 11.75 \r\nQ 26.265625 6.109375 33.40625 6.109375 \r\nQ 40.53125 6.109375 44.609375 11.75 \r\nQ 48.6875 17.390625 48.6875 27.296875 \r\nz\r\n\" id=\"DejaVuSans-112\"/>\r\n       <path d=\"M 30.609375 48.390625 \r\nQ 23.390625 48.390625 19.1875 42.75 \r\nQ 14.984375 37.109375 14.984375 27.296875 \r\nQ 14.984375 17.484375 19.15625 11.84375 \r\nQ 23.34375 6.203125 30.609375 6.203125 \r\nQ 37.796875 6.203125 41.984375 11.859375 \r\nQ 46.1875 17.53125 46.1875 27.296875 \r\nQ 46.1875 37.015625 41.984375 42.703125 \r\nQ 37.796875 48.390625 30.609375 48.390625 \r\nz\r\nM 30.609375 56 \r\nQ 42.328125 56 49.015625 48.375 \r\nQ 55.71875 40.765625 55.71875 27.296875 \r\nQ 55.71875 13.875 49.015625 6.21875 \r\nQ 42.328125 -1.421875 30.609375 -1.421875 \r\nQ 18.84375 -1.421875 12.171875 6.21875 \r\nQ 5.515625 13.875 5.515625 27.296875 \r\nQ 5.515625 40.765625 12.171875 48.375 \r\nQ 18.84375 56 30.609375 56 \r\nz\r\n\" id=\"DejaVuSans-111\"/>\r\n       <path d=\"M 48.78125 52.59375 \r\nL 48.78125 44.1875 \r\nQ 44.96875 46.296875 41.140625 47.34375 \r\nQ 37.3125 48.390625 33.40625 48.390625 \r\nQ 24.65625 48.390625 19.8125 42.84375 \r\nQ 14.984375 37.3125 14.984375 27.296875 \r\nQ 14.984375 17.28125 19.8125 11.734375 \r\nQ 24.65625 6.203125 33.40625 6.203125 \r\nQ 37.3125 6.203125 41.140625 7.25 \r\nQ 44.96875 8.296875 48.78125 10.40625 \r\nL 48.78125 2.09375 \r\nQ 45.015625 0.34375 40.984375 -0.53125 \r\nQ 36.96875 -1.421875 32.421875 -1.421875 \r\nQ 20.0625 -1.421875 12.78125 6.34375 \r\nQ 5.515625 14.109375 5.515625 27.296875 \r\nQ 5.515625 40.671875 12.859375 48.328125 \r\nQ 20.21875 56 33.015625 56 \r\nQ 37.15625 56 41.109375 55.140625 \r\nQ 45.0625 54.296875 48.78125 52.59375 \r\nz\r\n\" id=\"DejaVuSans-99\"/>\r\n       <path d=\"M 54.890625 33.015625 \r\nL 54.890625 0 \r\nL 45.90625 0 \r\nL 45.90625 32.71875 \r\nQ 45.90625 40.484375 42.875 44.328125 \r\nQ 39.84375 48.1875 33.796875 48.1875 \r\nQ 26.515625 48.1875 22.3125 43.546875 \r\nQ 18.109375 38.921875 18.109375 30.90625 \r\nL 18.109375 0 \r\nL 9.078125 0 \r\nL 9.078125 75.984375 \r\nL 18.109375 75.984375 \r\nL 18.109375 46.1875 \r\nQ 21.34375 51.125 25.703125 53.5625 \r\nQ 30.078125 56 35.796875 56 \r\nQ 45.21875 56 50.046875 50.171875 \r\nQ 54.890625 44.34375 54.890625 33.015625 \r\nz\r\n\" id=\"DejaVuSans-104\"/>\r\n       <path d=\"M 44.28125 53.078125 \r\nL 44.28125 44.578125 \r\nQ 40.484375 46.53125 36.375 47.5 \r\nQ 32.28125 48.484375 27.875 48.484375 \r\nQ 21.1875 48.484375 17.84375 46.4375 \r\nQ 14.5 44.390625 14.5 40.28125 \r\nQ 14.5 37.15625 16.890625 35.375 \r\nQ 19.28125 33.59375 26.515625 31.984375 \r\nL 29.59375 31.296875 \r\nQ 39.15625 29.25 43.1875 25.515625 \r\nQ 47.21875 21.78125 47.21875 15.09375 \r\nQ 47.21875 7.46875 41.1875 3.015625 \r\nQ 35.15625 -1.421875 24.609375 -1.421875 \r\nQ 20.21875 -1.421875 15.453125 -0.5625 \r\nQ 10.6875 0.296875 5.421875 2 \r\nL 5.421875 11.28125 \r\nQ 10.40625 8.6875 15.234375 7.390625 \r\nQ 20.0625 6.109375 24.8125 6.109375 \r\nQ 31.15625 6.109375 34.5625 8.28125 \r\nQ 37.984375 10.453125 37.984375 14.40625 \r\nQ 37.984375 18.0625 35.515625 20.015625 \r\nQ 33.0625 21.96875 24.703125 23.78125 \r\nL 21.578125 24.515625 \r\nQ 13.234375 26.265625 9.515625 29.90625 \r\nQ 5.8125 33.546875 5.8125 39.890625 \r\nQ 5.8125 47.609375 11.28125 51.796875 \r\nQ 16.75 56 26.8125 56 \r\nQ 31.78125 56 36.171875 55.265625 \r\nQ 40.578125 54.546875 44.28125 53.078125 \r\nz\r\n\" id=\"DejaVuSans-115\"/>\r\n      </defs>\r\n      <use xlink:href=\"#DejaVuSans-69\"/>\r\n      <use x=\"63.183594\" xlink:href=\"#DejaVuSans-112\"/>\r\n      <use x=\"126.660156\" xlink:href=\"#DejaVuSans-111\"/>\r\n      <use x=\"187.841797\" xlink:href=\"#DejaVuSans-99\"/>\r\n      <use x=\"242.822266\" xlink:href=\"#DejaVuSans-104\"/>\r\n      <use x=\"306.201172\" xlink:href=\"#DejaVuSans-115\"/>\r\n     </g>\r\n    </g>\r\n   </g>\r\n   <g id=\"matplotlib.axis_2\">\r\n    <g id=\"ytick_1\">\r\n     <g id=\"line2d_9\">\r\n      <defs>\r\n       <path d=\"M 0 0 \r\nL -3.5 0 \r\n\" id=\"m1c290398d8\" style=\"stroke:#000000;stroke-width:0.8;\"/>\r\n      </defs>\r\n      <g>\r\n       <use style=\"stroke:#000000;stroke-width:0.8;\" x=\"43.78125\" xlink:href=\"#m1c290398d8\" y=\"220.057113\"/>\r\n      </g>\r\n     </g>\r\n     <g id=\"text_10\">\r\n      <!-- 0.2 -->\r\n      <g transform=\"translate(20.878125 223.856332)scale(0.1 -0.1)\">\r\n       <use xlink:href=\"#DejaVuSans-48\"/>\r\n       <use x=\"63.623047\" xlink:href=\"#DejaVuSans-46\"/>\r\n       <use x=\"95.410156\" xlink:href=\"#DejaVuSans-50\"/>\r\n      </g>\r\n     </g>\r\n    </g>\r\n    <g id=\"ytick_2\">\r\n     <g id=\"line2d_10\">\r\n      <g>\r\n       <use style=\"stroke:#000000;stroke-width:0.8;\" x=\"43.78125\" xlink:href=\"#m1c290398d8\" y=\"181.217871\"/>\r\n      </g>\r\n     </g>\r\n     <g id=\"text_11\">\r\n      <!-- 0.3 -->\r\n      <g transform=\"translate(20.878125 185.01709)scale(0.1 -0.1)\">\r\n       <defs>\r\n        <path d=\"M 40.578125 39.3125 \r\nQ 47.65625 37.796875 51.625 33 \r\nQ 55.609375 28.21875 55.609375 21.1875 \r\nQ 55.609375 10.40625 48.1875 4.484375 \r\nQ 40.765625 -1.421875 27.09375 -1.421875 \r\nQ 22.515625 -1.421875 17.65625 -0.515625 \r\nQ 12.796875 0.390625 7.625 2.203125 \r\nL 7.625 11.71875 \r\nQ 11.71875 9.328125 16.59375 8.109375 \r\nQ 21.484375 6.890625 26.8125 6.890625 \r\nQ 36.078125 6.890625 40.9375 10.546875 \r\nQ 45.796875 14.203125 45.796875 21.1875 \r\nQ 45.796875 27.640625 41.28125 31.265625 \r\nQ 36.765625 34.90625 28.71875 34.90625 \r\nL 20.21875 34.90625 \r\nL 20.21875 43.015625 \r\nL 29.109375 43.015625 \r\nQ 36.375 43.015625 40.234375 45.921875 \r\nQ 44.09375 48.828125 44.09375 54.296875 \r\nQ 44.09375 59.90625 40.109375 62.90625 \r\nQ 36.140625 65.921875 28.71875 65.921875 \r\nQ 24.65625 65.921875 20.015625 65.03125 \r\nQ 15.375 64.15625 9.8125 62.3125 \r\nL 9.8125 71.09375 \r\nQ 15.4375 72.65625 20.34375 73.4375 \r\nQ 25.25 74.21875 29.59375 74.21875 \r\nQ 40.828125 74.21875 47.359375 69.109375 \r\nQ 53.90625 64.015625 53.90625 55.328125 \r\nQ 53.90625 49.265625 50.4375 45.09375 \r\nQ 46.96875 40.921875 40.578125 39.3125 \r\nz\r\n\" id=\"DejaVuSans-51\"/>\r\n       </defs>\r\n       <use xlink:href=\"#DejaVuSans-48\"/>\r\n       <use x=\"63.623047\" xlink:href=\"#DejaVuSans-46\"/>\r\n       <use x=\"95.410156\" xlink:href=\"#DejaVuSans-51\"/>\r\n      </g>\r\n     </g>\r\n    </g>\r\n    <g id=\"ytick_3\">\r\n     <g id=\"line2d_11\">\r\n      <g>\r\n       <use style=\"stroke:#000000;stroke-width:0.8;\" x=\"43.78125\" xlink:href=\"#m1c290398d8\" y=\"142.378629\"/>\r\n      </g>\r\n     </g>\r\n     <g id=\"text_12\">\r\n      <!-- 0.4 -->\r\n      <g transform=\"translate(20.878125 146.177848)scale(0.1 -0.1)\">\r\n       <defs>\r\n        <path d=\"M 37.796875 64.3125 \r\nL 12.890625 25.390625 \r\nL 37.796875 25.390625 \r\nz\r\nM 35.203125 72.90625 \r\nL 47.609375 72.90625 \r\nL 47.609375 25.390625 \r\nL 58.015625 25.390625 \r\nL 58.015625 17.1875 \r\nL 47.609375 17.1875 \r\nL 47.609375 0 \r\nL 37.796875 0 \r\nL 37.796875 17.1875 \r\nL 4.890625 17.1875 \r\nL 4.890625 26.703125 \r\nz\r\n\" id=\"DejaVuSans-52\"/>\r\n       </defs>\r\n       <use xlink:href=\"#DejaVuSans-48\"/>\r\n       <use x=\"63.623047\" xlink:href=\"#DejaVuSans-46\"/>\r\n       <use x=\"95.410156\" xlink:href=\"#DejaVuSans-52\"/>\r\n      </g>\r\n     </g>\r\n    </g>\r\n    <g id=\"ytick_4\">\r\n     <g id=\"line2d_12\">\r\n      <g>\r\n       <use style=\"stroke:#000000;stroke-width:0.8;\" x=\"43.78125\" xlink:href=\"#m1c290398d8\" y=\"103.539387\"/>\r\n      </g>\r\n     </g>\r\n     <g id=\"text_13\">\r\n      <!-- 0.5 -->\r\n      <g transform=\"translate(20.878125 107.338606)scale(0.1 -0.1)\">\r\n       <use xlink:href=\"#DejaVuSans-48\"/>\r\n       <use x=\"63.623047\" xlink:href=\"#DejaVuSans-46\"/>\r\n       <use x=\"95.410156\" xlink:href=\"#DejaVuSans-53\"/>\r\n      </g>\r\n     </g>\r\n    </g>\r\n    <g id=\"ytick_5\">\r\n     <g id=\"line2d_13\">\r\n      <g>\r\n       <use style=\"stroke:#000000;stroke-width:0.8;\" x=\"43.78125\" xlink:href=\"#m1c290398d8\" y=\"64.700145\"/>\r\n      </g>\r\n     </g>\r\n     <g id=\"text_14\">\r\n      <!-- 0.6 -->\r\n      <g transform=\"translate(20.878125 68.499364)scale(0.1 -0.1)\">\r\n       <defs>\r\n        <path d=\"M 33.015625 40.375 \r\nQ 26.375 40.375 22.484375 35.828125 \r\nQ 18.609375 31.296875 18.609375 23.390625 \r\nQ 18.609375 15.53125 22.484375 10.953125 \r\nQ 26.375 6.390625 33.015625 6.390625 \r\nQ 39.65625 6.390625 43.53125 10.953125 \r\nQ 47.40625 15.53125 47.40625 23.390625 \r\nQ 47.40625 31.296875 43.53125 35.828125 \r\nQ 39.65625 40.375 33.015625 40.375 \r\nz\r\nM 52.59375 71.296875 \r\nL 52.59375 62.3125 \r\nQ 48.875 64.0625 45.09375 64.984375 \r\nQ 41.3125 65.921875 37.59375 65.921875 \r\nQ 27.828125 65.921875 22.671875 59.328125 \r\nQ 17.53125 52.734375 16.796875 39.40625 \r\nQ 19.671875 43.65625 24.015625 45.921875 \r\nQ 28.375 48.1875 33.59375 48.1875 \r\nQ 44.578125 48.1875 50.953125 41.515625 \r\nQ 57.328125 34.859375 57.328125 23.390625 \r\nQ 57.328125 12.15625 50.6875 5.359375 \r\nQ 44.046875 -1.421875 33.015625 -1.421875 \r\nQ 20.359375 -1.421875 13.671875 8.265625 \r\nQ 6.984375 17.96875 6.984375 36.375 \r\nQ 6.984375 53.65625 15.1875 63.9375 \r\nQ 23.390625 74.21875 37.203125 74.21875 \r\nQ 40.921875 74.21875 44.703125 73.484375 \r\nQ 48.484375 72.75 52.59375 71.296875 \r\nz\r\n\" id=\"DejaVuSans-54\"/>\r\n       </defs>\r\n       <use xlink:href=\"#DejaVuSans-48\"/>\r\n       <use x=\"63.623047\" xlink:href=\"#DejaVuSans-46\"/>\r\n       <use x=\"95.410156\" xlink:href=\"#DejaVuSans-54\"/>\r\n      </g>\r\n     </g>\r\n    </g>\r\n    <g id=\"ytick_6\">\r\n     <g id=\"line2d_14\">\r\n      <g>\r\n       <use style=\"stroke:#000000;stroke-width:0.8;\" x=\"43.78125\" xlink:href=\"#m1c290398d8\" y=\"25.860903\"/>\r\n      </g>\r\n     </g>\r\n     <g id=\"text_15\">\r\n      <!-- 0.7 -->\r\n      <g transform=\"translate(20.878125 29.660122)scale(0.1 -0.1)\">\r\n       <use xlink:href=\"#DejaVuSans-48\"/>\r\n       <use x=\"63.623047\" xlink:href=\"#DejaVuSans-46\"/>\r\n       <use x=\"95.410156\" xlink:href=\"#DejaVuSans-55\"/>\r\n      </g>\r\n     </g>\r\n    </g>\r\n    <g id=\"text_16\">\r\n     <!-- loss -->\r\n     <g transform=\"translate(14.798438 140.695937)rotate(-90)scale(0.1 -0.1)\">\r\n      <defs>\r\n       <path d=\"M 9.421875 75.984375 \r\nL 18.40625 75.984375 \r\nL 18.40625 0 \r\nL 9.421875 0 \r\nz\r\n\" id=\"DejaVuSans-108\"/>\r\n      </defs>\r\n      <use xlink:href=\"#DejaVuSans-108\"/>\r\n      <use x=\"27.783203\" xlink:href=\"#DejaVuSans-111\"/>\r\n      <use x=\"88.964844\" xlink:href=\"#DejaVuSans-115\"/>\r\n      <use x=\"141.064453\" xlink:href=\"#DejaVuSans-115\"/>\r\n     </g>\r\n    </g>\r\n   </g>\r\n   <g id=\"line2d_15\">\r\n    <path clip-path=\"url(#p6ae843841f)\" d=\"M 58.999432 32.201761 \r\nL 75.018571 76.915417 \r\nL 91.037709 103.018319 \r\nL 107.056848 121.390763 \r\nL 123.075987 136.175417 \r\nL 139.095126 148.267083 \r\nL 155.114264 158.510328 \r\nL 171.133403 167.319048 \r\nL 187.152542 175.334611 \r\nL 203.171681 182.286946 \r\nL 219.190819 189.09135 \r\nL 235.209958 194.851574 \r\nL 251.229097 200.313134 \r\nL 267.248236 205.614199 \r\nL 283.267374 210.366458 \r\nL 299.286513 214.72597 \r\nL 315.305652 218.944328 \r\nL 331.324791 222.781793 \r\nL 347.343929 226.194598 \r\nL 363.363068 229.874489 \r\n\" style=\"fill:none;stroke:#0000ff;stroke-dasharray:5.55,2.4;stroke-dashoffset:0;stroke-width:1.5;\"/>\r\n    <defs>\r\n     <path d=\"M 0 3 \r\nC 0.795609 3 1.55874 2.683901 2.12132 2.12132 \r\nC 2.683901 1.55874 3 0.795609 3 0 \r\nC 3 -0.795609 2.683901 -1.55874 2.12132 -2.12132 \r\nC 1.55874 -2.683901 0.795609 -3 0 -3 \r\nC -0.795609 -3 -1.55874 -2.683901 -2.12132 -2.12132 \r\nC -2.683901 -1.55874 -3 -0.795609 -3 0 \r\nC -3 0.795609 -2.683901 1.55874 -2.12132 2.12132 \r\nC -1.55874 2.683901 -0.795609 3 0 3 \r\nz\r\n\" id=\"m5bb66c0e78\" style=\"stroke:#0000ff;\"/>\r\n    </defs>\r\n    <g clip-path=\"url(#p6ae843841f)\">\r\n     <use style=\"fill:#0000ff;stroke:#0000ff;\" x=\"58.999432\" xlink:href=\"#m5bb66c0e78\" y=\"32.201761\"/>\r\n     <use style=\"fill:#0000ff;stroke:#0000ff;\" x=\"75.018571\" xlink:href=\"#m5bb66c0e78\" y=\"76.915417\"/>\r\n     <use style=\"fill:#0000ff;stroke:#0000ff;\" x=\"91.037709\" xlink:href=\"#m5bb66c0e78\" y=\"103.018319\"/>\r\n     <use style=\"fill:#0000ff;stroke:#0000ff;\" x=\"107.056848\" xlink:href=\"#m5bb66c0e78\" y=\"121.390763\"/>\r\n     <use style=\"fill:#0000ff;stroke:#0000ff;\" x=\"123.075987\" xlink:href=\"#m5bb66c0e78\" y=\"136.175417\"/>\r\n     <use style=\"fill:#0000ff;stroke:#0000ff;\" x=\"139.095126\" xlink:href=\"#m5bb66c0e78\" y=\"148.267083\"/>\r\n     <use style=\"fill:#0000ff;stroke:#0000ff;\" x=\"155.114264\" xlink:href=\"#m5bb66c0e78\" y=\"158.510328\"/>\r\n     <use style=\"fill:#0000ff;stroke:#0000ff;\" x=\"171.133403\" xlink:href=\"#m5bb66c0e78\" y=\"167.319048\"/>\r\n     <use style=\"fill:#0000ff;stroke:#0000ff;\" x=\"187.152542\" xlink:href=\"#m5bb66c0e78\" y=\"175.334611\"/>\r\n     <use style=\"fill:#0000ff;stroke:#0000ff;\" x=\"203.171681\" xlink:href=\"#m5bb66c0e78\" y=\"182.286946\"/>\r\n     <use style=\"fill:#0000ff;stroke:#0000ff;\" x=\"219.190819\" xlink:href=\"#m5bb66c0e78\" y=\"189.09135\"/>\r\n     <use style=\"fill:#0000ff;stroke:#0000ff;\" x=\"235.209958\" xlink:href=\"#m5bb66c0e78\" y=\"194.851574\"/>\r\n     <use style=\"fill:#0000ff;stroke:#0000ff;\" x=\"251.229097\" xlink:href=\"#m5bb66c0e78\" y=\"200.313134\"/>\r\n     <use style=\"fill:#0000ff;stroke:#0000ff;\" x=\"267.248236\" xlink:href=\"#m5bb66c0e78\" y=\"205.614199\"/>\r\n     <use style=\"fill:#0000ff;stroke:#0000ff;\" x=\"283.267374\" xlink:href=\"#m5bb66c0e78\" y=\"210.366458\"/>\r\n     <use style=\"fill:#0000ff;stroke:#0000ff;\" x=\"299.286513\" xlink:href=\"#m5bb66c0e78\" y=\"214.72597\"/>\r\n     <use style=\"fill:#0000ff;stroke:#0000ff;\" x=\"315.305652\" xlink:href=\"#m5bb66c0e78\" y=\"218.944328\"/>\r\n     <use style=\"fill:#0000ff;stroke:#0000ff;\" x=\"331.324791\" xlink:href=\"#m5bb66c0e78\" y=\"222.781793\"/>\r\n     <use style=\"fill:#0000ff;stroke:#0000ff;\" x=\"347.343929\" xlink:href=\"#m5bb66c0e78\" y=\"226.194598\"/>\r\n     <use style=\"fill:#0000ff;stroke:#0000ff;\" x=\"363.363068\" xlink:href=\"#m5bb66c0e78\" y=\"229.874489\"/>\r\n    </g>\r\n   </g>\r\n   <g id=\"line2d_16\">\r\n    <path clip-path=\"url(#p6ae843841f)\" d=\"M 58.999432 51.262529 \r\nL 75.018571 80.90967 \r\nL 91.037709 97.997007 \r\nL 107.056848 100.179847 \r\nL 123.075987 110.260534 \r\nL 139.095126 113.356682 \r\nL 155.114264 111.710139 \r\nL 171.133403 115.017218 \r\nL 187.152542 113.808953 \r\nL 203.171681 113.53992 \r\nL 219.190819 111.70543 \r\nL 235.209958 105.080026 \r\nL 251.229097 109.456839 \r\nL 267.248236 106.830454 \r\nL 283.267374 104.061226 \r\nL 299.286513 101.714113 \r\nL 315.305652 99.825351 \r\nL 331.324791 95.130527 \r\nL 347.343929 94.825871 \r\nL 363.363068 86.627246 \r\n\" style=\"fill:none;stroke:#ff0000;stroke-linecap:square;stroke-width:1.5;\"/>\r\n    <defs>\r\n     <path d=\"M 0 3 \r\nC 0.795609 3 1.55874 2.683901 2.12132 2.12132 \r\nC 2.683901 1.55874 3 0.795609 3 0 \r\nC 3 -0.795609 2.683901 -1.55874 2.12132 -2.12132 \r\nC 1.55874 -2.683901 0.795609 -3 0 -3 \r\nC -0.795609 -3 -1.55874 -2.683901 -2.12132 -2.12132 \r\nC -2.683901 -1.55874 -3 -0.795609 -3 0 \r\nC -3 0.795609 -2.683901 1.55874 -2.12132 2.12132 \r\nC -1.55874 2.683901 -0.795609 3 0 3 \r\nz\r\n\" id=\"m54c3eae1ad\" style=\"stroke:#ff0000;\"/>\r\n    </defs>\r\n    <g clip-path=\"url(#p6ae843841f)\">\r\n     <use style=\"fill:#ff0000;stroke:#ff0000;\" x=\"58.999432\" xlink:href=\"#m54c3eae1ad\" y=\"51.262529\"/>\r\n     <use style=\"fill:#ff0000;stroke:#ff0000;\" x=\"75.018571\" xlink:href=\"#m54c3eae1ad\" y=\"80.90967\"/>\r\n     <use style=\"fill:#ff0000;stroke:#ff0000;\" x=\"91.037709\" xlink:href=\"#m54c3eae1ad\" y=\"97.997007\"/>\r\n     <use style=\"fill:#ff0000;stroke:#ff0000;\" x=\"107.056848\" xlink:href=\"#m54c3eae1ad\" y=\"100.179847\"/>\r\n     <use style=\"fill:#ff0000;stroke:#ff0000;\" x=\"123.075987\" xlink:href=\"#m54c3eae1ad\" y=\"110.260534\"/>\r\n     <use style=\"fill:#ff0000;stroke:#ff0000;\" x=\"139.095126\" xlink:href=\"#m54c3eae1ad\" y=\"113.356682\"/>\r\n     <use style=\"fill:#ff0000;stroke:#ff0000;\" x=\"155.114264\" xlink:href=\"#m54c3eae1ad\" y=\"111.710139\"/>\r\n     <use style=\"fill:#ff0000;stroke:#ff0000;\" x=\"171.133403\" xlink:href=\"#m54c3eae1ad\" y=\"115.017218\"/>\r\n     <use style=\"fill:#ff0000;stroke:#ff0000;\" x=\"187.152542\" xlink:href=\"#m54c3eae1ad\" y=\"113.808953\"/>\r\n     <use style=\"fill:#ff0000;stroke:#ff0000;\" x=\"203.171681\" xlink:href=\"#m54c3eae1ad\" y=\"113.53992\"/>\r\n     <use style=\"fill:#ff0000;stroke:#ff0000;\" x=\"219.190819\" xlink:href=\"#m54c3eae1ad\" y=\"111.70543\"/>\r\n     <use style=\"fill:#ff0000;stroke:#ff0000;\" x=\"235.209958\" xlink:href=\"#m54c3eae1ad\" y=\"105.080026\"/>\r\n     <use style=\"fill:#ff0000;stroke:#ff0000;\" x=\"251.229097\" xlink:href=\"#m54c3eae1ad\" y=\"109.456839\"/>\r\n     <use style=\"fill:#ff0000;stroke:#ff0000;\" x=\"267.248236\" xlink:href=\"#m54c3eae1ad\" y=\"106.830454\"/>\r\n     <use style=\"fill:#ff0000;stroke:#ff0000;\" x=\"283.267374\" xlink:href=\"#m54c3eae1ad\" y=\"104.061226\"/>\r\n     <use style=\"fill:#ff0000;stroke:#ff0000;\" x=\"299.286513\" xlink:href=\"#m54c3eae1ad\" y=\"101.714113\"/>\r\n     <use style=\"fill:#ff0000;stroke:#ff0000;\" x=\"315.305652\" xlink:href=\"#m54c3eae1ad\" y=\"99.825351\"/>\r\n     <use style=\"fill:#ff0000;stroke:#ff0000;\" x=\"331.324791\" xlink:href=\"#m54c3eae1ad\" y=\"95.130527\"/>\r\n     <use style=\"fill:#ff0000;stroke:#ff0000;\" x=\"347.343929\" xlink:href=\"#m54c3eae1ad\" y=\"94.825871\"/>\r\n     <use style=\"fill:#ff0000;stroke:#ff0000;\" x=\"363.363068\" xlink:href=\"#m54c3eae1ad\" y=\"86.627246\"/>\r\n    </g>\r\n   </g>\r\n   <g id=\"patch_3\">\r\n    <path d=\"M 43.78125 239.758125 \r\nL 43.78125 22.318125 \r\n\" style=\"fill:none;stroke:#000000;stroke-linecap:square;stroke-linejoin:miter;stroke-width:0.8;\"/>\r\n   </g>\r\n   <g id=\"patch_4\">\r\n    <path d=\"M 378.58125 239.758125 \r\nL 378.58125 22.318125 \r\n\" style=\"fill:none;stroke:#000000;stroke-linecap:square;stroke-linejoin:miter;stroke-width:0.8;\"/>\r\n   </g>\r\n   <g id=\"patch_5\">\r\n    <path d=\"M 43.78125 239.758125 \r\nL 378.58125 239.758125 \r\n\" style=\"fill:none;stroke:#000000;stroke-linecap:square;stroke-linejoin:miter;stroke-width:0.8;\"/>\r\n   </g>\r\n   <g id=\"patch_6\">\r\n    <path d=\"M 43.78125 22.318125 \r\nL 378.58125 22.318125 \r\n\" style=\"fill:none;stroke:#000000;stroke-linecap:square;stroke-linejoin:miter;stroke-width:0.8;\"/>\r\n   </g>\r\n   <g id=\"text_17\">\r\n    <!-- Training and validation loss -->\r\n    <g transform=\"translate(129.37125 16.318125)scale(0.12 -0.12)\">\r\n     <defs>\r\n      <path d=\"M -0.296875 72.90625 \r\nL 61.375 72.90625 \r\nL 61.375 64.59375 \r\nL 35.5 64.59375 \r\nL 35.5 0 \r\nL 25.59375 0 \r\nL 25.59375 64.59375 \r\nL -0.296875 64.59375 \r\nz\r\n\" id=\"DejaVuSans-84\"/>\r\n      <path d=\"M 41.109375 46.296875 \r\nQ 39.59375 47.171875 37.8125 47.578125 \r\nQ 36.03125 48 33.890625 48 \r\nQ 26.265625 48 22.1875 43.046875 \r\nQ 18.109375 38.09375 18.109375 28.8125 \r\nL 18.109375 0 \r\nL 9.078125 0 \r\nL 9.078125 54.6875 \r\nL 18.109375 54.6875 \r\nL 18.109375 46.1875 \r\nQ 20.953125 51.171875 25.484375 53.578125 \r\nQ 30.03125 56 36.53125 56 \r\nQ 37.453125 56 38.578125 55.875 \r\nQ 39.703125 55.765625 41.0625 55.515625 \r\nz\r\n\" id=\"DejaVuSans-114\"/>\r\n      <path d=\"M 34.28125 27.484375 \r\nQ 23.390625 27.484375 19.1875 25 \r\nQ 14.984375 22.515625 14.984375 16.5 \r\nQ 14.984375 11.71875 18.140625 8.90625 \r\nQ 21.296875 6.109375 26.703125 6.109375 \r\nQ 34.1875 6.109375 38.703125 11.40625 \r\nQ 43.21875 16.703125 43.21875 25.484375 \r\nL 43.21875 27.484375 \r\nz\r\nM 52.203125 31.203125 \r\nL 52.203125 0 \r\nL 43.21875 0 \r\nL 43.21875 8.296875 \r\nQ 40.140625 3.328125 35.546875 0.953125 \r\nQ 30.953125 -1.421875 24.3125 -1.421875 \r\nQ 15.921875 -1.421875 10.953125 3.296875 \r\nQ 6 8.015625 6 15.921875 \r\nQ 6 25.140625 12.171875 29.828125 \r\nQ 18.359375 34.515625 30.609375 34.515625 \r\nL 43.21875 34.515625 \r\nL 43.21875 35.40625 \r\nQ 43.21875 41.609375 39.140625 45 \r\nQ 35.0625 48.390625 27.6875 48.390625 \r\nQ 23 48.390625 18.546875 47.265625 \r\nQ 14.109375 46.140625 10.015625 43.890625 \r\nL 10.015625 52.203125 \r\nQ 14.9375 54.109375 19.578125 55.046875 \r\nQ 24.21875 56 28.609375 56 \r\nQ 40.484375 56 46.34375 49.84375 \r\nQ 52.203125 43.703125 52.203125 31.203125 \r\nz\r\n\" id=\"DejaVuSans-97\"/>\r\n      <path d=\"M 9.421875 54.6875 \r\nL 18.40625 54.6875 \r\nL 18.40625 0 \r\nL 9.421875 0 \r\nz\r\nM 9.421875 75.984375 \r\nL 18.40625 75.984375 \r\nL 18.40625 64.59375 \r\nL 9.421875 64.59375 \r\nz\r\n\" id=\"DejaVuSans-105\"/>\r\n      <path d=\"M 54.890625 33.015625 \r\nL 54.890625 0 \r\nL 45.90625 0 \r\nL 45.90625 32.71875 \r\nQ 45.90625 40.484375 42.875 44.328125 \r\nQ 39.84375 48.1875 33.796875 48.1875 \r\nQ 26.515625 48.1875 22.3125 43.546875 \r\nQ 18.109375 38.921875 18.109375 30.90625 \r\nL 18.109375 0 \r\nL 9.078125 0 \r\nL 9.078125 54.6875 \r\nL 18.109375 54.6875 \r\nL 18.109375 46.1875 \r\nQ 21.34375 51.125 25.703125 53.5625 \r\nQ 30.078125 56 35.796875 56 \r\nQ 45.21875 56 50.046875 50.171875 \r\nQ 54.890625 44.34375 54.890625 33.015625 \r\nz\r\n\" id=\"DejaVuSans-110\"/>\r\n      <path d=\"M 45.40625 27.984375 \r\nQ 45.40625 37.75 41.375 43.109375 \r\nQ 37.359375 48.484375 30.078125 48.484375 \r\nQ 22.859375 48.484375 18.828125 43.109375 \r\nQ 14.796875 37.75 14.796875 27.984375 \r\nQ 14.796875 18.265625 18.828125 12.890625 \r\nQ 22.859375 7.515625 30.078125 7.515625 \r\nQ 37.359375 7.515625 41.375 12.890625 \r\nQ 45.40625 18.265625 45.40625 27.984375 \r\nz\r\nM 54.390625 6.78125 \r\nQ 54.390625 -7.171875 48.1875 -13.984375 \r\nQ 42 -20.796875 29.203125 -20.796875 \r\nQ 24.46875 -20.796875 20.265625 -20.09375 \r\nQ 16.0625 -19.390625 12.109375 -17.921875 \r\nL 12.109375 -9.1875 \r\nQ 16.0625 -11.328125 19.921875 -12.34375 \r\nQ 23.78125 -13.375 27.78125 -13.375 \r\nQ 36.625 -13.375 41.015625 -8.765625 \r\nQ 45.40625 -4.15625 45.40625 5.171875 \r\nL 45.40625 9.625 \r\nQ 42.625 4.78125 38.28125 2.390625 \r\nQ 33.9375 0 27.875 0 \r\nQ 17.828125 0 11.671875 7.65625 \r\nQ 5.515625 15.328125 5.515625 27.984375 \r\nQ 5.515625 40.671875 11.671875 48.328125 \r\nQ 17.828125 56 27.875 56 \r\nQ 33.9375 56 38.28125 53.609375 \r\nQ 42.625 51.21875 45.40625 46.390625 \r\nL 45.40625 54.6875 \r\nL 54.390625 54.6875 \r\nz\r\n\" id=\"DejaVuSans-103\"/>\r\n      <path id=\"DejaVuSans-32\"/>\r\n      <path d=\"M 45.40625 46.390625 \r\nL 45.40625 75.984375 \r\nL 54.390625 75.984375 \r\nL 54.390625 0 \r\nL 45.40625 0 \r\nL 45.40625 8.203125 \r\nQ 42.578125 3.328125 38.25 0.953125 \r\nQ 33.9375 -1.421875 27.875 -1.421875 \r\nQ 17.96875 -1.421875 11.734375 6.484375 \r\nQ 5.515625 14.40625 5.515625 27.296875 \r\nQ 5.515625 40.1875 11.734375 48.09375 \r\nQ 17.96875 56 27.875 56 \r\nQ 33.9375 56 38.25 53.625 \r\nQ 42.578125 51.265625 45.40625 46.390625 \r\nz\r\nM 14.796875 27.296875 \r\nQ 14.796875 17.390625 18.875 11.75 \r\nQ 22.953125 6.109375 30.078125 6.109375 \r\nQ 37.203125 6.109375 41.296875 11.75 \r\nQ 45.40625 17.390625 45.40625 27.296875 \r\nQ 45.40625 37.203125 41.296875 42.84375 \r\nQ 37.203125 48.484375 30.078125 48.484375 \r\nQ 22.953125 48.484375 18.875 42.84375 \r\nQ 14.796875 37.203125 14.796875 27.296875 \r\nz\r\n\" id=\"DejaVuSans-100\"/>\r\n      <path d=\"M 2.984375 54.6875 \r\nL 12.5 54.6875 \r\nL 29.59375 8.796875 \r\nL 46.6875 54.6875 \r\nL 56.203125 54.6875 \r\nL 35.6875 0 \r\nL 23.484375 0 \r\nz\r\n\" id=\"DejaVuSans-118\"/>\r\n      <path d=\"M 18.3125 70.21875 \r\nL 18.3125 54.6875 \r\nL 36.8125 54.6875 \r\nL 36.8125 47.703125 \r\nL 18.3125 47.703125 \r\nL 18.3125 18.015625 \r\nQ 18.3125 11.328125 20.140625 9.421875 \r\nQ 21.96875 7.515625 27.59375 7.515625 \r\nL 36.8125 7.515625 \r\nL 36.8125 0 \r\nL 27.59375 0 \r\nQ 17.1875 0 13.234375 3.875 \r\nQ 9.28125 7.765625 9.28125 18.015625 \r\nL 9.28125 47.703125 \r\nL 2.6875 47.703125 \r\nL 2.6875 54.6875 \r\nL 9.28125 54.6875 \r\nL 9.28125 70.21875 \r\nz\r\n\" id=\"DejaVuSans-116\"/>\r\n     </defs>\r\n     <use xlink:href=\"#DejaVuSans-84\"/>\r\n     <use x=\"46.333984\" xlink:href=\"#DejaVuSans-114\"/>\r\n     <use x=\"87.447266\" xlink:href=\"#DejaVuSans-97\"/>\r\n     <use x=\"148.726562\" xlink:href=\"#DejaVuSans-105\"/>\r\n     <use x=\"176.509766\" xlink:href=\"#DejaVuSans-110\"/>\r\n     <use x=\"239.888672\" xlink:href=\"#DejaVuSans-105\"/>\r\n     <use x=\"267.671875\" xlink:href=\"#DejaVuSans-110\"/>\r\n     <use x=\"331.050781\" xlink:href=\"#DejaVuSans-103\"/>\r\n     <use x=\"394.527344\" xlink:href=\"#DejaVuSans-32\"/>\r\n     <use x=\"426.314453\" xlink:href=\"#DejaVuSans-97\"/>\r\n     <use x=\"487.59375\" xlink:href=\"#DejaVuSans-110\"/>\r\n     <use x=\"550.972656\" xlink:href=\"#DejaVuSans-100\"/>\r\n     <use x=\"614.449219\" xlink:href=\"#DejaVuSans-32\"/>\r\n     <use x=\"646.236328\" xlink:href=\"#DejaVuSans-118\"/>\r\n     <use x=\"705.416016\" xlink:href=\"#DejaVuSans-97\"/>\r\n     <use x=\"766.695312\" xlink:href=\"#DejaVuSans-108\"/>\r\n     <use x=\"794.478516\" xlink:href=\"#DejaVuSans-105\"/>\r\n     <use x=\"822.261719\" xlink:href=\"#DejaVuSans-100\"/>\r\n     <use x=\"885.738281\" xlink:href=\"#DejaVuSans-97\"/>\r\n     <use x=\"947.017578\" xlink:href=\"#DejaVuSans-116\"/>\r\n     <use x=\"986.226562\" xlink:href=\"#DejaVuSans-105\"/>\r\n     <use x=\"1014.009766\" xlink:href=\"#DejaVuSans-111\"/>\r\n     <use x=\"1075.191406\" xlink:href=\"#DejaVuSans-110\"/>\r\n     <use x=\"1138.570312\" xlink:href=\"#DejaVuSans-32\"/>\r\n     <use x=\"1170.357422\" xlink:href=\"#DejaVuSans-108\"/>\r\n     <use x=\"1198.140625\" xlink:href=\"#DejaVuSans-111\"/>\r\n     <use x=\"1259.322266\" xlink:href=\"#DejaVuSans-115\"/>\r\n     <use x=\"1311.421875\" xlink:href=\"#DejaVuSans-115\"/>\r\n    </g>\r\n   </g>\r\n   <g id=\"legend_1\">\r\n    <g id=\"patch_7\">\r\n     <path d=\"M 291.990625 60.230625 \r\nL 371.58125 60.230625 \r\nQ 373.58125 60.230625 373.58125 58.230625 \r\nL 373.58125 29.318125 \r\nQ 373.58125 27.318125 371.58125 27.318125 \r\nL 291.990625 27.318125 \r\nQ 289.990625 27.318125 289.990625 29.318125 \r\nL 289.990625 58.230625 \r\nQ 289.990625 60.230625 291.990625 60.230625 \r\nz\r\n\" style=\"fill:#ffffff;opacity:0.8;stroke:#cccccc;stroke-linejoin:miter;\"/>\r\n    </g>\r\n    <g id=\"line2d_17\">\r\n     <path d=\"M 293.990625 35.416562 \r\nL 313.990625 35.416562 \r\n\" style=\"fill:none;stroke:#0000ff;stroke-dasharray:5.55,2.4;stroke-dashoffset:0;stroke-width:1.5;\"/>\r\n    </g>\r\n    <g id=\"line2d_18\">\r\n     <g>\r\n      <use style=\"fill:#0000ff;stroke:#0000ff;\" x=\"303.990625\" xlink:href=\"#m5bb66c0e78\" y=\"35.416562\"/>\r\n     </g>\r\n    </g>\r\n    <g id=\"text_18\">\r\n     <!-- train_loss -->\r\n     <g transform=\"translate(321.990625 38.916562)scale(0.1 -0.1)\">\r\n      <defs>\r\n       <path d=\"M 50.984375 -16.609375 \r\nL 50.984375 -23.578125 \r\nL -0.984375 -23.578125 \r\nL -0.984375 -16.609375 \r\nz\r\n\" id=\"DejaVuSans-95\"/>\r\n      </defs>\r\n      <use xlink:href=\"#DejaVuSans-116\"/>\r\n      <use x=\"39.208984\" xlink:href=\"#DejaVuSans-114\"/>\r\n      <use x=\"80.322266\" xlink:href=\"#DejaVuSans-97\"/>\r\n      <use x=\"141.601562\" xlink:href=\"#DejaVuSans-105\"/>\r\n      <use x=\"169.384766\" xlink:href=\"#DejaVuSans-110\"/>\r\n      <use x=\"232.763672\" xlink:href=\"#DejaVuSans-95\"/>\r\n      <use x=\"282.763672\" xlink:href=\"#DejaVuSans-108\"/>\r\n      <use x=\"310.546875\" xlink:href=\"#DejaVuSans-111\"/>\r\n      <use x=\"371.728516\" xlink:href=\"#DejaVuSans-115\"/>\r\n      <use x=\"423.828125\" xlink:href=\"#DejaVuSans-115\"/>\r\n     </g>\r\n    </g>\r\n    <g id=\"line2d_19\">\r\n     <path d=\"M 293.990625 50.372812 \r\nL 313.990625 50.372812 \r\n\" style=\"fill:none;stroke:#ff0000;stroke-linecap:square;stroke-width:1.5;\"/>\r\n    </g>\r\n    <g id=\"line2d_20\">\r\n     <g>\r\n      <use style=\"fill:#ff0000;stroke:#ff0000;\" x=\"303.990625\" xlink:href=\"#m54c3eae1ad\" y=\"50.372812\"/>\r\n     </g>\r\n    </g>\r\n    <g id=\"text_19\">\r\n     <!-- val_loss -->\r\n     <g transform=\"translate(321.990625 53.872812)scale(0.1 -0.1)\">\r\n      <use xlink:href=\"#DejaVuSans-118\"/>\r\n      <use x=\"59.179688\" xlink:href=\"#DejaVuSans-97\"/>\r\n      <use x=\"120.458984\" xlink:href=\"#DejaVuSans-108\"/>\r\n      <use x=\"148.242188\" xlink:href=\"#DejaVuSans-95\"/>\r\n      <use x=\"198.242188\" xlink:href=\"#DejaVuSans-108\"/>\r\n      <use x=\"226.025391\" xlink:href=\"#DejaVuSans-111\"/>\r\n      <use x=\"287.207031\" xlink:href=\"#DejaVuSans-115\"/>\r\n      <use x=\"339.306641\" xlink:href=\"#DejaVuSans-115\"/>\r\n     </g>\r\n    </g>\r\n   </g>\r\n  </g>\r\n </g>\r\n <defs>\r\n  <clipPath id=\"p6ae843841f\">\r\n   <rect height=\"217.44\" width=\"334.8\" x=\"43.78125\" y=\"22.318125\"/>\r\n  </clipPath>\r\n </defs>\r\n</svg>\r\n"
     },
     "metadata": {
      "needs_background": "light"
     }
    }
   ],
   "source": [
    "plot_metric(dfhistory,\"loss\")"
   ]
  },
  {
   "cell_type": "code",
   "execution_count": 18,
   "metadata": {},
   "outputs": [
    {
     "output_type": "display_data",
     "data": {
      "text/plain": "<Figure size 432x288 with 1 Axes>",
      "image/svg+xml": "<?xml version=\"1.0\" encoding=\"utf-8\" standalone=\"no\"?>\r\n<!DOCTYPE svg PUBLIC \"-//W3C//DTD SVG 1.1//EN\"\r\n  \"http://www.w3.org/Graphics/SVG/1.1/DTD/svg11.dtd\">\r\n<!-- Created with matplotlib (https://matplotlib.org/) -->\r\n<svg height=\"277.314375pt\" version=\"1.1\" viewBox=\"0 0 392.14375 277.314375\" width=\"392.14375pt\" xmlns=\"http://www.w3.org/2000/svg\" xmlns:xlink=\"http://www.w3.org/1999/xlink\">\r\n <metadata>\r\n  <rdf:RDF xmlns:cc=\"http://creativecommons.org/ns#\" xmlns:dc=\"http://purl.org/dc/elements/1.1/\" xmlns:rdf=\"http://www.w3.org/1999/02/22-rdf-syntax-ns#\">\r\n   <cc:Work>\r\n    <dc:type rdf:resource=\"http://purl.org/dc/dcmitype/StillImage\"/>\r\n    <dc:date>2021-02-03T15:47:42.890784</dc:date>\r\n    <dc:format>image/svg+xml</dc:format>\r\n    <dc:creator>\r\n     <cc:Agent>\r\n      <dc:title>Matplotlib v3.3.1, https://matplotlib.org/</dc:title>\r\n     </cc:Agent>\r\n    </dc:creator>\r\n   </cc:Work>\r\n  </rdf:RDF>\r\n </metadata>\r\n <defs>\r\n  <style type=\"text/css\">*{stroke-linecap:butt;stroke-linejoin:round;}</style>\r\n </defs>\r\n <g id=\"figure_1\">\r\n  <g id=\"patch_1\">\r\n   <path d=\"M 0 277.314375 \r\nL 392.14375 277.314375 \r\nL 392.14375 0 \r\nL 0 0 \r\nz\r\n\" style=\"fill:none;\"/>\r\n  </g>\r\n  <g id=\"axes_1\">\r\n   <g id=\"patch_2\">\r\n    <path d=\"M 50.14375 239.758125 \r\nL 384.94375 239.758125 \r\nL 384.94375 22.318125 \r\nL 50.14375 22.318125 \r\nz\r\n\" style=\"fill:#ffffff;\"/>\r\n   </g>\r\n   <g id=\"matplotlib.axis_1\">\r\n    <g id=\"xtick_1\">\r\n     <g id=\"line2d_1\">\r\n      <defs>\r\n       <path d=\"M 0 0 \r\nL 0 3.5 \r\n\" id=\"m6da2129e4b\" style=\"stroke:#000000;stroke-width:0.8;\"/>\r\n      </defs>\r\n      <g>\r\n       <use style=\"stroke:#000000;stroke-width:0.8;\" x=\"89.39064\" xlink:href=\"#m6da2129e4b\" y=\"239.758125\"/>\r\n      </g>\r\n     </g>\r\n     <g id=\"text_1\">\r\n      <!-- 2.5 -->\r\n      <g transform=\"translate(81.439077 254.356562)scale(0.1 -0.1)\">\r\n       <defs>\r\n        <path d=\"M 19.1875 8.296875 \r\nL 53.609375 8.296875 \r\nL 53.609375 0 \r\nL 7.328125 0 \r\nL 7.328125 8.296875 \r\nQ 12.9375 14.109375 22.625 23.890625 \r\nQ 32.328125 33.6875 34.8125 36.53125 \r\nQ 39.546875 41.84375 41.421875 45.53125 \r\nQ 43.3125 49.21875 43.3125 52.78125 \r\nQ 43.3125 58.59375 39.234375 62.25 \r\nQ 35.15625 65.921875 28.609375 65.921875 \r\nQ 23.96875 65.921875 18.8125 64.3125 \r\nQ 13.671875 62.703125 7.8125 59.421875 \r\nL 7.8125 69.390625 \r\nQ 13.765625 71.78125 18.9375 73 \r\nQ 24.125 74.21875 28.421875 74.21875 \r\nQ 39.75 74.21875 46.484375 68.546875 \r\nQ 53.21875 62.890625 53.21875 53.421875 \r\nQ 53.21875 48.921875 51.53125 44.890625 \r\nQ 49.859375 40.875 45.40625 35.40625 \r\nQ 44.1875 33.984375 37.640625 27.21875 \r\nQ 31.109375 20.453125 19.1875 8.296875 \r\nz\r\n\" id=\"DejaVuSans-50\"/>\r\n        <path d=\"M 10.6875 12.40625 \r\nL 21 12.40625 \r\nL 21 0 \r\nL 10.6875 0 \r\nz\r\n\" id=\"DejaVuSans-46\"/>\r\n        <path d=\"M 10.796875 72.90625 \r\nL 49.515625 72.90625 \r\nL 49.515625 64.59375 \r\nL 19.828125 64.59375 \r\nL 19.828125 46.734375 \r\nQ 21.96875 47.46875 24.109375 47.828125 \r\nQ 26.265625 48.1875 28.421875 48.1875 \r\nQ 40.625 48.1875 47.75 41.5 \r\nQ 54.890625 34.8125 54.890625 23.390625 \r\nQ 54.890625 11.625 47.5625 5.09375 \r\nQ 40.234375 -1.421875 26.90625 -1.421875 \r\nQ 22.3125 -1.421875 17.546875 -0.640625 \r\nQ 12.796875 0.140625 7.71875 1.703125 \r\nL 7.71875 11.625 \r\nQ 12.109375 9.234375 16.796875 8.0625 \r\nQ 21.484375 6.890625 26.703125 6.890625 \r\nQ 35.15625 6.890625 40.078125 11.328125 \r\nQ 45.015625 15.765625 45.015625 23.390625 \r\nQ 45.015625 31 40.078125 35.4375 \r\nQ 35.15625 39.890625 26.703125 39.890625 \r\nQ 22.75 39.890625 18.8125 39.015625 \r\nQ 14.890625 38.140625 10.796875 36.28125 \r\nz\r\n\" id=\"DejaVuSans-53\"/>\r\n       </defs>\r\n       <use xlink:href=\"#DejaVuSans-50\"/>\r\n       <use x=\"63.623047\" xlink:href=\"#DejaVuSans-46\"/>\r\n       <use x=\"95.410156\" xlink:href=\"#DejaVuSans-53\"/>\r\n      </g>\r\n     </g>\r\n    </g>\r\n    <g id=\"xtick_2\">\r\n     <g id=\"line2d_2\">\r\n      <g>\r\n       <use style=\"stroke:#000000;stroke-width:0.8;\" x=\"129.438487\" xlink:href=\"#m6da2129e4b\" y=\"239.758125\"/>\r\n      </g>\r\n     </g>\r\n     <g id=\"text_2\">\r\n      <!-- 5.0 -->\r\n      <g transform=\"translate(121.486924 254.356562)scale(0.1 -0.1)\">\r\n       <defs>\r\n        <path d=\"M 31.78125 66.40625 \r\nQ 24.171875 66.40625 20.328125 58.90625 \r\nQ 16.5 51.421875 16.5 36.375 \r\nQ 16.5 21.390625 20.328125 13.890625 \r\nQ 24.171875 6.390625 31.78125 6.390625 \r\nQ 39.453125 6.390625 43.28125 13.890625 \r\nQ 47.125 21.390625 47.125 36.375 \r\nQ 47.125 51.421875 43.28125 58.90625 \r\nQ 39.453125 66.40625 31.78125 66.40625 \r\nz\r\nM 31.78125 74.21875 \r\nQ 44.046875 74.21875 50.515625 64.515625 \r\nQ 56.984375 54.828125 56.984375 36.375 \r\nQ 56.984375 17.96875 50.515625 8.265625 \r\nQ 44.046875 -1.421875 31.78125 -1.421875 \r\nQ 19.53125 -1.421875 13.0625 8.265625 \r\nQ 6.59375 17.96875 6.59375 36.375 \r\nQ 6.59375 54.828125 13.0625 64.515625 \r\nQ 19.53125 74.21875 31.78125 74.21875 \r\nz\r\n\" id=\"DejaVuSans-48\"/>\r\n       </defs>\r\n       <use xlink:href=\"#DejaVuSans-53\"/>\r\n       <use x=\"63.623047\" xlink:href=\"#DejaVuSans-46\"/>\r\n       <use x=\"95.410156\" xlink:href=\"#DejaVuSans-48\"/>\r\n      </g>\r\n     </g>\r\n    </g>\r\n    <g id=\"xtick_3\">\r\n     <g id=\"line2d_3\">\r\n      <g>\r\n       <use style=\"stroke:#000000;stroke-width:0.8;\" x=\"169.486334\" xlink:href=\"#m6da2129e4b\" y=\"239.758125\"/>\r\n      </g>\r\n     </g>\r\n     <g id=\"text_3\">\r\n      <!-- 7.5 -->\r\n      <g transform=\"translate(161.534771 254.356562)scale(0.1 -0.1)\">\r\n       <defs>\r\n        <path d=\"M 8.203125 72.90625 \r\nL 55.078125 72.90625 \r\nL 55.078125 68.703125 \r\nL 28.609375 0 \r\nL 18.3125 0 \r\nL 43.21875 64.59375 \r\nL 8.203125 64.59375 \r\nz\r\n\" id=\"DejaVuSans-55\"/>\r\n       </defs>\r\n       <use xlink:href=\"#DejaVuSans-55\"/>\r\n       <use x=\"63.623047\" xlink:href=\"#DejaVuSans-46\"/>\r\n       <use x=\"95.410156\" xlink:href=\"#DejaVuSans-53\"/>\r\n      </g>\r\n     </g>\r\n    </g>\r\n    <g id=\"xtick_4\">\r\n     <g id=\"line2d_4\">\r\n      <g>\r\n       <use style=\"stroke:#000000;stroke-width:0.8;\" x=\"209.534181\" xlink:href=\"#m6da2129e4b\" y=\"239.758125\"/>\r\n      </g>\r\n     </g>\r\n     <g id=\"text_4\">\r\n      <!-- 10.0 -->\r\n      <g transform=\"translate(198.401368 254.356562)scale(0.1 -0.1)\">\r\n       <defs>\r\n        <path d=\"M 12.40625 8.296875 \r\nL 28.515625 8.296875 \r\nL 28.515625 63.921875 \r\nL 10.984375 60.40625 \r\nL 10.984375 69.390625 \r\nL 28.421875 72.90625 \r\nL 38.28125 72.90625 \r\nL 38.28125 8.296875 \r\nL 54.390625 8.296875 \r\nL 54.390625 0 \r\nL 12.40625 0 \r\nz\r\n\" id=\"DejaVuSans-49\"/>\r\n       </defs>\r\n       <use xlink:href=\"#DejaVuSans-49\"/>\r\n       <use x=\"63.623047\" xlink:href=\"#DejaVuSans-48\"/>\r\n       <use x=\"127.246094\" xlink:href=\"#DejaVuSans-46\"/>\r\n       <use x=\"159.033203\" xlink:href=\"#DejaVuSans-48\"/>\r\n      </g>\r\n     </g>\r\n    </g>\r\n    <g id=\"xtick_5\">\r\n     <g id=\"line2d_5\">\r\n      <g>\r\n       <use style=\"stroke:#000000;stroke-width:0.8;\" x=\"249.582028\" xlink:href=\"#m6da2129e4b\" y=\"239.758125\"/>\r\n      </g>\r\n     </g>\r\n     <g id=\"text_5\">\r\n      <!-- 12.5 -->\r\n      <g transform=\"translate(238.449215 254.356562)scale(0.1 -0.1)\">\r\n       <use xlink:href=\"#DejaVuSans-49\"/>\r\n       <use x=\"63.623047\" xlink:href=\"#DejaVuSans-50\"/>\r\n       <use x=\"127.246094\" xlink:href=\"#DejaVuSans-46\"/>\r\n       <use x=\"159.033203\" xlink:href=\"#DejaVuSans-53\"/>\r\n      </g>\r\n     </g>\r\n    </g>\r\n    <g id=\"xtick_6\">\r\n     <g id=\"line2d_6\">\r\n      <g>\r\n       <use style=\"stroke:#000000;stroke-width:0.8;\" x=\"289.629874\" xlink:href=\"#m6da2129e4b\" y=\"239.758125\"/>\r\n      </g>\r\n     </g>\r\n     <g id=\"text_6\">\r\n      <!-- 15.0 -->\r\n      <g transform=\"translate(278.497062 254.356562)scale(0.1 -0.1)\">\r\n       <use xlink:href=\"#DejaVuSans-49\"/>\r\n       <use x=\"63.623047\" xlink:href=\"#DejaVuSans-53\"/>\r\n       <use x=\"127.246094\" xlink:href=\"#DejaVuSans-46\"/>\r\n       <use x=\"159.033203\" xlink:href=\"#DejaVuSans-48\"/>\r\n      </g>\r\n     </g>\r\n    </g>\r\n    <g id=\"xtick_7\">\r\n     <g id=\"line2d_7\">\r\n      <g>\r\n       <use style=\"stroke:#000000;stroke-width:0.8;\" x=\"329.677721\" xlink:href=\"#m6da2129e4b\" y=\"239.758125\"/>\r\n      </g>\r\n     </g>\r\n     <g id=\"text_7\">\r\n      <!-- 17.5 -->\r\n      <g transform=\"translate(318.544909 254.356562)scale(0.1 -0.1)\">\r\n       <use xlink:href=\"#DejaVuSans-49\"/>\r\n       <use x=\"63.623047\" xlink:href=\"#DejaVuSans-55\"/>\r\n       <use x=\"127.246094\" xlink:href=\"#DejaVuSans-46\"/>\r\n       <use x=\"159.033203\" xlink:href=\"#DejaVuSans-53\"/>\r\n      </g>\r\n     </g>\r\n    </g>\r\n    <g id=\"xtick_8\">\r\n     <g id=\"line2d_8\">\r\n      <g>\r\n       <use style=\"stroke:#000000;stroke-width:0.8;\" x=\"369.725568\" xlink:href=\"#m6da2129e4b\" y=\"239.758125\"/>\r\n      </g>\r\n     </g>\r\n     <g id=\"text_8\">\r\n      <!-- 20.0 -->\r\n      <g transform=\"translate(358.592756 254.356562)scale(0.1 -0.1)\">\r\n       <use xlink:href=\"#DejaVuSans-50\"/>\r\n       <use x=\"63.623047\" xlink:href=\"#DejaVuSans-48\"/>\r\n       <use x=\"127.246094\" xlink:href=\"#DejaVuSans-46\"/>\r\n       <use x=\"159.033203\" xlink:href=\"#DejaVuSans-48\"/>\r\n      </g>\r\n     </g>\r\n    </g>\r\n    <g id=\"text_9\">\r\n     <!-- Epochs -->\r\n     <g transform=\"translate(199.628125 268.034687)scale(0.1 -0.1)\">\r\n      <defs>\r\n       <path d=\"M 9.8125 72.90625 \r\nL 55.90625 72.90625 \r\nL 55.90625 64.59375 \r\nL 19.671875 64.59375 \r\nL 19.671875 43.015625 \r\nL 54.390625 43.015625 \r\nL 54.390625 34.71875 \r\nL 19.671875 34.71875 \r\nL 19.671875 8.296875 \r\nL 56.78125 8.296875 \r\nL 56.78125 0 \r\nL 9.8125 0 \r\nz\r\n\" id=\"DejaVuSans-69\"/>\r\n       <path d=\"M 18.109375 8.203125 \r\nL 18.109375 -20.796875 \r\nL 9.078125 -20.796875 \r\nL 9.078125 54.6875 \r\nL 18.109375 54.6875 \r\nL 18.109375 46.390625 \r\nQ 20.953125 51.265625 25.265625 53.625 \r\nQ 29.59375 56 35.59375 56 \r\nQ 45.5625 56 51.78125 48.09375 \r\nQ 58.015625 40.1875 58.015625 27.296875 \r\nQ 58.015625 14.40625 51.78125 6.484375 \r\nQ 45.5625 -1.421875 35.59375 -1.421875 \r\nQ 29.59375 -1.421875 25.265625 0.953125 \r\nQ 20.953125 3.328125 18.109375 8.203125 \r\nz\r\nM 48.6875 27.296875 \r\nQ 48.6875 37.203125 44.609375 42.84375 \r\nQ 40.53125 48.484375 33.40625 48.484375 \r\nQ 26.265625 48.484375 22.1875 42.84375 \r\nQ 18.109375 37.203125 18.109375 27.296875 \r\nQ 18.109375 17.390625 22.1875 11.75 \r\nQ 26.265625 6.109375 33.40625 6.109375 \r\nQ 40.53125 6.109375 44.609375 11.75 \r\nQ 48.6875 17.390625 48.6875 27.296875 \r\nz\r\n\" id=\"DejaVuSans-112\"/>\r\n       <path d=\"M 30.609375 48.390625 \r\nQ 23.390625 48.390625 19.1875 42.75 \r\nQ 14.984375 37.109375 14.984375 27.296875 \r\nQ 14.984375 17.484375 19.15625 11.84375 \r\nQ 23.34375 6.203125 30.609375 6.203125 \r\nQ 37.796875 6.203125 41.984375 11.859375 \r\nQ 46.1875 17.53125 46.1875 27.296875 \r\nQ 46.1875 37.015625 41.984375 42.703125 \r\nQ 37.796875 48.390625 30.609375 48.390625 \r\nz\r\nM 30.609375 56 \r\nQ 42.328125 56 49.015625 48.375 \r\nQ 55.71875 40.765625 55.71875 27.296875 \r\nQ 55.71875 13.875 49.015625 6.21875 \r\nQ 42.328125 -1.421875 30.609375 -1.421875 \r\nQ 18.84375 -1.421875 12.171875 6.21875 \r\nQ 5.515625 13.875 5.515625 27.296875 \r\nQ 5.515625 40.765625 12.171875 48.375 \r\nQ 18.84375 56 30.609375 56 \r\nz\r\n\" id=\"DejaVuSans-111\"/>\r\n       <path d=\"M 48.78125 52.59375 \r\nL 48.78125 44.1875 \r\nQ 44.96875 46.296875 41.140625 47.34375 \r\nQ 37.3125 48.390625 33.40625 48.390625 \r\nQ 24.65625 48.390625 19.8125 42.84375 \r\nQ 14.984375 37.3125 14.984375 27.296875 \r\nQ 14.984375 17.28125 19.8125 11.734375 \r\nQ 24.65625 6.203125 33.40625 6.203125 \r\nQ 37.3125 6.203125 41.140625 7.25 \r\nQ 44.96875 8.296875 48.78125 10.40625 \r\nL 48.78125 2.09375 \r\nQ 45.015625 0.34375 40.984375 -0.53125 \r\nQ 36.96875 -1.421875 32.421875 -1.421875 \r\nQ 20.0625 -1.421875 12.78125 6.34375 \r\nQ 5.515625 14.109375 5.515625 27.296875 \r\nQ 5.515625 40.671875 12.859375 48.328125 \r\nQ 20.21875 56 33.015625 56 \r\nQ 37.15625 56 41.109375 55.140625 \r\nQ 45.0625 54.296875 48.78125 52.59375 \r\nz\r\n\" id=\"DejaVuSans-99\"/>\r\n       <path d=\"M 54.890625 33.015625 \r\nL 54.890625 0 \r\nL 45.90625 0 \r\nL 45.90625 32.71875 \r\nQ 45.90625 40.484375 42.875 44.328125 \r\nQ 39.84375 48.1875 33.796875 48.1875 \r\nQ 26.515625 48.1875 22.3125 43.546875 \r\nQ 18.109375 38.921875 18.109375 30.90625 \r\nL 18.109375 0 \r\nL 9.078125 0 \r\nL 9.078125 75.984375 \r\nL 18.109375 75.984375 \r\nL 18.109375 46.1875 \r\nQ 21.34375 51.125 25.703125 53.5625 \r\nQ 30.078125 56 35.796875 56 \r\nQ 45.21875 56 50.046875 50.171875 \r\nQ 54.890625 44.34375 54.890625 33.015625 \r\nz\r\n\" id=\"DejaVuSans-104\"/>\r\n       <path d=\"M 44.28125 53.078125 \r\nL 44.28125 44.578125 \r\nQ 40.484375 46.53125 36.375 47.5 \r\nQ 32.28125 48.484375 27.875 48.484375 \r\nQ 21.1875 48.484375 17.84375 46.4375 \r\nQ 14.5 44.390625 14.5 40.28125 \r\nQ 14.5 37.15625 16.890625 35.375 \r\nQ 19.28125 33.59375 26.515625 31.984375 \r\nL 29.59375 31.296875 \r\nQ 39.15625 29.25 43.1875 25.515625 \r\nQ 47.21875 21.78125 47.21875 15.09375 \r\nQ 47.21875 7.46875 41.1875 3.015625 \r\nQ 35.15625 -1.421875 24.609375 -1.421875 \r\nQ 20.21875 -1.421875 15.453125 -0.5625 \r\nQ 10.6875 0.296875 5.421875 2 \r\nL 5.421875 11.28125 \r\nQ 10.40625 8.6875 15.234375 7.390625 \r\nQ 20.0625 6.109375 24.8125 6.109375 \r\nQ 31.15625 6.109375 34.5625 8.28125 \r\nQ 37.984375 10.453125 37.984375 14.40625 \r\nQ 37.984375 18.0625 35.515625 20.015625 \r\nQ 33.0625 21.96875 24.703125 23.78125 \r\nL 21.578125 24.515625 \r\nQ 13.234375 26.265625 9.515625 29.90625 \r\nQ 5.8125 33.546875 5.8125 39.890625 \r\nQ 5.8125 47.609375 11.28125 51.796875 \r\nQ 16.75 56 26.8125 56 \r\nQ 31.78125 56 36.171875 55.265625 \r\nQ 40.578125 54.546875 44.28125 53.078125 \r\nz\r\n\" id=\"DejaVuSans-115\"/>\r\n      </defs>\r\n      <use xlink:href=\"#DejaVuSans-69\"/>\r\n      <use x=\"63.183594\" xlink:href=\"#DejaVuSans-112\"/>\r\n      <use x=\"126.660156\" xlink:href=\"#DejaVuSans-111\"/>\r\n      <use x=\"187.841797\" xlink:href=\"#DejaVuSans-99\"/>\r\n      <use x=\"242.822266\" xlink:href=\"#DejaVuSans-104\"/>\r\n      <use x=\"306.201172\" xlink:href=\"#DejaVuSans-115\"/>\r\n     </g>\r\n    </g>\r\n   </g>\r\n   <g id=\"matplotlib.axis_2\">\r\n    <g id=\"ytick_1\">\r\n     <g id=\"line2d_9\">\r\n      <defs>\r\n       <path d=\"M 0 0 \r\nL -3.5 0 \r\n\" id=\"m0e4ab5e3a4\" style=\"stroke:#000000;stroke-width:0.8;\"/>\r\n      </defs>\r\n      <g>\r\n       <use style=\"stroke:#000000;stroke-width:0.8;\" x=\"50.14375\" xlink:href=\"#m0e4ab5e3a4\" y=\"236.245954\"/>\r\n      </g>\r\n     </g>\r\n     <g id=\"text_10\">\r\n      <!-- 0.55 -->\r\n      <g transform=\"translate(20.878125 240.045173)scale(0.1 -0.1)\">\r\n       <use xlink:href=\"#DejaVuSans-48\"/>\r\n       <use x=\"63.623047\" xlink:href=\"#DejaVuSans-46\"/>\r\n       <use x=\"95.410156\" xlink:href=\"#DejaVuSans-53\"/>\r\n       <use x=\"159.033203\" xlink:href=\"#DejaVuSans-53\"/>\r\n      </g>\r\n     </g>\r\n    </g>\r\n    <g id=\"ytick_2\">\r\n     <g id=\"line2d_10\">\r\n      <g>\r\n       <use style=\"stroke:#000000;stroke-width:0.8;\" x=\"50.14375\" xlink:href=\"#m0e4ab5e3a4\" y=\"210.025934\"/>\r\n      </g>\r\n     </g>\r\n     <g id=\"text_11\">\r\n      <!-- 0.60 -->\r\n      <g transform=\"translate(20.878125 213.825153)scale(0.1 -0.1)\">\r\n       <defs>\r\n        <path d=\"M 33.015625 40.375 \r\nQ 26.375 40.375 22.484375 35.828125 \r\nQ 18.609375 31.296875 18.609375 23.390625 \r\nQ 18.609375 15.53125 22.484375 10.953125 \r\nQ 26.375 6.390625 33.015625 6.390625 \r\nQ 39.65625 6.390625 43.53125 10.953125 \r\nQ 47.40625 15.53125 47.40625 23.390625 \r\nQ 47.40625 31.296875 43.53125 35.828125 \r\nQ 39.65625 40.375 33.015625 40.375 \r\nz\r\nM 52.59375 71.296875 \r\nL 52.59375 62.3125 \r\nQ 48.875 64.0625 45.09375 64.984375 \r\nQ 41.3125 65.921875 37.59375 65.921875 \r\nQ 27.828125 65.921875 22.671875 59.328125 \r\nQ 17.53125 52.734375 16.796875 39.40625 \r\nQ 19.671875 43.65625 24.015625 45.921875 \r\nQ 28.375 48.1875 33.59375 48.1875 \r\nQ 44.578125 48.1875 50.953125 41.515625 \r\nQ 57.328125 34.859375 57.328125 23.390625 \r\nQ 57.328125 12.15625 50.6875 5.359375 \r\nQ 44.046875 -1.421875 33.015625 -1.421875 \r\nQ 20.359375 -1.421875 13.671875 8.265625 \r\nQ 6.984375 17.96875 6.984375 36.375 \r\nQ 6.984375 53.65625 15.1875 63.9375 \r\nQ 23.390625 74.21875 37.203125 74.21875 \r\nQ 40.921875 74.21875 44.703125 73.484375 \r\nQ 48.484375 72.75 52.59375 71.296875 \r\nz\r\n\" id=\"DejaVuSans-54\"/>\r\n       </defs>\r\n       <use xlink:href=\"#DejaVuSans-48\"/>\r\n       <use x=\"63.623047\" xlink:href=\"#DejaVuSans-46\"/>\r\n       <use x=\"95.410156\" xlink:href=\"#DejaVuSans-54\"/>\r\n       <use x=\"159.033203\" xlink:href=\"#DejaVuSans-48\"/>\r\n      </g>\r\n     </g>\r\n    </g>\r\n    <g id=\"ytick_3\">\r\n     <g id=\"line2d_11\">\r\n      <g>\r\n       <use style=\"stroke:#000000;stroke-width:0.8;\" x=\"50.14375\" xlink:href=\"#m0e4ab5e3a4\" y=\"183.805914\"/>\r\n      </g>\r\n     </g>\r\n     <g id=\"text_12\">\r\n      <!-- 0.65 -->\r\n      <g transform=\"translate(20.878125 187.605133)scale(0.1 -0.1)\">\r\n       <use xlink:href=\"#DejaVuSans-48\"/>\r\n       <use x=\"63.623047\" xlink:href=\"#DejaVuSans-46\"/>\r\n       <use x=\"95.410156\" xlink:href=\"#DejaVuSans-54\"/>\r\n       <use x=\"159.033203\" xlink:href=\"#DejaVuSans-53\"/>\r\n      </g>\r\n     </g>\r\n    </g>\r\n    <g id=\"ytick_4\">\r\n     <g id=\"line2d_12\">\r\n      <g>\r\n       <use style=\"stroke:#000000;stroke-width:0.8;\" x=\"50.14375\" xlink:href=\"#m0e4ab5e3a4\" y=\"157.585894\"/>\r\n      </g>\r\n     </g>\r\n     <g id=\"text_13\">\r\n      <!-- 0.70 -->\r\n      <g transform=\"translate(20.878125 161.385112)scale(0.1 -0.1)\">\r\n       <use xlink:href=\"#DejaVuSans-48\"/>\r\n       <use x=\"63.623047\" xlink:href=\"#DejaVuSans-46\"/>\r\n       <use x=\"95.410156\" xlink:href=\"#DejaVuSans-55\"/>\r\n       <use x=\"159.033203\" xlink:href=\"#DejaVuSans-48\"/>\r\n      </g>\r\n     </g>\r\n    </g>\r\n    <g id=\"ytick_5\">\r\n     <g id=\"line2d_13\">\r\n      <g>\r\n       <use style=\"stroke:#000000;stroke-width:0.8;\" x=\"50.14375\" xlink:href=\"#m0e4ab5e3a4\" y=\"131.365874\"/>\r\n      </g>\r\n     </g>\r\n     <g id=\"text_14\">\r\n      <!-- 0.75 -->\r\n      <g transform=\"translate(20.878125 135.165092)scale(0.1 -0.1)\">\r\n       <use xlink:href=\"#DejaVuSans-48\"/>\r\n       <use x=\"63.623047\" xlink:href=\"#DejaVuSans-46\"/>\r\n       <use x=\"95.410156\" xlink:href=\"#DejaVuSans-55\"/>\r\n       <use x=\"159.033203\" xlink:href=\"#DejaVuSans-53\"/>\r\n      </g>\r\n     </g>\r\n    </g>\r\n    <g id=\"ytick_6\">\r\n     <g id=\"line2d_14\">\r\n      <g>\r\n       <use style=\"stroke:#000000;stroke-width:0.8;\" x=\"50.14375\" xlink:href=\"#m0e4ab5e3a4\" y=\"105.145854\"/>\r\n      </g>\r\n     </g>\r\n     <g id=\"text_15\">\r\n      <!-- 0.80 -->\r\n      <g transform=\"translate(20.878125 108.945072)scale(0.1 -0.1)\">\r\n       <defs>\r\n        <path d=\"M 31.78125 34.625 \r\nQ 24.75 34.625 20.71875 30.859375 \r\nQ 16.703125 27.09375 16.703125 20.515625 \r\nQ 16.703125 13.921875 20.71875 10.15625 \r\nQ 24.75 6.390625 31.78125 6.390625 \r\nQ 38.8125 6.390625 42.859375 10.171875 \r\nQ 46.921875 13.96875 46.921875 20.515625 \r\nQ 46.921875 27.09375 42.890625 30.859375 \r\nQ 38.875 34.625 31.78125 34.625 \r\nz\r\nM 21.921875 38.8125 \r\nQ 15.578125 40.375 12.03125 44.71875 \r\nQ 8.5 49.078125 8.5 55.328125 \r\nQ 8.5 64.0625 14.71875 69.140625 \r\nQ 20.953125 74.21875 31.78125 74.21875 \r\nQ 42.671875 74.21875 48.875 69.140625 \r\nQ 55.078125 64.0625 55.078125 55.328125 \r\nQ 55.078125 49.078125 51.53125 44.71875 \r\nQ 48 40.375 41.703125 38.8125 \r\nQ 48.828125 37.15625 52.796875 32.3125 \r\nQ 56.78125 27.484375 56.78125 20.515625 \r\nQ 56.78125 9.90625 50.3125 4.234375 \r\nQ 43.84375 -1.421875 31.78125 -1.421875 \r\nQ 19.734375 -1.421875 13.25 4.234375 \r\nQ 6.78125 9.90625 6.78125 20.515625 \r\nQ 6.78125 27.484375 10.78125 32.3125 \r\nQ 14.796875 37.15625 21.921875 38.8125 \r\nz\r\nM 18.3125 54.390625 \r\nQ 18.3125 48.734375 21.84375 45.5625 \r\nQ 25.390625 42.390625 31.78125 42.390625 \r\nQ 38.140625 42.390625 41.71875 45.5625 \r\nQ 45.3125 48.734375 45.3125 54.390625 \r\nQ 45.3125 60.0625 41.71875 63.234375 \r\nQ 38.140625 66.40625 31.78125 66.40625 \r\nQ 25.390625 66.40625 21.84375 63.234375 \r\nQ 18.3125 60.0625 18.3125 54.390625 \r\nz\r\n\" id=\"DejaVuSans-56\"/>\r\n       </defs>\r\n       <use xlink:href=\"#DejaVuSans-48\"/>\r\n       <use x=\"63.623047\" xlink:href=\"#DejaVuSans-46\"/>\r\n       <use x=\"95.410156\" xlink:href=\"#DejaVuSans-56\"/>\r\n       <use x=\"159.033203\" xlink:href=\"#DejaVuSans-48\"/>\r\n      </g>\r\n     </g>\r\n    </g>\r\n    <g id=\"ytick_7\">\r\n     <g id=\"line2d_15\">\r\n      <g>\r\n       <use style=\"stroke:#000000;stroke-width:0.8;\" x=\"50.14375\" xlink:href=\"#m0e4ab5e3a4\" y=\"78.925833\"/>\r\n      </g>\r\n     </g>\r\n     <g id=\"text_16\">\r\n      <!-- 0.85 -->\r\n      <g transform=\"translate(20.878125 82.725052)scale(0.1 -0.1)\">\r\n       <use xlink:href=\"#DejaVuSans-48\"/>\r\n       <use x=\"63.623047\" xlink:href=\"#DejaVuSans-46\"/>\r\n       <use x=\"95.410156\" xlink:href=\"#DejaVuSans-56\"/>\r\n       <use x=\"159.033203\" xlink:href=\"#DejaVuSans-53\"/>\r\n      </g>\r\n     </g>\r\n    </g>\r\n    <g id=\"ytick_8\">\r\n     <g id=\"line2d_16\">\r\n      <g>\r\n       <use style=\"stroke:#000000;stroke-width:0.8;\" x=\"50.14375\" xlink:href=\"#m0e4ab5e3a4\" y=\"52.705813\"/>\r\n      </g>\r\n     </g>\r\n     <g id=\"text_17\">\r\n      <!-- 0.90 -->\r\n      <g transform=\"translate(20.878125 56.505032)scale(0.1 -0.1)\">\r\n       <defs>\r\n        <path d=\"M 10.984375 1.515625 \r\nL 10.984375 10.5 \r\nQ 14.703125 8.734375 18.5 7.8125 \r\nQ 22.3125 6.890625 25.984375 6.890625 \r\nQ 35.75 6.890625 40.890625 13.453125 \r\nQ 46.046875 20.015625 46.78125 33.40625 \r\nQ 43.953125 29.203125 39.59375 26.953125 \r\nQ 35.25 24.703125 29.984375 24.703125 \r\nQ 19.046875 24.703125 12.671875 31.3125 \r\nQ 6.296875 37.9375 6.296875 49.421875 \r\nQ 6.296875 60.640625 12.9375 67.421875 \r\nQ 19.578125 74.21875 30.609375 74.21875 \r\nQ 43.265625 74.21875 49.921875 64.515625 \r\nQ 56.59375 54.828125 56.59375 36.375 \r\nQ 56.59375 19.140625 48.40625 8.859375 \r\nQ 40.234375 -1.421875 26.421875 -1.421875 \r\nQ 22.703125 -1.421875 18.890625 -0.6875 \r\nQ 15.09375 0.046875 10.984375 1.515625 \r\nz\r\nM 30.609375 32.421875 \r\nQ 37.25 32.421875 41.125 36.953125 \r\nQ 45.015625 41.5 45.015625 49.421875 \r\nQ 45.015625 57.28125 41.125 61.84375 \r\nQ 37.25 66.40625 30.609375 66.40625 \r\nQ 23.96875 66.40625 20.09375 61.84375 \r\nQ 16.21875 57.28125 16.21875 49.421875 \r\nQ 16.21875 41.5 20.09375 36.953125 \r\nQ 23.96875 32.421875 30.609375 32.421875 \r\nz\r\n\" id=\"DejaVuSans-57\"/>\r\n       </defs>\r\n       <use xlink:href=\"#DejaVuSans-48\"/>\r\n       <use x=\"63.623047\" xlink:href=\"#DejaVuSans-46\"/>\r\n       <use x=\"95.410156\" xlink:href=\"#DejaVuSans-57\"/>\r\n       <use x=\"159.033203\" xlink:href=\"#DejaVuSans-48\"/>\r\n      </g>\r\n     </g>\r\n    </g>\r\n    <g id=\"ytick_9\">\r\n     <g id=\"line2d_17\">\r\n      <g>\r\n       <use style=\"stroke:#000000;stroke-width:0.8;\" x=\"50.14375\" xlink:href=\"#m0e4ab5e3a4\" y=\"26.485793\"/>\r\n      </g>\r\n     </g>\r\n     <g id=\"text_18\">\r\n      <!-- 0.95 -->\r\n      <g transform=\"translate(20.878125 30.285012)scale(0.1 -0.1)\">\r\n       <use xlink:href=\"#DejaVuSans-48\"/>\r\n       <use x=\"63.623047\" xlink:href=\"#DejaVuSans-46\"/>\r\n       <use x=\"95.410156\" xlink:href=\"#DejaVuSans-57\"/>\r\n       <use x=\"159.033203\" xlink:href=\"#DejaVuSans-53\"/>\r\n      </g>\r\n     </g>\r\n    </g>\r\n    <g id=\"text_19\">\r\n     <!-- accuracy -->\r\n     <g transform=\"translate(14.798438 153.5975)rotate(-90)scale(0.1 -0.1)\">\r\n      <defs>\r\n       <path d=\"M 34.28125 27.484375 \r\nQ 23.390625 27.484375 19.1875 25 \r\nQ 14.984375 22.515625 14.984375 16.5 \r\nQ 14.984375 11.71875 18.140625 8.90625 \r\nQ 21.296875 6.109375 26.703125 6.109375 \r\nQ 34.1875 6.109375 38.703125 11.40625 \r\nQ 43.21875 16.703125 43.21875 25.484375 \r\nL 43.21875 27.484375 \r\nz\r\nM 52.203125 31.203125 \r\nL 52.203125 0 \r\nL 43.21875 0 \r\nL 43.21875 8.296875 \r\nQ 40.140625 3.328125 35.546875 0.953125 \r\nQ 30.953125 -1.421875 24.3125 -1.421875 \r\nQ 15.921875 -1.421875 10.953125 3.296875 \r\nQ 6 8.015625 6 15.921875 \r\nQ 6 25.140625 12.171875 29.828125 \r\nQ 18.359375 34.515625 30.609375 34.515625 \r\nL 43.21875 34.515625 \r\nL 43.21875 35.40625 \r\nQ 43.21875 41.609375 39.140625 45 \r\nQ 35.0625 48.390625 27.6875 48.390625 \r\nQ 23 48.390625 18.546875 47.265625 \r\nQ 14.109375 46.140625 10.015625 43.890625 \r\nL 10.015625 52.203125 \r\nQ 14.9375 54.109375 19.578125 55.046875 \r\nQ 24.21875 56 28.609375 56 \r\nQ 40.484375 56 46.34375 49.84375 \r\nQ 52.203125 43.703125 52.203125 31.203125 \r\nz\r\n\" id=\"DejaVuSans-97\"/>\r\n       <path d=\"M 8.5 21.578125 \r\nL 8.5 54.6875 \r\nL 17.484375 54.6875 \r\nL 17.484375 21.921875 \r\nQ 17.484375 14.15625 20.5 10.265625 \r\nQ 23.53125 6.390625 29.59375 6.390625 \r\nQ 36.859375 6.390625 41.078125 11.03125 \r\nQ 45.3125 15.671875 45.3125 23.6875 \r\nL 45.3125 54.6875 \r\nL 54.296875 54.6875 \r\nL 54.296875 0 \r\nL 45.3125 0 \r\nL 45.3125 8.40625 \r\nQ 42.046875 3.421875 37.71875 1 \r\nQ 33.40625 -1.421875 27.6875 -1.421875 \r\nQ 18.265625 -1.421875 13.375 4.4375 \r\nQ 8.5 10.296875 8.5 21.578125 \r\nz\r\nM 31.109375 56 \r\nz\r\n\" id=\"DejaVuSans-117\"/>\r\n       <path d=\"M 41.109375 46.296875 \r\nQ 39.59375 47.171875 37.8125 47.578125 \r\nQ 36.03125 48 33.890625 48 \r\nQ 26.265625 48 22.1875 43.046875 \r\nQ 18.109375 38.09375 18.109375 28.8125 \r\nL 18.109375 0 \r\nL 9.078125 0 \r\nL 9.078125 54.6875 \r\nL 18.109375 54.6875 \r\nL 18.109375 46.1875 \r\nQ 20.953125 51.171875 25.484375 53.578125 \r\nQ 30.03125 56 36.53125 56 \r\nQ 37.453125 56 38.578125 55.875 \r\nQ 39.703125 55.765625 41.0625 55.515625 \r\nz\r\n\" id=\"DejaVuSans-114\"/>\r\n       <path d=\"M 32.171875 -5.078125 \r\nQ 28.375 -14.84375 24.75 -17.8125 \r\nQ 21.140625 -20.796875 15.09375 -20.796875 \r\nL 7.90625 -20.796875 \r\nL 7.90625 -13.28125 \r\nL 13.1875 -13.28125 \r\nQ 16.890625 -13.28125 18.9375 -11.515625 \r\nQ 21 -9.765625 23.484375 -3.21875 \r\nL 25.09375 0.875 \r\nL 2.984375 54.6875 \r\nL 12.5 54.6875 \r\nL 29.59375 11.921875 \r\nL 46.6875 54.6875 \r\nL 56.203125 54.6875 \r\nz\r\n\" id=\"DejaVuSans-121\"/>\r\n      </defs>\r\n      <use xlink:href=\"#DejaVuSans-97\"/>\r\n      <use x=\"61.279297\" xlink:href=\"#DejaVuSans-99\"/>\r\n      <use x=\"116.259766\" xlink:href=\"#DejaVuSans-99\"/>\r\n      <use x=\"171.240234\" xlink:href=\"#DejaVuSans-117\"/>\r\n      <use x=\"234.619141\" xlink:href=\"#DejaVuSans-114\"/>\r\n      <use x=\"275.732422\" xlink:href=\"#DejaVuSans-97\"/>\r\n      <use x=\"337.011719\" xlink:href=\"#DejaVuSans-99\"/>\r\n      <use x=\"391.992188\" xlink:href=\"#DejaVuSans-121\"/>\r\n     </g>\r\n    </g>\r\n   </g>\r\n   <g id=\"line2d_18\">\r\n    <path clip-path=\"url(#p9e27ebfb91)\" d=\"M 65.361932 229.874489 \r\nL 81.381071 156.537093 \r\nL 97.400209 127.98349 \r\nL 113.419348 111.307557 \r\nL 129.438487 99.692089 \r\nL 145.457626 90.252881 \r\nL 161.476764 80.761234 \r\nL 177.495903 74.94039 \r\nL 193.515042 69.801267 \r\nL 209.534181 65.160324 \r\nL 225.553319 59.2346 \r\nL 241.572458 56.560158 \r\nL 257.591597 51.971655 \r\nL 273.610736 48.667933 \r\nL 289.629874 44.970911 \r\nL 305.649013 41.876949 \r\nL 321.668152 39.307387 \r\nL 337.687291 36.659165 \r\nL 353.706429 35.348164 \r\nL 369.725568 32.201761 \r\n\" style=\"fill:none;stroke:#0000ff;stroke-dasharray:5.55,2.4;stroke-dashoffset:0;stroke-width:1.5;\"/>\r\n    <defs>\r\n     <path d=\"M 0 3 \r\nC 0.795609 3 1.55874 2.683901 2.12132 2.12132 \r\nC 2.683901 1.55874 3 0.795609 3 0 \r\nC 3 -0.795609 2.683901 -1.55874 2.12132 -2.12132 \r\nC 1.55874 -2.683901 0.795609 -3 0 -3 \r\nC -0.795609 -3 -1.55874 -2.683901 -2.12132 -2.12132 \r\nC -2.683901 -1.55874 -3 -0.795609 -3 0 \r\nC -3 0.795609 -2.683901 1.55874 -2.12132 2.12132 \r\nC -1.55874 2.683901 -0.795609 3 0 3 \r\nz\r\n\" id=\"m7ae7a52a6a\" style=\"stroke:#0000ff;\"/>\r\n    </defs>\r\n    <g clip-path=\"url(#p9e27ebfb91)\">\r\n     <use style=\"fill:#0000ff;stroke:#0000ff;\" x=\"65.361932\" xlink:href=\"#m7ae7a52a6a\" y=\"229.874489\"/>\r\n     <use style=\"fill:#0000ff;stroke:#0000ff;\" x=\"81.381071\" xlink:href=\"#m7ae7a52a6a\" y=\"156.537093\"/>\r\n     <use style=\"fill:#0000ff;stroke:#0000ff;\" x=\"97.400209\" xlink:href=\"#m7ae7a52a6a\" y=\"127.98349\"/>\r\n     <use style=\"fill:#0000ff;stroke:#0000ff;\" x=\"113.419348\" xlink:href=\"#m7ae7a52a6a\" y=\"111.307557\"/>\r\n     <use style=\"fill:#0000ff;stroke:#0000ff;\" x=\"129.438487\" xlink:href=\"#m7ae7a52a6a\" y=\"99.692089\"/>\r\n     <use style=\"fill:#0000ff;stroke:#0000ff;\" x=\"145.457626\" xlink:href=\"#m7ae7a52a6a\" y=\"90.252881\"/>\r\n     <use style=\"fill:#0000ff;stroke:#0000ff;\" x=\"161.476764\" xlink:href=\"#m7ae7a52a6a\" y=\"80.761234\"/>\r\n     <use style=\"fill:#0000ff;stroke:#0000ff;\" x=\"177.495903\" xlink:href=\"#m7ae7a52a6a\" y=\"74.94039\"/>\r\n     <use style=\"fill:#0000ff;stroke:#0000ff;\" x=\"193.515042\" xlink:href=\"#m7ae7a52a6a\" y=\"69.801267\"/>\r\n     <use style=\"fill:#0000ff;stroke:#0000ff;\" x=\"209.534181\" xlink:href=\"#m7ae7a52a6a\" y=\"65.160324\"/>\r\n     <use style=\"fill:#0000ff;stroke:#0000ff;\" x=\"225.553319\" xlink:href=\"#m7ae7a52a6a\" y=\"59.2346\"/>\r\n     <use style=\"fill:#0000ff;stroke:#0000ff;\" x=\"241.572458\" xlink:href=\"#m7ae7a52a6a\" y=\"56.560158\"/>\r\n     <use style=\"fill:#0000ff;stroke:#0000ff;\" x=\"257.591597\" xlink:href=\"#m7ae7a52a6a\" y=\"51.971655\"/>\r\n     <use style=\"fill:#0000ff;stroke:#0000ff;\" x=\"273.610736\" xlink:href=\"#m7ae7a52a6a\" y=\"48.667933\"/>\r\n     <use style=\"fill:#0000ff;stroke:#0000ff;\" x=\"289.629874\" xlink:href=\"#m7ae7a52a6a\" y=\"44.970911\"/>\r\n     <use style=\"fill:#0000ff;stroke:#0000ff;\" x=\"305.649013\" xlink:href=\"#m7ae7a52a6a\" y=\"41.876949\"/>\r\n     <use style=\"fill:#0000ff;stroke:#0000ff;\" x=\"321.668152\" xlink:href=\"#m7ae7a52a6a\" y=\"39.307387\"/>\r\n     <use style=\"fill:#0000ff;stroke:#0000ff;\" x=\"337.687291\" xlink:href=\"#m7ae7a52a6a\" y=\"36.659165\"/>\r\n     <use style=\"fill:#0000ff;stroke:#0000ff;\" x=\"353.706429\" xlink:href=\"#m7ae7a52a6a\" y=\"35.348164\"/>\r\n     <use style=\"fill:#0000ff;stroke:#0000ff;\" x=\"369.725568\" xlink:href=\"#m7ae7a52a6a\" y=\"32.201761\"/>\r\n    </g>\r\n   </g>\r\n   <g id=\"line2d_19\">\r\n    <path clip-path=\"url(#p9e27ebfb91)\" d=\"M 65.361932 192.406081 \r\nL 81.381071 149.300368 \r\nL 97.400209 131.995155 \r\nL 113.419348 130.107312 \r\nL 129.438487 121.402266 \r\nL 145.457626 116.368023 \r\nL 161.476764 117.521703 \r\nL 177.495903 113.011859 \r\nL 193.515042 109.655697 \r\nL 209.534181 112.172818 \r\nL 225.553319 112.906979 \r\nL 241.572458 112.487459 \r\nL 257.591597 112.382578 \r\nL 273.610736 112.697218 \r\nL 289.629874 110.809376 \r\nL 305.649013 111.963058 \r\nL 321.668152 112.906978 \r\nL 337.687291 111.228897 \r\nL 353.706429 112.382578 \r\nL 369.725568 111.858178 \r\n\" style=\"fill:none;stroke:#ff0000;stroke-linecap:square;stroke-width:1.5;\"/>\r\n    <defs>\r\n     <path d=\"M 0 3 \r\nC 0.795609 3 1.55874 2.683901 2.12132 2.12132 \r\nC 2.683901 1.55874 3 0.795609 3 0 \r\nC 3 -0.795609 2.683901 -1.55874 2.12132 -2.12132 \r\nC 1.55874 -2.683901 0.795609 -3 0 -3 \r\nC -0.795609 -3 -1.55874 -2.683901 -2.12132 -2.12132 \r\nC -2.683901 -1.55874 -3 -0.795609 -3 0 \r\nC -3 0.795609 -2.683901 1.55874 -2.12132 2.12132 \r\nC -1.55874 2.683901 -0.795609 3 0 3 \r\nz\r\n\" id=\"m0f7dc59f61\" style=\"stroke:#ff0000;\"/>\r\n    </defs>\r\n    <g clip-path=\"url(#p9e27ebfb91)\">\r\n     <use style=\"fill:#ff0000;stroke:#ff0000;\" x=\"65.361932\" xlink:href=\"#m0f7dc59f61\" y=\"192.406081\"/>\r\n     <use style=\"fill:#ff0000;stroke:#ff0000;\" x=\"81.381071\" xlink:href=\"#m0f7dc59f61\" y=\"149.300368\"/>\r\n     <use style=\"fill:#ff0000;stroke:#ff0000;\" x=\"97.400209\" xlink:href=\"#m0f7dc59f61\" y=\"131.995155\"/>\r\n     <use style=\"fill:#ff0000;stroke:#ff0000;\" x=\"113.419348\" xlink:href=\"#m0f7dc59f61\" y=\"130.107312\"/>\r\n     <use style=\"fill:#ff0000;stroke:#ff0000;\" x=\"129.438487\" xlink:href=\"#m0f7dc59f61\" y=\"121.402266\"/>\r\n     <use style=\"fill:#ff0000;stroke:#ff0000;\" x=\"145.457626\" xlink:href=\"#m0f7dc59f61\" y=\"116.368023\"/>\r\n     <use style=\"fill:#ff0000;stroke:#ff0000;\" x=\"161.476764\" xlink:href=\"#m0f7dc59f61\" y=\"117.521703\"/>\r\n     <use style=\"fill:#ff0000;stroke:#ff0000;\" x=\"177.495903\" xlink:href=\"#m0f7dc59f61\" y=\"113.011859\"/>\r\n     <use style=\"fill:#ff0000;stroke:#ff0000;\" x=\"193.515042\" xlink:href=\"#m0f7dc59f61\" y=\"109.655697\"/>\r\n     <use style=\"fill:#ff0000;stroke:#ff0000;\" x=\"209.534181\" xlink:href=\"#m0f7dc59f61\" y=\"112.172818\"/>\r\n     <use style=\"fill:#ff0000;stroke:#ff0000;\" x=\"225.553319\" xlink:href=\"#m0f7dc59f61\" y=\"112.906979\"/>\r\n     <use style=\"fill:#ff0000;stroke:#ff0000;\" x=\"241.572458\" xlink:href=\"#m0f7dc59f61\" y=\"112.487459\"/>\r\n     <use style=\"fill:#ff0000;stroke:#ff0000;\" x=\"257.591597\" xlink:href=\"#m0f7dc59f61\" y=\"112.382578\"/>\r\n     <use style=\"fill:#ff0000;stroke:#ff0000;\" x=\"273.610736\" xlink:href=\"#m0f7dc59f61\" y=\"112.697218\"/>\r\n     <use style=\"fill:#ff0000;stroke:#ff0000;\" x=\"289.629874\" xlink:href=\"#m0f7dc59f61\" y=\"110.809376\"/>\r\n     <use style=\"fill:#ff0000;stroke:#ff0000;\" x=\"305.649013\" xlink:href=\"#m0f7dc59f61\" y=\"111.963058\"/>\r\n     <use style=\"fill:#ff0000;stroke:#ff0000;\" x=\"321.668152\" xlink:href=\"#m0f7dc59f61\" y=\"112.906978\"/>\r\n     <use style=\"fill:#ff0000;stroke:#ff0000;\" x=\"337.687291\" xlink:href=\"#m0f7dc59f61\" y=\"111.228897\"/>\r\n     <use style=\"fill:#ff0000;stroke:#ff0000;\" x=\"353.706429\" xlink:href=\"#m0f7dc59f61\" y=\"112.382578\"/>\r\n     <use style=\"fill:#ff0000;stroke:#ff0000;\" x=\"369.725568\" xlink:href=\"#m0f7dc59f61\" y=\"111.858178\"/>\r\n    </g>\r\n   </g>\r\n   <g id=\"patch_3\">\r\n    <path d=\"M 50.14375 239.758125 \r\nL 50.14375 22.318125 \r\n\" style=\"fill:none;stroke:#000000;stroke-linecap:square;stroke-linejoin:miter;stroke-width:0.8;\"/>\r\n   </g>\r\n   <g id=\"patch_4\">\r\n    <path d=\"M 384.94375 239.758125 \r\nL 384.94375 22.318125 \r\n\" style=\"fill:none;stroke:#000000;stroke-linecap:square;stroke-linejoin:miter;stroke-width:0.8;\"/>\r\n   </g>\r\n   <g id=\"patch_5\">\r\n    <path d=\"M 50.14375 239.758125 \r\nL 384.94375 239.758125 \r\n\" style=\"fill:none;stroke:#000000;stroke-linecap:square;stroke-linejoin:miter;stroke-width:0.8;\"/>\r\n   </g>\r\n   <g id=\"patch_6\">\r\n    <path d=\"M 50.14375 22.318125 \r\nL 384.94375 22.318125 \r\n\" style=\"fill:none;stroke:#000000;stroke-linecap:square;stroke-linejoin:miter;stroke-width:0.8;\"/>\r\n   </g>\r\n   <g id=\"text_20\">\r\n    <!-- Training and validation accuracy -->\r\n    <g transform=\"translate(120.251875 16.318125)scale(0.12 -0.12)\">\r\n     <defs>\r\n      <path d=\"M -0.296875 72.90625 \r\nL 61.375 72.90625 \r\nL 61.375 64.59375 \r\nL 35.5 64.59375 \r\nL 35.5 0 \r\nL 25.59375 0 \r\nL 25.59375 64.59375 \r\nL -0.296875 64.59375 \r\nz\r\n\" id=\"DejaVuSans-84\"/>\r\n      <path d=\"M 9.421875 54.6875 \r\nL 18.40625 54.6875 \r\nL 18.40625 0 \r\nL 9.421875 0 \r\nz\r\nM 9.421875 75.984375 \r\nL 18.40625 75.984375 \r\nL 18.40625 64.59375 \r\nL 9.421875 64.59375 \r\nz\r\n\" id=\"DejaVuSans-105\"/>\r\n      <path d=\"M 54.890625 33.015625 \r\nL 54.890625 0 \r\nL 45.90625 0 \r\nL 45.90625 32.71875 \r\nQ 45.90625 40.484375 42.875 44.328125 \r\nQ 39.84375 48.1875 33.796875 48.1875 \r\nQ 26.515625 48.1875 22.3125 43.546875 \r\nQ 18.109375 38.921875 18.109375 30.90625 \r\nL 18.109375 0 \r\nL 9.078125 0 \r\nL 9.078125 54.6875 \r\nL 18.109375 54.6875 \r\nL 18.109375 46.1875 \r\nQ 21.34375 51.125 25.703125 53.5625 \r\nQ 30.078125 56 35.796875 56 \r\nQ 45.21875 56 50.046875 50.171875 \r\nQ 54.890625 44.34375 54.890625 33.015625 \r\nz\r\n\" id=\"DejaVuSans-110\"/>\r\n      <path d=\"M 45.40625 27.984375 \r\nQ 45.40625 37.75 41.375 43.109375 \r\nQ 37.359375 48.484375 30.078125 48.484375 \r\nQ 22.859375 48.484375 18.828125 43.109375 \r\nQ 14.796875 37.75 14.796875 27.984375 \r\nQ 14.796875 18.265625 18.828125 12.890625 \r\nQ 22.859375 7.515625 30.078125 7.515625 \r\nQ 37.359375 7.515625 41.375 12.890625 \r\nQ 45.40625 18.265625 45.40625 27.984375 \r\nz\r\nM 54.390625 6.78125 \r\nQ 54.390625 -7.171875 48.1875 -13.984375 \r\nQ 42 -20.796875 29.203125 -20.796875 \r\nQ 24.46875 -20.796875 20.265625 -20.09375 \r\nQ 16.0625 -19.390625 12.109375 -17.921875 \r\nL 12.109375 -9.1875 \r\nQ 16.0625 -11.328125 19.921875 -12.34375 \r\nQ 23.78125 -13.375 27.78125 -13.375 \r\nQ 36.625 -13.375 41.015625 -8.765625 \r\nQ 45.40625 -4.15625 45.40625 5.171875 \r\nL 45.40625 9.625 \r\nQ 42.625 4.78125 38.28125 2.390625 \r\nQ 33.9375 0 27.875 0 \r\nQ 17.828125 0 11.671875 7.65625 \r\nQ 5.515625 15.328125 5.515625 27.984375 \r\nQ 5.515625 40.671875 11.671875 48.328125 \r\nQ 17.828125 56 27.875 56 \r\nQ 33.9375 56 38.28125 53.609375 \r\nQ 42.625 51.21875 45.40625 46.390625 \r\nL 45.40625 54.6875 \r\nL 54.390625 54.6875 \r\nz\r\n\" id=\"DejaVuSans-103\"/>\r\n      <path id=\"DejaVuSans-32\"/>\r\n      <path d=\"M 45.40625 46.390625 \r\nL 45.40625 75.984375 \r\nL 54.390625 75.984375 \r\nL 54.390625 0 \r\nL 45.40625 0 \r\nL 45.40625 8.203125 \r\nQ 42.578125 3.328125 38.25 0.953125 \r\nQ 33.9375 -1.421875 27.875 -1.421875 \r\nQ 17.96875 -1.421875 11.734375 6.484375 \r\nQ 5.515625 14.40625 5.515625 27.296875 \r\nQ 5.515625 40.1875 11.734375 48.09375 \r\nQ 17.96875 56 27.875 56 \r\nQ 33.9375 56 38.25 53.625 \r\nQ 42.578125 51.265625 45.40625 46.390625 \r\nz\r\nM 14.796875 27.296875 \r\nQ 14.796875 17.390625 18.875 11.75 \r\nQ 22.953125 6.109375 30.078125 6.109375 \r\nQ 37.203125 6.109375 41.296875 11.75 \r\nQ 45.40625 17.390625 45.40625 27.296875 \r\nQ 45.40625 37.203125 41.296875 42.84375 \r\nQ 37.203125 48.484375 30.078125 48.484375 \r\nQ 22.953125 48.484375 18.875 42.84375 \r\nQ 14.796875 37.203125 14.796875 27.296875 \r\nz\r\n\" id=\"DejaVuSans-100\"/>\r\n      <path d=\"M 2.984375 54.6875 \r\nL 12.5 54.6875 \r\nL 29.59375 8.796875 \r\nL 46.6875 54.6875 \r\nL 56.203125 54.6875 \r\nL 35.6875 0 \r\nL 23.484375 0 \r\nz\r\n\" id=\"DejaVuSans-118\"/>\r\n      <path d=\"M 9.421875 75.984375 \r\nL 18.40625 75.984375 \r\nL 18.40625 0 \r\nL 9.421875 0 \r\nz\r\n\" id=\"DejaVuSans-108\"/>\r\n      <path d=\"M 18.3125 70.21875 \r\nL 18.3125 54.6875 \r\nL 36.8125 54.6875 \r\nL 36.8125 47.703125 \r\nL 18.3125 47.703125 \r\nL 18.3125 18.015625 \r\nQ 18.3125 11.328125 20.140625 9.421875 \r\nQ 21.96875 7.515625 27.59375 7.515625 \r\nL 36.8125 7.515625 \r\nL 36.8125 0 \r\nL 27.59375 0 \r\nQ 17.1875 0 13.234375 3.875 \r\nQ 9.28125 7.765625 9.28125 18.015625 \r\nL 9.28125 47.703125 \r\nL 2.6875 47.703125 \r\nL 2.6875 54.6875 \r\nL 9.28125 54.6875 \r\nL 9.28125 70.21875 \r\nz\r\n\" id=\"DejaVuSans-116\"/>\r\n     </defs>\r\n     <use xlink:href=\"#DejaVuSans-84\"/>\r\n     <use x=\"46.333984\" xlink:href=\"#DejaVuSans-114\"/>\r\n     <use x=\"87.447266\" xlink:href=\"#DejaVuSans-97\"/>\r\n     <use x=\"148.726562\" xlink:href=\"#DejaVuSans-105\"/>\r\n     <use x=\"176.509766\" xlink:href=\"#DejaVuSans-110\"/>\r\n     <use x=\"239.888672\" xlink:href=\"#DejaVuSans-105\"/>\r\n     <use x=\"267.671875\" xlink:href=\"#DejaVuSans-110\"/>\r\n     <use x=\"331.050781\" xlink:href=\"#DejaVuSans-103\"/>\r\n     <use x=\"394.527344\" xlink:href=\"#DejaVuSans-32\"/>\r\n     <use x=\"426.314453\" xlink:href=\"#DejaVuSans-97\"/>\r\n     <use x=\"487.59375\" xlink:href=\"#DejaVuSans-110\"/>\r\n     <use x=\"550.972656\" xlink:href=\"#DejaVuSans-100\"/>\r\n     <use x=\"614.449219\" xlink:href=\"#DejaVuSans-32\"/>\r\n     <use x=\"646.236328\" xlink:href=\"#DejaVuSans-118\"/>\r\n     <use x=\"705.416016\" xlink:href=\"#DejaVuSans-97\"/>\r\n     <use x=\"766.695312\" xlink:href=\"#DejaVuSans-108\"/>\r\n     <use x=\"794.478516\" xlink:href=\"#DejaVuSans-105\"/>\r\n     <use x=\"822.261719\" xlink:href=\"#DejaVuSans-100\"/>\r\n     <use x=\"885.738281\" xlink:href=\"#DejaVuSans-97\"/>\r\n     <use x=\"947.017578\" xlink:href=\"#DejaVuSans-116\"/>\r\n     <use x=\"986.226562\" xlink:href=\"#DejaVuSans-105\"/>\r\n     <use x=\"1014.009766\" xlink:href=\"#DejaVuSans-111\"/>\r\n     <use x=\"1075.191406\" xlink:href=\"#DejaVuSans-110\"/>\r\n     <use x=\"1138.570312\" xlink:href=\"#DejaVuSans-32\"/>\r\n     <use x=\"1170.357422\" xlink:href=\"#DejaVuSans-97\"/>\r\n     <use x=\"1231.636719\" xlink:href=\"#DejaVuSans-99\"/>\r\n     <use x=\"1286.617188\" xlink:href=\"#DejaVuSans-99\"/>\r\n     <use x=\"1341.597656\" xlink:href=\"#DejaVuSans-117\"/>\r\n     <use x=\"1404.976562\" xlink:href=\"#DejaVuSans-114\"/>\r\n     <use x=\"1446.089844\" xlink:href=\"#DejaVuSans-97\"/>\r\n     <use x=\"1507.369141\" xlink:href=\"#DejaVuSans-99\"/>\r\n     <use x=\"1562.349609\" xlink:href=\"#DejaVuSans-121\"/>\r\n    </g>\r\n   </g>\r\n   <g id=\"legend_1\">\r\n    <g id=\"patch_7\">\r\n     <path d=\"M 57.14375 60.230625 \r\nL 162.5375 60.230625 \r\nQ 164.5375 60.230625 164.5375 58.230625 \r\nL 164.5375 29.318125 \r\nQ 164.5375 27.318125 162.5375 27.318125 \r\nL 57.14375 27.318125 \r\nQ 55.14375 27.318125 55.14375 29.318125 \r\nL 55.14375 58.230625 \r\nQ 55.14375 60.230625 57.14375 60.230625 \r\nz\r\n\" style=\"fill:#ffffff;opacity:0.8;stroke:#cccccc;stroke-linejoin:miter;\"/>\r\n    </g>\r\n    <g id=\"line2d_20\">\r\n     <path d=\"M 59.14375 35.416562 \r\nL 79.14375 35.416562 \r\n\" style=\"fill:none;stroke:#0000ff;stroke-dasharray:5.55,2.4;stroke-dashoffset:0;stroke-width:1.5;\"/>\r\n    </g>\r\n    <g id=\"line2d_21\">\r\n     <g>\r\n      <use style=\"fill:#0000ff;stroke:#0000ff;\" x=\"69.14375\" xlink:href=\"#m7ae7a52a6a\" y=\"35.416562\"/>\r\n     </g>\r\n    </g>\r\n    <g id=\"text_21\">\r\n     <!-- train_accuracy -->\r\n     <g transform=\"translate(87.14375 38.916562)scale(0.1 -0.1)\">\r\n      <defs>\r\n       <path d=\"M 50.984375 -16.609375 \r\nL 50.984375 -23.578125 \r\nL -0.984375 -23.578125 \r\nL -0.984375 -16.609375 \r\nz\r\n\" id=\"DejaVuSans-95\"/>\r\n      </defs>\r\n      <use xlink:href=\"#DejaVuSans-116\"/>\r\n      <use x=\"39.208984\" xlink:href=\"#DejaVuSans-114\"/>\r\n      <use x=\"80.322266\" xlink:href=\"#DejaVuSans-97\"/>\r\n      <use x=\"141.601562\" xlink:href=\"#DejaVuSans-105\"/>\r\n      <use x=\"169.384766\" xlink:href=\"#DejaVuSans-110\"/>\r\n      <use x=\"232.763672\" xlink:href=\"#DejaVuSans-95\"/>\r\n      <use x=\"282.763672\" xlink:href=\"#DejaVuSans-97\"/>\r\n      <use x=\"344.042969\" xlink:href=\"#DejaVuSans-99\"/>\r\n      <use x=\"399.023438\" xlink:href=\"#DejaVuSans-99\"/>\r\n      <use x=\"454.003906\" xlink:href=\"#DejaVuSans-117\"/>\r\n      <use x=\"517.382812\" xlink:href=\"#DejaVuSans-114\"/>\r\n      <use x=\"558.496094\" xlink:href=\"#DejaVuSans-97\"/>\r\n      <use x=\"619.775391\" xlink:href=\"#DejaVuSans-99\"/>\r\n      <use x=\"674.755859\" xlink:href=\"#DejaVuSans-121\"/>\r\n     </g>\r\n    </g>\r\n    <g id=\"line2d_22\">\r\n     <path d=\"M 59.14375 50.372812 \r\nL 79.14375 50.372812 \r\n\" style=\"fill:none;stroke:#ff0000;stroke-linecap:square;stroke-width:1.5;\"/>\r\n    </g>\r\n    <g id=\"line2d_23\">\r\n     <g>\r\n      <use style=\"fill:#ff0000;stroke:#ff0000;\" x=\"69.14375\" xlink:href=\"#m0f7dc59f61\" y=\"50.372812\"/>\r\n     </g>\r\n    </g>\r\n    <g id=\"text_22\">\r\n     <!-- val_accuracy -->\r\n     <g transform=\"translate(87.14375 53.872812)scale(0.1 -0.1)\">\r\n      <use xlink:href=\"#DejaVuSans-118\"/>\r\n      <use x=\"59.179688\" xlink:href=\"#DejaVuSans-97\"/>\r\n      <use x=\"120.458984\" xlink:href=\"#DejaVuSans-108\"/>\r\n      <use x=\"148.242188\" xlink:href=\"#DejaVuSans-95\"/>\r\n      <use x=\"198.242188\" xlink:href=\"#DejaVuSans-97\"/>\r\n      <use x=\"259.521484\" xlink:href=\"#DejaVuSans-99\"/>\r\n      <use x=\"314.501953\" xlink:href=\"#DejaVuSans-99\"/>\r\n      <use x=\"369.482422\" xlink:href=\"#DejaVuSans-117\"/>\r\n      <use x=\"432.861328\" xlink:href=\"#DejaVuSans-114\"/>\r\n      <use x=\"473.974609\" xlink:href=\"#DejaVuSans-97\"/>\r\n      <use x=\"535.253906\" xlink:href=\"#DejaVuSans-99\"/>\r\n      <use x=\"590.234375\" xlink:href=\"#DejaVuSans-121\"/>\r\n     </g>\r\n    </g>\r\n   </g>\r\n  </g>\r\n </g>\r\n <defs>\r\n  <clipPath id=\"p9e27ebfb91\">\r\n   <rect height=\"217.44\" width=\"334.8\" x=\"50.14375\" y=\"22.318125\"/>\r\n  </clipPath>\r\n </defs>\r\n</svg>\r\n"
     },
     "metadata": {
      "needs_background": "light"
     }
    }
   ],
   "source": [
    "plot_metric(dfhistory,\"accuracy\")"
   ]
  },
  {
   "cell_type": "code",
   "execution_count": 19,
   "metadata": {},
   "outputs": [
    {
     "output_type": "execute_result",
     "data": {
      "text/plain": [
       "{'val_loss': 0.543543950945139, 'val_accuracy': 0.787200001001358}"
      ]
     },
     "metadata": {},
     "execution_count": 19
    }
   ],
   "source": [
    "model.evaluate(dl_test)"
   ]
  }
 ]
}