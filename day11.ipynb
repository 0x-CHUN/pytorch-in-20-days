{
 "cells": [
  {
   "cell_type": "markdown",
   "metadata": {
    "collapsed": true,
    "pycharm": {
     "name": "#%% md\n"
    }
   },
   "source": [
    "# 张量的结构操作"
   ]
  },
  {
   "cell_type": "markdown",
   "source": [
    "## 创建张量"
   ],
   "metadata": {
    "collapsed": false,
    "pycharm": {
     "name": "#%% md\n"
    }
   }
  },
  {
   "cell_type": "code",
   "execution_count": 1,
   "outputs": [],
   "source": [
    "import numpy as np\n",
    "import torch"
   ],
   "metadata": {
    "collapsed": false,
    "pycharm": {
     "name": "#%%\n"
    }
   }
  },
  {
   "cell_type": "code",
   "execution_count": 2,
   "outputs": [
    {
     "name": "stdout",
     "output_type": "stream",
     "text": [
      "tensor([1., 2., 3.])\n"
     ]
    }
   ],
   "source": [
    "a = torch.tensor([1, 2, 3], dtype=torch.float)\n",
    "print(a)"
   ],
   "metadata": {
    "collapsed": false,
    "pycharm": {
     "name": "#%%\n"
    }
   }
  },
  {
   "cell_type": "code",
   "execution_count": 3,
   "outputs": [
    {
     "name": "stdout",
     "output_type": "stream",
     "text": [
      "tensor([1, 3, 5, 7, 9])\n"
     ]
    }
   ],
   "source": [
    "b = torch.arange(1, 10, step=2)\n",
    "print(b)"
   ],
   "metadata": {
    "collapsed": false,
    "pycharm": {
     "name": "#%%\n"
    }
   }
  },
  {
   "cell_type": "code",
   "execution_count": 4,
   "outputs": [
    {
     "name": "stdout",
     "output_type": "stream",
     "text": [
      "tensor([0.0000, 0.6978, 1.3956, 2.0933, 2.7911, 3.4889, 4.1867, 4.8844, 5.5822,\n",
      "        6.2800])\n"
     ]
    }
   ],
   "source": [
    "c = torch.linspace(0.0, 2 * 3.14, 10)\n",
    "print(c)"
   ],
   "metadata": {
    "collapsed": false,
    "pycharm": {
     "name": "#%%\n"
    }
   }
  },
  {
   "cell_type": "code",
   "execution_count": 5,
   "outputs": [
    {
     "name": "stdout",
     "output_type": "stream",
     "text": [
      "tensor([[0., 0., 0.],\n",
      "        [0., 0., 0.],\n",
      "        [0., 0., 0.]])\n"
     ]
    }
   ],
   "source": [
    "d = torch.zeros((3, 3))\n",
    "print(d)"
   ],
   "metadata": {
    "collapsed": false,
    "pycharm": {
     "name": "#%%\n"
    }
   }
  },
  {
   "cell_type": "code",
   "execution_count": 6,
   "outputs": [
    {
     "name": "stdout",
     "output_type": "stream",
     "text": [
      "tensor([[1, 1, 1],\n",
      "        [1, 1, 1],\n",
      "        [1, 1, 1]], dtype=torch.int32)\n",
      "tensor([[0., 0., 0.],\n",
      "        [0., 0., 0.],\n",
      "        [0., 0., 0.]])\n"
     ]
    }
   ],
   "source": [
    "a = torch.ones((3, 3), dtype=torch.int)\n",
    "b = torch.zeros_like(a, dtype=torch.float)\n",
    "print(a)\n",
    "print(b)"
   ],
   "metadata": {
    "collapsed": false,
    "pycharm": {
     "name": "#%%\n"
    }
   }
  },
  {
   "cell_type": "code",
   "execution_count": 7,
   "outputs": [
    {
     "name": "stdout",
     "output_type": "stream",
     "text": [
      "tensor([[5., 5., 5.],\n",
      "        [5., 5., 5.],\n",
      "        [5., 5., 5.]])\n"
     ]
    }
   ],
   "source": [
    "torch.fill_(b, 5)\n",
    "print(b)"
   ],
   "metadata": {
    "collapsed": false,
    "pycharm": {
     "name": "#%%\n"
    }
   }
  },
  {
   "cell_type": "code",
   "execution_count": 8,
   "outputs": [
    {
     "name": "stdout",
     "output_type": "stream",
     "text": [
      "tensor([4.9626, 7.6822, 0.8848, 1.3203, 3.0742])\n"
     ]
    }
   ],
   "source": [
    "torch.manual_seed(0)\n",
    "minVal, maxVal = 0, 10\n",
    "a = minVal + (maxVal - minVal) * torch.rand([5])\n",
    "print(a)"
   ],
   "metadata": {
    "collapsed": false,
    "pycharm": {
     "name": "#%%\n"
    }
   }
  },
  {
   "cell_type": "code",
   "execution_count": 9,
   "outputs": [
    {
     "name": "stdout",
     "output_type": "stream",
     "text": [
      "tensor([[ 0.5507,  0.2704,  0.6472],\n",
      "        [ 0.2490, -0.3354,  0.4564],\n",
      "        [-0.6255,  0.4539, -1.3740]])\n"
     ]
    }
   ],
   "source": [
    "b = torch.normal(mean=torch.zeros(3, 3), std=torch.ones(3, 3))\n",
    "print(b)"
   ],
   "metadata": {
    "collapsed": false,
    "pycharm": {
     "name": "#%%\n"
    }
   }
  },
  {
   "cell_type": "code",
   "execution_count": 10,
   "outputs": [
    {
     "name": "stdout",
     "output_type": "stream",
     "text": [
      "tensor([ 1, 11, 19, 14, 12,  6,  5,  9,  8, 18, 15,  4,  2,  3,  7, 13,  0, 10,\n",
      "        16, 17])\n"
     ]
    }
   ],
   "source": [
    "d = torch.randperm(20)\n",
    "print(d)"
   ],
   "metadata": {
    "collapsed": false,
    "pycharm": {
     "name": "#%%\n"
    }
   }
  },
  {
   "cell_type": "code",
   "execution_count": 11,
   "outputs": [
    {
     "name": "stdout",
     "output_type": "stream",
     "text": [
      "tensor([[1., 0., 0.],\n",
      "        [0., 1., 0.],\n",
      "        [0., 0., 1.]])\n",
      "tensor([[1, 0, 0],\n",
      "        [0, 2, 0],\n",
      "        [0, 0, 3]])\n"
     ]
    }
   ],
   "source": [
    "I = torch.eye(3, 3)\n",
    "print(I)\n",
    "t = torch.diag(torch.tensor([1, 2, 3]))\n",
    "print(t)"
   ],
   "metadata": {
    "collapsed": false,
    "pycharm": {
     "name": "#%%\n"
    }
   }
  },
  {
   "cell_type": "markdown",
   "source": [
    "## 索引切片"
   ],
   "metadata": {
    "collapsed": false,
    "pycharm": {
     "name": "#%% md\n"
    }
   }
  },
  {
   "cell_type": "code",
   "execution_count": 12,
   "outputs": [
    {
     "name": "stdout",
     "output_type": "stream",
     "text": [
      "tensor([[4, 7, 0, 1, 3],\n",
      "        [6, 4, 8, 4, 6],\n",
      "        [3, 4, 0, 1, 2],\n",
      "        [5, 6, 8, 1, 2],\n",
      "        [6, 9, 3, 8, 4]], dtype=torch.int32)\n"
     ]
    }
   ],
   "source": [
    "torch.manual_seed(0)\n",
    "minVal, maxVal = 0, 10\n",
    "t = torch.floor(minVal + (maxVal - minVal) * torch.rand([5, 5])).int()\n",
    "print(t)"
   ],
   "metadata": {
    "collapsed": false,
    "pycharm": {
     "name": "#%%\n"
    }
   }
  },
  {
   "cell_type": "code",
   "execution_count": 13,
   "outputs": [
    {
     "name": "stdout",
     "output_type": "stream",
     "text": [
      "tensor([4, 7, 0, 1, 3], dtype=torch.int32)\n"
     ]
    }
   ],
   "source": [
    "print(t[0])"
   ],
   "metadata": {
    "collapsed": false,
    "pycharm": {
     "name": "#%%\n"
    }
   }
  },
  {
   "cell_type": "code",
   "execution_count": 14,
   "outputs": [
    {
     "name": "stdout",
     "output_type": "stream",
     "text": [
      "tensor([6, 9, 3, 8, 4], dtype=torch.int32)\n"
     ]
    }
   ],
   "source": [
    "print(t[-1])"
   ],
   "metadata": {
    "collapsed": false,
    "pycharm": {
     "name": "#%%\n"
    }
   }
  },
  {
   "cell_type": "code",
   "execution_count": 15,
   "outputs": [
    {
     "name": "stdout",
     "output_type": "stream",
     "text": [
      "tensor(4, dtype=torch.int32)\n",
      "tensor(4, dtype=torch.int32)\n"
     ]
    }
   ],
   "source": [
    "print(t[1, 3])\n",
    "print(t[1][3])"
   ],
   "metadata": {
    "collapsed": false,
    "pycharm": {
     "name": "#%%\n"
    }
   }
  },
  {
   "cell_type": "code",
   "execution_count": 16,
   "outputs": [
    {
     "name": "stdout",
     "output_type": "stream",
     "text": [
      "tensor([[6, 4, 8, 4, 6],\n",
      "        [3, 4, 0, 1, 2],\n",
      "        [5, 6, 8, 1, 2]], dtype=torch.int32)\n"
     ]
    }
   ],
   "source": [
    "print(t[1 : 4, :])"
   ],
   "metadata": {
    "collapsed": false,
    "pycharm": {
     "name": "#%%\n"
    }
   }
  },
  {
   "cell_type": "code",
   "execution_count": 18,
   "outputs": [
    {
     "name": "stdout",
     "output_type": "stream",
     "text": [
      "tensor([[6, 8],\n",
      "        [3, 0],\n",
      "        [5, 8]], dtype=torch.int32)\n"
     ]
    }
   ],
   "source": [
    "print(t[1 : 4, : 4 : 2])"
   ],
   "metadata": {
    "collapsed": false,
    "pycharm": {
     "name": "#%%\n"
    }
   }
  },
  {
   "cell_type": "code",
   "execution_count": 19,
   "outputs": [
    {
     "name": "stdout",
     "output_type": "stream",
     "text": [
      "tensor([[1., 2.],\n",
      "        [0., 0.]], requires_grad=True)\n"
     ]
    }
   ],
   "source": [
    "x = torch.tensor([[1, 2], [3, 4]], dtype=torch.float32, requires_grad=True)\n",
    "x.data[1, :] = torch.tensor([0.0, 0.0])\n",
    "print(x)"
   ],
   "metadata": {
    "collapsed": false,
    "pycharm": {
     "name": "#%%\n"
    }
   }
  },
  {
   "cell_type": "code",
   "execution_count": 20,
   "outputs": [
    {
     "name": "stdout",
     "output_type": "stream",
     "text": [
      "tensor([[[ 0,  1,  2],\n",
      "         [ 3,  4,  5],\n",
      "         [ 6,  7,  8]],\n",
      "\n",
      "        [[ 9, 10, 11],\n",
      "         [12, 13, 14],\n",
      "         [15, 16, 17]],\n",
      "\n",
      "        [[18, 19, 20],\n",
      "         [21, 22, 23],\n",
      "         [24, 25, 26]]])\n"
     ]
    }
   ],
   "source": [
    "a = torch.arange(27).view(3, 3, 3)\n",
    "print(a)"
   ],
   "metadata": {
    "collapsed": false,
    "pycharm": {
     "name": "#%%\n"
    }
   }
  },
  {
   "cell_type": "code",
   "execution_count": 21,
   "outputs": [
    {
     "name": "stdout",
     "output_type": "stream",
     "text": [
      "tensor([[ 1,  4,  7],\n",
      "        [10, 13, 16],\n",
      "        [19, 22, 25]])\n"
     ]
    }
   ],
   "source": [
    "print(a[..., 1])"
   ],
   "metadata": {
    "collapsed": false,
    "pycharm": {
     "name": "#%%\n"
    }
   }
  },
  {
   "cell_type": "code",
   "execution_count": 22,
   "outputs": [
    {
     "name": "stdout",
     "output_type": "stream",
     "text": [
      "tensor([[[55., 95.,  3., 18., 37., 30., 93.],\n",
      "         [17., 26., 15.,  3., 20., 92., 72.],\n",
      "         [74., 52., 24., 58.,  3., 13., 24.],\n",
      "         [81., 79., 27., 48., 81., 99., 69.],\n",
      "         [56., 83., 20., 59., 11., 15., 24.],\n",
      "         [72., 70., 20., 65., 77., 43., 51.],\n",
      "         [61., 81., 98., 11., 31., 69., 91.],\n",
      "         [93., 94., 59.,  6., 54., 18.,  3.],\n",
      "         [94., 88.,  0., 59., 41., 41., 27.],\n",
      "         [69., 20., 68., 75., 85., 68.,  0.]],\n",
      "\n",
      "        [[17., 74., 60., 10., 21., 97., 83.],\n",
      "         [28., 37.,  2., 49., 12., 11., 47.],\n",
      "         [57., 29., 79., 19., 95., 84.,  7.],\n",
      "         [37., 52., 57., 61., 69., 52., 25.],\n",
      "         [73.,  2., 20., 37., 25., 32.,  9.],\n",
      "         [39., 60., 17., 47., 85., 44., 51.],\n",
      "         [45., 60., 81., 97., 81., 97., 46.],\n",
      "         [ 5., 26., 84., 49., 25., 11.,  3.],\n",
      "         [ 7., 39., 77., 77.,  1., 81., 10.],\n",
      "         [39., 29., 40., 40.,  5.,  6., 42.]],\n",
      "\n",
      "        [[50., 27., 68.,  4., 46., 93., 29.],\n",
      "         [95., 68.,  4., 81., 44., 27., 89.],\n",
      "         [ 9., 55., 39., 85., 63., 74., 67.],\n",
      "         [37., 39.,  8., 77., 89., 84., 14.],\n",
      "         [52., 14., 22., 20., 67., 20., 48.],\n",
      "         [52., 82., 12., 15., 20., 84., 32.],\n",
      "         [92., 68., 56., 49., 40., 56., 38.],\n",
      "         [49., 56., 10., 23., 90.,  9., 46.],\n",
      "         [99., 68., 51.,  6., 74., 14., 35.],\n",
      "         [33., 42., 50., 91., 56., 94., 80.]],\n",
      "\n",
      "        [[18., 72., 14., 28., 64., 66., 87.],\n",
      "         [33., 50., 75.,  1., 86.,  8., 50.],\n",
      "         [41., 23., 56., 91., 35., 20., 31.],\n",
      "         [ 0., 72., 25., 16., 21., 78., 76.],\n",
      "         [88., 68., 33., 36., 64., 91., 63.],\n",
      "         [26., 26.,  2., 60., 21.,  5., 93.],\n",
      "         [17., 44., 64., 51., 16.,  9., 89.],\n",
      "         [58., 91., 33., 64., 38., 47., 19.],\n",
      "         [66., 65., 48., 38., 19., 84., 12.],\n",
      "         [70., 33., 25., 58., 24., 61., 59.]]])\n"
     ]
    }
   ],
   "source": [
    "# 4个班级，每个班级10个学生，每个学生7门科目成绩\n",
    "\n",
    "minVal, maxVal = 0, 100\n",
    "scores = torch.floor(minVal + (maxVal - minVal) * torch.rand([4, 10, 7]))\n",
    "print(scores)"
   ],
   "metadata": {
    "collapsed": false,
    "pycharm": {
     "name": "#%%\n"
    }
   }
  },
  {
   "cell_type": "code",
   "execution_count": 23,
   "outputs": [
    {
     "data": {
      "text/plain": "tensor([[[55., 95.,  3., 18., 37., 30., 93.],\n         [72., 70., 20., 65., 77., 43., 51.],\n         [69., 20., 68., 75., 85., 68.,  0.]],\n\n        [[17., 74., 60., 10., 21., 97., 83.],\n         [39., 60., 17., 47., 85., 44., 51.],\n         [39., 29., 40., 40.,  5.,  6., 42.]],\n\n        [[50., 27., 68.,  4., 46., 93., 29.],\n         [52., 82., 12., 15., 20., 84., 32.],\n         [33., 42., 50., 91., 56., 94., 80.]],\n\n        [[18., 72., 14., 28., 64., 66., 87.],\n         [26., 26.,  2., 60., 21.,  5., 93.],\n         [70., 33., 25., 58., 24., 61., 59.]]])"
     },
     "execution_count": 23,
     "metadata": {},
     "output_type": "execute_result"
    }
   ],
   "source": [
    "# 抽取每个班级第0个学生，第5个学生，第9个学生的全部成绩\n",
    "\n",
    "torch.index_select(scores, dim=1, index=torch.tensor([0, 5, 9]))"
   ],
   "metadata": {
    "collapsed": false,
    "pycharm": {
     "name": "#%%\n"
    }
   }
  },
  {
   "cell_type": "code",
   "execution_count": 24,
   "outputs": [
    {
     "name": "stdout",
     "output_type": "stream",
     "text": [
      "tensor([[[95., 18., 93.],\n",
      "         [70., 65., 51.],\n",
      "         [20., 75.,  0.]],\n",
      "\n",
      "        [[74., 10., 83.],\n",
      "         [60., 47., 51.],\n",
      "         [29., 40., 42.]],\n",
      "\n",
      "        [[27.,  4., 29.],\n",
      "         [82., 15., 32.],\n",
      "         [42., 91., 80.]],\n",
      "\n",
      "        [[72., 28., 87.],\n",
      "         [26., 60., 93.],\n",
      "         [33., 58., 59.]]])\n"
     ]
    }
   ],
   "source": [
    "# 抽取每个班级第0个学生，第5个学生，第9个学生的第1门课程，第3门课程，第6门课程成绩\n",
    "\n",
    "q = torch.index_select(torch.index_select(scores, dim=1, index=torch.tensor([0, 5, 9])), dim=2, index=torch.tensor([1, 3, 6]))\n",
    "print(q)"
   ],
   "metadata": {
    "collapsed": false,
    "pycharm": {
     "name": "#%%\n"
    }
   }
  },
  {
   "cell_type": "code",
   "execution_count": 25,
   "outputs": [
    {
     "name": "stdout",
     "output_type": "stream",
     "text": [
      "tensor([55., 14., 59.])\n"
     ]
    }
   ],
   "source": [
    "# 抽取第0个班级第0个学生的第0门课程，第2个班级的第4个学生的第1门课程，第3个班级的第9个学生第6门课程成绩\n",
    "\n",
    "s = torch.take(scores, torch.tensor([0 * 10 * 7 + 0, 2 * 10 * 7 + 4 * 7 + 1, 3 * 10 * 7 + 9 * 7 + 6]))\n",
    "print(s)"
   ],
   "metadata": {
    "collapsed": false,
    "pycharm": {
     "name": "#%%\n"
    }
   }
  },
  {
   "cell_type": "code",
   "execution_count": 26,
   "outputs": [
    {
     "name": "stdout",
     "output_type": "stream",
     "text": [
      "tensor([95., 93., 92., 81., 81., 99., 83., 81., 98., 91., 93., 94., 94., 88.,\n",
      "        85., 97., 83., 95., 84., 85., 81., 97., 81., 97., 84., 81., 93., 95.,\n",
      "        81., 89., 85., 89., 84., 82., 84., 92., 90., 99., 91., 94., 80., 87.,\n",
      "        86., 91., 88., 91., 93., 89., 91., 84.])\n"
     ]
    }
   ],
   "source": [
    "# 抽取分数大于等于80分的分数（布尔索引\n",
    "g = torch.masked_select(scores, scores >= 80)\n",
    "print(g)"
   ],
   "metadata": {
    "collapsed": false,
    "pycharm": {
     "name": "#%%\n"
    }
   }
  },
  {
   "cell_type": "code",
   "execution_count": 27,
   "outputs": [
    {
     "name": "stdout",
     "output_type": "stream",
     "text": [
      "tensor([[[0, 1, 0, 0, 0, 0, 1],\n",
      "         [0, 0, 0, 0, 0, 1, 1],\n",
      "         [1, 0, 0, 0, 0, 0, 0],\n",
      "         [1, 1, 0, 0, 1, 1, 1],\n",
      "         [0, 1, 0, 0, 0, 0, 0],\n",
      "         [1, 1, 0, 1, 1, 0, 0],\n",
      "         [1, 1, 1, 0, 0, 1, 1],\n",
      "         [1, 1, 0, 0, 0, 0, 0],\n",
      "         [1, 1, 0, 0, 0, 0, 0],\n",
      "         [1, 0, 1, 1, 1, 1, 0]],\n",
      "\n",
      "        [[0, 1, 1, 0, 0, 1, 1],\n",
      "         [0, 0, 0, 0, 0, 0, 0],\n",
      "         [0, 0, 1, 0, 1, 1, 0],\n",
      "         [0, 0, 0, 1, 1, 0, 0],\n",
      "         [1, 0, 0, 0, 0, 0, 0],\n",
      "         [0, 1, 0, 0, 1, 0, 0],\n",
      "         [0, 1, 1, 1, 1, 1, 0],\n",
      "         [0, 0, 1, 0, 0, 0, 0],\n",
      "         [0, 0, 1, 1, 0, 1, 0],\n",
      "         [0, 0, 0, 0, 0, 0, 0]],\n",
      "\n",
      "        [[0, 0, 1, 0, 0, 1, 0],\n",
      "         [1, 1, 0, 1, 0, 0, 1],\n",
      "         [0, 0, 0, 1, 1, 1, 1],\n",
      "         [0, 0, 0, 1, 1, 1, 0],\n",
      "         [0, 0, 0, 0, 1, 0, 0],\n",
      "         [0, 1, 0, 0, 0, 1, 0],\n",
      "         [1, 1, 0, 0, 0, 0, 0],\n",
      "         [0, 0, 0, 0, 1, 0, 0],\n",
      "         [1, 1, 0, 0, 1, 0, 0],\n",
      "         [0, 0, 0, 1, 0, 1, 1]],\n",
      "\n",
      "        [[0, 1, 0, 0, 1, 1, 1],\n",
      "         [0, 0, 1, 0, 1, 0, 0],\n",
      "         [0, 0, 0, 1, 0, 0, 0],\n",
      "         [0, 1, 0, 0, 0, 1, 1],\n",
      "         [1, 1, 0, 0, 1, 1, 1],\n",
      "         [0, 0, 0, 1, 0, 0, 1],\n",
      "         [0, 0, 1, 0, 0, 0, 1],\n",
      "         [0, 1, 0, 1, 0, 0, 0],\n",
      "         [1, 1, 0, 0, 0, 1, 0],\n",
      "         [1, 0, 0, 0, 0, 1, 0]]])\n"
     ]
    }
   ],
   "source": [
    "# 如果分数大于60分，赋值成1，否则赋值成0\n",
    "ispass = torch.where(scores >= 60, torch.tensor(1), torch.tensor(0))\n",
    "print(ispass)"
   ],
   "metadata": {
    "collapsed": false,
    "pycharm": {
     "name": "#%%\n"
    }
   }
  },
  {
   "cell_type": "code",
   "execution_count": 28,
   "outputs": [
    {
     "data": {
      "text/plain": "tensor([[[100., 100., 100., 100., 100., 100., 100.],\n         [ 17.,  26.,  15.,   3.,  20.,  92.,  72.],\n         [ 74.,  52.,  24.,  58.,   3.,  13.,  24.],\n         [ 81.,  79.,  27.,  48.,  81.,  99.,  69.],\n         [ 56.,  83.,  20.,  59.,  11.,  15.,  24.],\n         [100., 100., 100., 100., 100., 100., 100.],\n         [ 61.,  81.,  98.,  11.,  31.,  69.,  91.],\n         [ 93.,  94.,  59.,   6.,  54.,  18.,   3.],\n         [ 94.,  88.,   0.,  59.,  41.,  41.,  27.],\n         [100., 100., 100., 100., 100., 100., 100.]],\n\n        [[100., 100., 100., 100., 100., 100., 100.],\n         [ 28.,  37.,   2.,  49.,  12.,  11.,  47.],\n         [ 57.,  29.,  79.,  19.,  95.,  84.,   7.],\n         [ 37.,  52.,  57.,  61.,  69.,  52.,  25.],\n         [ 73.,   2.,  20.,  37.,  25.,  32.,   9.],\n         [100., 100., 100., 100., 100., 100., 100.],\n         [ 45.,  60.,  81.,  97.,  81.,  97.,  46.],\n         [  5.,  26.,  84.,  49.,  25.,  11.,   3.],\n         [  7.,  39.,  77.,  77.,   1.,  81.,  10.],\n         [100., 100., 100., 100., 100., 100., 100.]],\n\n        [[100., 100., 100., 100., 100., 100., 100.],\n         [ 95.,  68.,   4.,  81.,  44.,  27.,  89.],\n         [  9.,  55.,  39.,  85.,  63.,  74.,  67.],\n         [ 37.,  39.,   8.,  77.,  89.,  84.,  14.],\n         [ 52.,  14.,  22.,  20.,  67.,  20.,  48.],\n         [100., 100., 100., 100., 100., 100., 100.],\n         [ 92.,  68.,  56.,  49.,  40.,  56.,  38.],\n         [ 49.,  56.,  10.,  23.,  90.,   9.,  46.],\n         [ 99.,  68.,  51.,   6.,  74.,  14.,  35.],\n         [100., 100., 100., 100., 100., 100., 100.]],\n\n        [[100., 100., 100., 100., 100., 100., 100.],\n         [ 33.,  50.,  75.,   1.,  86.,   8.,  50.],\n         [ 41.,  23.,  56.,  91.,  35.,  20.,  31.],\n         [  0.,  72.,  25.,  16.,  21.,  78.,  76.],\n         [ 88.,  68.,  33.,  36.,  64.,  91.,  63.],\n         [100., 100., 100., 100., 100., 100., 100.],\n         [ 17.,  44.,  64.,  51.,  16.,   9.,  89.],\n         [ 58.,  91.,  33.,  64.,  38.,  47.,  19.],\n         [ 66.,  65.,  48.,  38.,  19.,  84.,  12.],\n         [100., 100., 100., 100., 100., 100., 100.]]])"
     },
     "execution_count": 28,
     "metadata": {},
     "output_type": "execute_result"
    }
   ],
   "source": [
    "# 将每个班级第0个学生，第5个学生，第9个学生的全部成绩赋值成满分\n",
    "torch.index_fill(scores, dim=1, index=torch.tensor([0, 5, 9]), value=100)"
   ],
   "metadata": {
    "collapsed": false,
    "pycharm": {
     "name": "#%%\n"
    }
   }
  },
  {
   "cell_type": "code",
   "execution_count": 29,
   "outputs": [
    {
     "name": "stdout",
     "output_type": "stream",
     "text": [
      "tensor([[[60., 95., 60., 60., 60., 60., 93.],\n",
      "         [60., 60., 60., 60., 60., 92., 72.],\n",
      "         [74., 60., 60., 60., 60., 60., 60.],\n",
      "         [81., 79., 60., 60., 81., 99., 69.],\n",
      "         [60., 83., 60., 60., 60., 60., 60.],\n",
      "         [72., 70., 60., 65., 77., 60., 60.],\n",
      "         [61., 81., 98., 60., 60., 69., 91.],\n",
      "         [93., 94., 60., 60., 60., 60., 60.],\n",
      "         [94., 88., 60., 60., 60., 60., 60.],\n",
      "         [69., 60., 68., 75., 85., 68., 60.]],\n",
      "\n",
      "        [[60., 74., 60., 60., 60., 97., 83.],\n",
      "         [60., 60., 60., 60., 60., 60., 60.],\n",
      "         [60., 60., 79., 60., 95., 84., 60.],\n",
      "         [60., 60., 60., 61., 69., 60., 60.],\n",
      "         [73., 60., 60., 60., 60., 60., 60.],\n",
      "         [60., 60., 60., 60., 85., 60., 60.],\n",
      "         [60., 60., 81., 97., 81., 97., 60.],\n",
      "         [60., 60., 84., 60., 60., 60., 60.],\n",
      "         [60., 60., 77., 77., 60., 81., 60.],\n",
      "         [60., 60., 60., 60., 60., 60., 60.]],\n",
      "\n",
      "        [[60., 60., 68., 60., 60., 93., 60.],\n",
      "         [95., 68., 60., 81., 60., 60., 89.],\n",
      "         [60., 60., 60., 85., 63., 74., 67.],\n",
      "         [60., 60., 60., 77., 89., 84., 60.],\n",
      "         [60., 60., 60., 60., 67., 60., 60.],\n",
      "         [60., 82., 60., 60., 60., 84., 60.],\n",
      "         [92., 68., 60., 60., 60., 60., 60.],\n",
      "         [60., 60., 60., 60., 90., 60., 60.],\n",
      "         [99., 68., 60., 60., 74., 60., 60.],\n",
      "         [60., 60., 60., 91., 60., 94., 80.]],\n",
      "\n",
      "        [[60., 72., 60., 60., 64., 66., 87.],\n",
      "         [60., 60., 75., 60., 86., 60., 60.],\n",
      "         [60., 60., 60., 91., 60., 60., 60.],\n",
      "         [60., 72., 60., 60., 60., 78., 76.],\n",
      "         [88., 68., 60., 60., 64., 91., 63.],\n",
      "         [60., 60., 60., 60., 60., 60., 93.],\n",
      "         [60., 60., 64., 60., 60., 60., 89.],\n",
      "         [60., 91., 60., 64., 60., 60., 60.],\n",
      "         [66., 65., 60., 60., 60., 84., 60.],\n",
      "         [70., 60., 60., 60., 60., 61., 60.]]])\n"
     ]
    }
   ],
   "source": [
    "#将分数小于60分的分数赋值成60分\n",
    "# 等价于b = scores.masked_fill(scores < 60, 60)\n",
    "\n",
    "b = torch.masked_fill(scores, scores < 60, 60)\n",
    "\n",
    "print(b)"
   ],
   "metadata": {
    "collapsed": false,
    "pycharm": {
     "name": "#%%\n"
    }
   }
  },
  {
   "cell_type": "markdown",
   "source": [
    "## 维度变换"
   ],
   "metadata": {
    "collapsed": false,
    "pycharm": {
     "name": "#%% md\n"
    }
   }
  },
  {
   "cell_type": "code",
   "execution_count": 30,
   "outputs": [
    {
     "name": "stdout",
     "output_type": "stream",
     "text": [
      "torch.Size([1, 3, 3, 2])\n",
      "tensor([[[[126, 195],\n",
      "          [ 22,  33],\n",
      "          [ 78, 161]],\n",
      "\n",
      "         [[124, 228],\n",
      "          [116, 161],\n",
      "          [ 88, 102]],\n",
      "\n",
      "         [[  5,  43],\n",
      "          [ 74, 132],\n",
      "          [177, 204]]]], dtype=torch.int32)\n"
     ]
    }
   ],
   "source": [
    "torch.manual_seed(0)\n",
    "minVal, maxVal = 0, 255\n",
    "a = (minVal + (maxVal - minVal) * torch.rand([1, 3, 3, 2])).int()\n",
    "print(a.shape)\n",
    "print(a)"
   ],
   "metadata": {
    "collapsed": false,
    "pycharm": {
     "name": "#%%\n"
    }
   }
  },
  {
   "cell_type": "code",
   "execution_count": 32,
   "outputs": [
    {
     "name": "stdout",
     "output_type": "stream",
     "text": [
      "tensor([[126, 195,  22,  33,  78, 161],\n",
      "        [124, 228, 116, 161,  88, 102],\n",
      "        [  5,  43,  74, 132, 177, 204]], dtype=torch.int32)\n"
     ]
    }
   ],
   "source": [
    "b = a.view([3, 6])\n",
    "print(b)"
   ],
   "metadata": {
    "collapsed": false,
    "pycharm": {
     "name": "#%%\n"
    }
   }
  },
  {
   "cell_type": "code",
   "execution_count": 33,
   "outputs": [
    {
     "name": "stdout",
     "output_type": "stream",
     "text": [
      "tensor([[[[126, 195],\n",
      "          [ 22,  33],\n",
      "          [ 78, 161]],\n",
      "\n",
      "         [[124, 228],\n",
      "          [116, 161],\n",
      "          [ 88, 102]],\n",
      "\n",
      "         [[  5,  43],\n",
      "          [ 74, 132],\n",
      "          [177, 204]]]], dtype=torch.int32)\n"
     ]
    }
   ],
   "source": [
    "c = torch.reshape(b, [1, 3, 3, 2])\n",
    "print(c)"
   ],
   "metadata": {
    "collapsed": false,
    "pycharm": {
     "name": "#%%\n"
    }
   }
  },
  {
   "cell_type": "code",
   "execution_count": 34,
   "outputs": [
    {
     "name": "stdout",
     "output_type": "stream",
     "text": [
      "tensor([[1., 2.]])\n",
      "tensor([1., 2.])\n",
      "torch.Size([1, 2])\n",
      "torch.Size([2])\n"
     ]
    }
   ],
   "source": [
    "a = torch.tensor([[1.0, 2.0]])\n",
    "s = torch.squeeze(a)\n",
    "print(a)\n",
    "print(s)\n",
    "print(a.shape)\n",
    "print(s.shape)"
   ],
   "metadata": {
    "collapsed": false,
    "pycharm": {
     "name": "#%%\n"
    }
   }
  },
  {
   "cell_type": "code",
   "execution_count": 35,
   "outputs": [
    {
     "name": "stdout",
     "output_type": "stream",
     "text": [
      "tensor([1., 2.])\n",
      "tensor([[1., 2.]])\n",
      "torch.Size([2])\n",
      "torch.Size([1, 2])\n"
     ]
    }
   ],
   "source": [
    "d = torch.unsqueeze(s, axis=0)\n",
    "print(s)\n",
    "print(d)\n",
    "\n",
    "print(s.shape)\n",
    "print(d.shape)"
   ],
   "metadata": {
    "collapsed": false,
    "pycharm": {
     "name": "#%%\n"
    }
   }
  },
  {
   "cell_type": "code",
   "execution_count": 36,
   "outputs": [
    {
     "name": "stdout",
     "output_type": "stream",
     "text": [
      "torch.Size([100, 256, 256, 4])\n",
      "torch.Size([100, 4, 256, 256])\n"
     ]
    }
   ],
   "source": [
    "minVal , maxVal= 0, 255\n",
    "# Batch,Height,Width,Channel\n",
    "data = torch.floor(minVal + (maxVal - minVal) * torch.rand([100, 256, 256, 4])).int()\n",
    "print(data.shape)\n",
    "\n",
    "# 转换成 Pytorch默认的图片格式 Batch,Channel,Height,Width\n",
    "# 需要交换两次\n",
    "data_t = torch.transpose(torch.transpose(data,1,2),1,3)\n",
    "print(data_t.shape)"
   ],
   "metadata": {
    "collapsed": false,
    "pycharm": {
     "name": "#%%\n"
    }
   }
  },
  {
   "cell_type": "code",
   "execution_count": 37,
   "outputs": [
    {
     "name": "stdout",
     "output_type": "stream",
     "text": [
      "tensor([[1, 2, 3],\n",
      "        [4, 5, 6]])\n",
      "tensor([[1, 4],\n",
      "        [2, 5],\n",
      "        [3, 6]])\n"
     ]
    }
   ],
   "source": [
    "matrix = torch.tensor([[1, 2, 3], [4, 5, 6]])\n",
    "print(matrix)\n",
    "print(matrix.t())"
   ],
   "metadata": {
    "collapsed": false,
    "pycharm": {
     "name": "#%%\n"
    }
   }
  },
  {
   "cell_type": "markdown",
   "source": [
    "## 合并分割"
   ],
   "metadata": {
    "collapsed": false,
    "pycharm": {
     "name": "#%% md\n"
    }
   }
  },
  {
   "cell_type": "code",
   "execution_count": 42,
   "outputs": [
    {
     "name": "stdout",
     "output_type": "stream",
     "text": [
      "torch.Size([6, 2])\n",
      "tensor([[ 1.,  2.],\n",
      "        [ 3.,  4.],\n",
      "        [ 5.,  6.],\n",
      "        [ 7.,  8.],\n",
      "        [ 9., 10.],\n",
      "        [11., 12.]])\n"
     ]
    }
   ],
   "source": [
    "a = torch.tensor([[1.0, 2.0], [3.0, 4.0]])\n",
    "b = torch.tensor([[5.0, 6.0], [7.0, 8.0]])\n",
    "c = torch.tensor([[9.0, 10.0], [11.0, 12.0]])\n",
    "\n",
    "abc_cat = torch.cat([a, b, c], dim=0)\n",
    "print(abc_cat.shape)\n",
    "print(abc_cat)"
   ],
   "metadata": {
    "collapsed": false,
    "pycharm": {
     "name": "#%%\n"
    }
   }
  },
  {
   "cell_type": "code",
   "execution_count": 43,
   "outputs": [
    {
     "name": "stdout",
     "output_type": "stream",
     "text": [
      "torch.Size([3, 2, 2])\n",
      "tensor([[[ 1.,  2.],\n",
      "         [ 3.,  4.]],\n",
      "\n",
      "        [[ 5.,  6.],\n",
      "         [ 7.,  8.]],\n",
      "\n",
      "        [[ 9., 10.],\n",
      "         [11., 12.]]])\n"
     ]
    }
   ],
   "source": [
    "abc_stack = torch.stack([a, b, c], dim=0)\n",
    "print(abc_stack.shape)\n",
    "print(abc_stack)"
   ],
   "metadata": {
    "collapsed": false,
    "pycharm": {
     "name": "#%%\n"
    }
   }
  },
  {
   "cell_type": "code",
   "execution_count": 44,
   "outputs": [
    {
     "data": {
      "text/plain": "tensor([[ 1.,  2.,  5.,  6.,  9., 10.],\n        [ 3.,  4.,  7.,  8., 11., 12.]])"
     },
     "execution_count": 44,
     "metadata": {},
     "output_type": "execute_result"
    }
   ],
   "source": [
    "torch.cat([a, b, c], axis=1)"
   ],
   "metadata": {
    "collapsed": false,
    "pycharm": {
     "name": "#%%\n"
    }
   }
  },
  {
   "cell_type": "code",
   "execution_count": 45,
   "outputs": [
    {
     "data": {
      "text/plain": "tensor([[[ 1.,  2.],\n         [ 5.,  6.],\n         [ 9., 10.]],\n\n        [[ 3.,  4.],\n         [ 7.,  8.],\n         [11., 12.]]])"
     },
     "execution_count": 45,
     "metadata": {},
     "output_type": "execute_result"
    }
   ],
   "source": [
    "torch.stack([a, b, c], axis=1)"
   ],
   "metadata": {
    "collapsed": false,
    "pycharm": {
     "name": "#%%\n"
    }
   }
  },
  {
   "cell_type": "code",
   "execution_count": 46,
   "outputs": [
    {
     "name": "stdout",
     "output_type": "stream",
     "text": [
      "tensor([[ 1.,  2.],\n",
      "        [ 3.,  4.],\n",
      "        [ 5.,  6.],\n",
      "        [ 7.,  8.],\n",
      "        [ 9., 10.],\n",
      "        [11., 12.]])\n",
      "tensor([[1., 2.],\n",
      "        [3., 4.]])\n",
      "tensor([[5., 6.],\n",
      "        [7., 8.]])\n",
      "tensor([[ 9., 10.],\n",
      "        [11., 12.]])\n"
     ]
    }
   ],
   "source": [
    "print(abc_cat)\n",
    "a, b, c = torch.split(abc_cat, split_size_or_sections=2, dim=0) #每份2个进行分割\n",
    "print(a)\n",
    "print(b)\n",
    "print(c)"
   ],
   "metadata": {
    "collapsed": false,
    "pycharm": {
     "name": "#%%\n"
    }
   }
  },
  {
   "cell_type": "code",
   "execution_count": 47,
   "outputs": [
    {
     "name": "stdout",
     "output_type": "stream",
     "text": [
      "tensor([[ 1.,  2.],\n",
      "        [ 3.,  4.],\n",
      "        [ 5.,  6.],\n",
      "        [ 7.,  8.],\n",
      "        [ 9., 10.],\n",
      "        [11., 12.]])\n",
      "tensor([[1., 2.],\n",
      "        [3., 4.],\n",
      "        [5., 6.],\n",
      "        [7., 8.]])\n",
      "tensor([[ 9., 10.]])\n",
      "tensor([[11., 12.]])\n"
     ]
    }
   ],
   "source": [
    "print(abc_cat)\n",
    "p, q, r = torch.split(abc_cat, split_size_or_sections=[4, 1, 1], dim=0) #每份分别为[4,1,1]\n",
    "print(p)\n",
    "print(q)\n",
    "print(r)\n"
   ],
   "metadata": {
    "collapsed": false,
    "pycharm": {
     "name": "#%%\n"
    }
   }
  }
 ],
 "metadata": {
  "kernelspec": {
   "display_name": "Python 3",
   "language": "python",
   "name": "python3"
  },
  "language_info": {
   "codemirror_mode": {
    "name": "ipython",
    "version": 2
   },
   "file_extension": ".py",
   "mimetype": "text/x-python",
   "name": "python",
   "nbconvert_exporter": "python",
   "pygments_lexer": "ipython2",
   "version": "2.7.6"
  }
 },
 "nbformat": 4,
 "nbformat_minor": 0
}