{
 "cells": [
  {
   "cell_type": "markdown",
   "metadata": {
    "collapsed": true,
    "pycharm": {
     "name": "#%% md\n"
    }
   },
   "source": [
    "# 训练模型的三种方法\n",
    "\n",
    "Pytorch通常需要用户编写自定义训练循环，训练循环的代码风格因人而异。\n",
    "\n",
    "有3类典型的训练循环代码风格：\n",
    "\n",
    "1. 脚本形式训练循环\n",
    "2. 函数形式训练循环\n",
    "3. 类形式训练循环"
   ]
  },
  {
   "cell_type": "code",
   "execution_count": 1,
   "outputs": [],
   "source": [
    "# 准备数据\n",
    "\n",
    "import torch\n",
    "from torch import nn\n",
    "from torchkeras import summary, Model\n",
    "\n",
    "import torchvision\n",
    "from torchvision import transforms\n"
   ],
   "metadata": {
    "collapsed": false,
    "pycharm": {
     "name": "#%%\n"
    }
   }
  },
  {
   "cell_type": "code",
   "execution_count": 3,
   "outputs": [
    {
     "name": "stdout",
     "output_type": "stream",
     "text": [
      "60000\n",
      "10000\n"
     ]
    }
   ],
   "source": [
    "transform = transforms.Compose([\n",
    "    transforms.ToTensor()\n",
    "])\n",
    "\n",
    "ds_train = torchvision.datasets.MNIST(root='./data/', train=True, download=True, transform=transform)\n",
    "ds_valid = torchvision.datasets.MNIST(root='./data/', train=False, download=False, transform=transform)\n",
    "\n",
    "dl_train = torch.utils.data.DataLoader(ds_train, batch_size=128, shuffle=True)\n",
    "dl_valid = torch.utils.data.DataLoader(ds_valid, batch_size=128, shuffle=False)\n",
    "\n",
    "print(len(ds_train))\n",
    "print(len(ds_valid))"
   ],
   "metadata": {
    "collapsed": false,
    "pycharm": {
     "name": "#%%\n"
    }
   }
  },
  {
   "cell_type": "code",
   "execution_count": 5,
   "outputs": [
    {
     "data": {
      "text/plain": "<Figure size 576x576 with 9 Axes>",
      "image/svg+xml": "<?xml version=\"1.0\" encoding=\"utf-8\" standalone=\"no\"?>\r\n<!DOCTYPE svg PUBLIC \"-//W3C//DTD SVG 1.1//EN\"\r\n  \"http://www.w3.org/Graphics/SVG/1.1/DTD/svg11.dtd\">\r\n<!-- Created with matplotlib (https://matplotlib.org/) -->\r\n<svg height=\"467.898125pt\" version=\"1.1\" viewBox=\"0 0 460.911765 467.898125\" width=\"460.911765pt\" xmlns=\"http://www.w3.org/2000/svg\" xmlns:xlink=\"http://www.w3.org/1999/xlink\">\r\n <metadata>\r\n  <rdf:RDF xmlns:cc=\"http://creativecommons.org/ns#\" xmlns:dc=\"http://purl.org/dc/elements/1.1/\" xmlns:rdf=\"http://www.w3.org/1999/02/22-rdf-syntax-ns#\">\r\n   <cc:Work>\r\n    <dc:type rdf:resource=\"http://purl.org/dc/dcmitype/StillImage\"/>\r\n    <dc:date>2021-02-12T15:38:27.611356</dc:date>\r\n    <dc:format>image/svg+xml</dc:format>\r\n    <dc:creator>\r\n     <cc:Agent>\r\n      <dc:title>Matplotlib v3.3.1, https://matplotlib.org/</dc:title>\r\n     </cc:Agent>\r\n    </dc:creator>\r\n   </cc:Work>\r\n  </rdf:RDF>\r\n </metadata>\r\n <defs>\r\n  <style type=\"text/css\">*{stroke-linecap:butt;stroke-linejoin:round;}</style>\r\n </defs>\r\n <g id=\"figure_1\">\r\n  <g id=\"patch_1\">\r\n   <path d=\"M 0 467.898125 \r\nL 460.911765 467.898125 \r\nL 460.911765 0 \r\nL 0 0 \r\nz\r\n\" style=\"fill:none;\"/>\r\n  </g>\r\n  <g id=\"axes_1\">\r\n   <g id=\"patch_2\">\r\n    <path d=\"M 10.7 150.224007 \r\nL 138.605882 150.224007 \r\nL 138.605882 22.318125 \r\nL 10.7 22.318125 \r\nz\r\n\" style=\"fill:#ffffff;\"/>\r\n   </g>\r\n   <g clip-path=\"url(#pb52f2da917)\">\r\n    <image height=\"128\" id=\"imageee20a90276\" transform=\"scale(1 -1)translate(0 -128)\" width=\"128\" x=\"10.7\" xlink:href=\"data:image/png;base64,\r\niVBORw0KGgoAAAANSUhEUgAAAIAAAACACAYAAADDPmHLAAAE80lEQVR4nO2dbUiVZxjHz9N5qtPZTpmZ5RjZSTft1QNJ2RIbtFUfIogazg8LHBUVJZXRhwhqoyjZC8TYHARRA6GyMRis7VtJ0JvSKHIrmWZkLydUtDLJfM7T58vLOMezW8/x/P+/b9fF5XPfyM/Li+fc53msT6z1rofAMibRGyCJhQKAQwHAoQDgUABwKAA4FAAcCgAOBQCHAoBDAcChAOBQAHBsUxdqql6kc2uq47rWj105Ij5Wt0LVWI4l4vxD91SNE34a1/pIsAOAQwHAoQDgWKZOBPWtLNS5XZ0i3pd7XtWsmNBjYnlP2OlVuZLfK0Wcv/+OqnG6uo2sP1phBwCHAoBDAcChAOAYGwJjwc6arnKdJ95Rua3BOhGXBcJG1t/+sFjlblSHVC7j3G0RR54/N7J+MsIOAA4FAIcCgDOiM0Cs2DNniLh7YZaqKf36LxFvSWsxtn7l4yIRX/lJ3+RKP3ldJiKOsfVHEnYAcCgAOBQAHAoATlIOgbFgB7NF3Fz+nqo5WHpaxOvebTe2/r6wHAzrjhWpmsmnrhhbb7hgBwCHAoBDAcChAOCM2iEwFqzCeSJuqhinao4vPaVyJb6+Ia/1yn2tcp//t1bErz9+POTrDjfsAOBQAHAoADgpPQPEQqQ4pHLNn/lEPC/Uqmp+zf0j6rWrOuaK+FJIn35K9KeI7ADgUABwKAA4FAAc+CEwXs62yU/6/Ja+yfTSlTeUVu/YqWr8v10zuq+hwg4ADgUAhwKAY+wZQamEd1qmiB+V5qoan1Uf9TqbWleLONH/7weDHQAcCgAOBQCHAoADPwS6S0Mq5z/aJuL6WT8M8pPybyf/wkZVkffVwAdQdQxxd8MPOwA4FAAcCgAO1AzQ+eUSlas58K3KBW2fyg1k7i/bRZx/XJ/47W9pjX1zCYIdABwKAA4FAIcCgJPSQ+CYgtkiPn3gG1XT2Jepcmsb5Fe63L8nqZrgYXkiqN8dnQer2AHAoQDgUABwKAA4KTMEetP0oJZeLe/OzbAnqJov9m5QuffPXDW3sSSHHQAcCgAOBQAnZWaAf6s+VLmm7J9FXH5/uaoJ1EY/3p3KsAOAQwHAoQDgUABwRsUQ6M2YonJOh3wv8diJ0R/u2FgzR+UyI5fj31gKwA4ADgUAhwKAk5QzQGe5PL79bFWPqvHeyhNxY8lgX9+SrNlcp3L1NRkq53TJr3S5SwpUTWuFjINlN6Oun4ywA4BDAcChAOBQAHAS/qBIO2u6ypVeaBBxWSA8bOsPfE+wx+PxtLyQg+HJnHOqpjsif23bsovNbmyEYAcAhwKAQwHASfiNoFd5+pWvC30PBmT0g5hN8V1WLCeA9fMC/JZ800e44iNVY/dEH68CD/tVbnx7r4jdhttRrxMv7ADgUABwKAA4FACchN8IGgzv7A9E7I4fq2oeLUsTcW+R/sQwfZLMXSo48/839xb+fBlQuarmVSK+OL9W1bT196rc0fCnIv7nyAJVY+rJ4+wA4FAAcCgAOBQAnKQcAk1h2fJGp3eqPv4VC3f3zFQ5xx8RcXbOU1Xj32aJ+Mn3+o7mjUI9mLY7cnhdXFupanJ3m3mGATsAOBQAHAoATkrPACQ67ADgUABwKAA4FAAcCgAOBQCHAoBDAcChAOBQAHAoADgUABwKAA4FAIcCgEMBwKEA4FAAcCgAOBQAHAoADgUA5w109O3NF7UoIAAAAABJRU5ErkJggg==\" y=\"-22.224007\"/>\r\n   </g>\r\n   <g id=\"matplotlib.axis_1\"/>\r\n   <g id=\"matplotlib.axis_2\"/>\r\n   <g id=\"patch_3\">\r\n    <path d=\"M 10.7 150.224007 \r\nL 10.7 22.318125 \r\n\" style=\"fill:none;stroke:#000000;stroke-linecap:square;stroke-linejoin:miter;stroke-width:0.8;\"/>\r\n   </g>\r\n   <g id=\"patch_4\">\r\n    <path d=\"M 138.605882 150.224007 \r\nL 138.605882 22.318125 \r\n\" style=\"fill:none;stroke:#000000;stroke-linecap:square;stroke-linejoin:miter;stroke-width:0.8;\"/>\r\n   </g>\r\n   <g id=\"patch_5\">\r\n    <path d=\"M 10.7 150.224007 \r\nL 138.605882 150.224007 \r\n\" style=\"fill:none;stroke:#000000;stroke-linecap:square;stroke-linejoin:miter;stroke-width:0.8;\"/>\r\n   </g>\r\n   <g id=\"patch_6\">\r\n    <path d=\"M 10.7 22.318125 \r\nL 138.605882 22.318125 \r\n\" style=\"fill:none;stroke:#000000;stroke-linecap:square;stroke-linejoin:miter;stroke-width:0.8;\"/>\r\n   </g>\r\n   <g id=\"text_1\">\r\n    <!-- label = 5 -->\r\n    <g transform=\"translate(47.482316 16.318125)scale(0.12 -0.12)\">\r\n     <defs>\r\n      <path d=\"M 9.421875 75.984375 \r\nL 18.40625 75.984375 \r\nL 18.40625 0 \r\nL 9.421875 0 \r\nz\r\n\" id=\"DejaVuSans-108\"/>\r\n      <path d=\"M 34.28125 27.484375 \r\nQ 23.390625 27.484375 19.1875 25 \r\nQ 14.984375 22.515625 14.984375 16.5 \r\nQ 14.984375 11.71875 18.140625 8.90625 \r\nQ 21.296875 6.109375 26.703125 6.109375 \r\nQ 34.1875 6.109375 38.703125 11.40625 \r\nQ 43.21875 16.703125 43.21875 25.484375 \r\nL 43.21875 27.484375 \r\nz\r\nM 52.203125 31.203125 \r\nL 52.203125 0 \r\nL 43.21875 0 \r\nL 43.21875 8.296875 \r\nQ 40.140625 3.328125 35.546875 0.953125 \r\nQ 30.953125 -1.421875 24.3125 -1.421875 \r\nQ 15.921875 -1.421875 10.953125 3.296875 \r\nQ 6 8.015625 6 15.921875 \r\nQ 6 25.140625 12.171875 29.828125 \r\nQ 18.359375 34.515625 30.609375 34.515625 \r\nL 43.21875 34.515625 \r\nL 43.21875 35.40625 \r\nQ 43.21875 41.609375 39.140625 45 \r\nQ 35.0625 48.390625 27.6875 48.390625 \r\nQ 23 48.390625 18.546875 47.265625 \r\nQ 14.109375 46.140625 10.015625 43.890625 \r\nL 10.015625 52.203125 \r\nQ 14.9375 54.109375 19.578125 55.046875 \r\nQ 24.21875 56 28.609375 56 \r\nQ 40.484375 56 46.34375 49.84375 \r\nQ 52.203125 43.703125 52.203125 31.203125 \r\nz\r\n\" id=\"DejaVuSans-97\"/>\r\n      <path d=\"M 48.6875 27.296875 \r\nQ 48.6875 37.203125 44.609375 42.84375 \r\nQ 40.53125 48.484375 33.40625 48.484375 \r\nQ 26.265625 48.484375 22.1875 42.84375 \r\nQ 18.109375 37.203125 18.109375 27.296875 \r\nQ 18.109375 17.390625 22.1875 11.75 \r\nQ 26.265625 6.109375 33.40625 6.109375 \r\nQ 40.53125 6.109375 44.609375 11.75 \r\nQ 48.6875 17.390625 48.6875 27.296875 \r\nz\r\nM 18.109375 46.390625 \r\nQ 20.953125 51.265625 25.265625 53.625 \r\nQ 29.59375 56 35.59375 56 \r\nQ 45.5625 56 51.78125 48.09375 \r\nQ 58.015625 40.1875 58.015625 27.296875 \r\nQ 58.015625 14.40625 51.78125 6.484375 \r\nQ 45.5625 -1.421875 35.59375 -1.421875 \r\nQ 29.59375 -1.421875 25.265625 0.953125 \r\nQ 20.953125 3.328125 18.109375 8.203125 \r\nL 18.109375 0 \r\nL 9.078125 0 \r\nL 9.078125 75.984375 \r\nL 18.109375 75.984375 \r\nz\r\n\" id=\"DejaVuSans-98\"/>\r\n      <path d=\"M 56.203125 29.59375 \r\nL 56.203125 25.203125 \r\nL 14.890625 25.203125 \r\nQ 15.484375 15.921875 20.484375 11.0625 \r\nQ 25.484375 6.203125 34.421875 6.203125 \r\nQ 39.59375 6.203125 44.453125 7.46875 \r\nQ 49.3125 8.734375 54.109375 11.28125 \r\nL 54.109375 2.78125 \r\nQ 49.265625 0.734375 44.1875 -0.34375 \r\nQ 39.109375 -1.421875 33.890625 -1.421875 \r\nQ 20.796875 -1.421875 13.15625 6.1875 \r\nQ 5.515625 13.8125 5.515625 26.8125 \r\nQ 5.515625 40.234375 12.765625 48.109375 \r\nQ 20.015625 56 32.328125 56 \r\nQ 43.359375 56 49.78125 48.890625 \r\nQ 56.203125 41.796875 56.203125 29.59375 \r\nz\r\nM 47.21875 32.234375 \r\nQ 47.125 39.59375 43.09375 43.984375 \r\nQ 39.0625 48.390625 32.421875 48.390625 \r\nQ 24.90625 48.390625 20.390625 44.140625 \r\nQ 15.875 39.890625 15.1875 32.171875 \r\nz\r\n\" id=\"DejaVuSans-101\"/>\r\n      <path id=\"DejaVuSans-32\"/>\r\n      <path d=\"M 10.59375 45.40625 \r\nL 73.1875 45.40625 \r\nL 73.1875 37.203125 \r\nL 10.59375 37.203125 \r\nz\r\nM 10.59375 25.484375 \r\nL 73.1875 25.484375 \r\nL 73.1875 17.1875 \r\nL 10.59375 17.1875 \r\nz\r\n\" id=\"DejaVuSans-61\"/>\r\n      <path d=\"M 10.796875 72.90625 \r\nL 49.515625 72.90625 \r\nL 49.515625 64.59375 \r\nL 19.828125 64.59375 \r\nL 19.828125 46.734375 \r\nQ 21.96875 47.46875 24.109375 47.828125 \r\nQ 26.265625 48.1875 28.421875 48.1875 \r\nQ 40.625 48.1875 47.75 41.5 \r\nQ 54.890625 34.8125 54.890625 23.390625 \r\nQ 54.890625 11.625 47.5625 5.09375 \r\nQ 40.234375 -1.421875 26.90625 -1.421875 \r\nQ 22.3125 -1.421875 17.546875 -0.640625 \r\nQ 12.796875 0.140625 7.71875 1.703125 \r\nL 7.71875 11.625 \r\nQ 12.109375 9.234375 16.796875 8.0625 \r\nQ 21.484375 6.890625 26.703125 6.890625 \r\nQ 35.15625 6.890625 40.078125 11.328125 \r\nQ 45.015625 15.765625 45.015625 23.390625 \r\nQ 45.015625 31 40.078125 35.4375 \r\nQ 35.15625 39.890625 26.703125 39.890625 \r\nQ 22.75 39.890625 18.8125 39.015625 \r\nQ 14.890625 38.140625 10.796875 36.28125 \r\nz\r\n\" id=\"DejaVuSans-53\"/>\r\n     </defs>\r\n     <use xlink:href=\"#DejaVuSans-108\"/>\r\n     <use x=\"27.783203\" xlink:href=\"#DejaVuSans-97\"/>\r\n     <use x=\"89.0625\" xlink:href=\"#DejaVuSans-98\"/>\r\n     <use x=\"152.539062\" xlink:href=\"#DejaVuSans-101\"/>\r\n     <use x=\"214.0625\" xlink:href=\"#DejaVuSans-108\"/>\r\n     <use x=\"241.845703\" xlink:href=\"#DejaVuSans-32\"/>\r\n     <use x=\"273.632812\" xlink:href=\"#DejaVuSans-61\"/>\r\n     <use x=\"357.421875\" xlink:href=\"#DejaVuSans-32\"/>\r\n     <use x=\"389.208984\" xlink:href=\"#DejaVuSans-53\"/>\r\n    </g>\r\n   </g>\r\n  </g>\r\n  <g id=\"axes_2\">\r\n   <g id=\"patch_7\">\r\n    <path d=\"M 168.252941 150.224007 \r\nL 296.158824 150.224007 \r\nL 296.158824 22.318125 \r\nL 168.252941 22.318125 \r\nz\r\n\" style=\"fill:#ffffff;\"/>\r\n   </g>\r\n   <g clip-path=\"url(#p49ab1715a3)\">\r\n    <image height=\"128\" id=\"image3c7e54fb9f\" transform=\"scale(1 -1)translate(0 -128)\" width=\"128\" x=\"168.252941\" xlink:href=\"data:image/png;base64,\r\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\" y=\"-22.224007\"/>\r\n   </g>\r\n   <g id=\"matplotlib.axis_3\"/>\r\n   <g id=\"matplotlib.axis_4\"/>\r\n   <g id=\"patch_8\">\r\n    <path d=\"M 168.252941 150.224007 \r\nL 168.252941 22.318125 \r\n\" style=\"fill:none;stroke:#000000;stroke-linecap:square;stroke-linejoin:miter;stroke-width:0.8;\"/>\r\n   </g>\r\n   <g id=\"patch_9\">\r\n    <path d=\"M 296.158824 150.224007 \r\nL 296.158824 22.318125 \r\n\" style=\"fill:none;stroke:#000000;stroke-linecap:square;stroke-linejoin:miter;stroke-width:0.8;\"/>\r\n   </g>\r\n   <g id=\"patch_10\">\r\n    <path d=\"M 168.252941 150.224007 \r\nL 296.158824 150.224007 \r\n\" style=\"fill:none;stroke:#000000;stroke-linecap:square;stroke-linejoin:miter;stroke-width:0.8;\"/>\r\n   </g>\r\n   <g id=\"patch_11\">\r\n    <path d=\"M 168.252941 22.318125 \r\nL 296.158824 22.318125 \r\n\" style=\"fill:none;stroke:#000000;stroke-linecap:square;stroke-linejoin:miter;stroke-width:0.8;\"/>\r\n   </g>\r\n   <g id=\"text_2\">\r\n    <!-- label = 0 -->\r\n    <g transform=\"translate(205.035257 16.318125)scale(0.12 -0.12)\">\r\n     <defs>\r\n      <path d=\"M 31.78125 66.40625 \r\nQ 24.171875 66.40625 20.328125 58.90625 \r\nQ 16.5 51.421875 16.5 36.375 \r\nQ 16.5 21.390625 20.328125 13.890625 \r\nQ 24.171875 6.390625 31.78125 6.390625 \r\nQ 39.453125 6.390625 43.28125 13.890625 \r\nQ 47.125 21.390625 47.125 36.375 \r\nQ 47.125 51.421875 43.28125 58.90625 \r\nQ 39.453125 66.40625 31.78125 66.40625 \r\nz\r\nM 31.78125 74.21875 \r\nQ 44.046875 74.21875 50.515625 64.515625 \r\nQ 56.984375 54.828125 56.984375 36.375 \r\nQ 56.984375 17.96875 50.515625 8.265625 \r\nQ 44.046875 -1.421875 31.78125 -1.421875 \r\nQ 19.53125 -1.421875 13.0625 8.265625 \r\nQ 6.59375 17.96875 6.59375 36.375 \r\nQ 6.59375 54.828125 13.0625 64.515625 \r\nQ 19.53125 74.21875 31.78125 74.21875 \r\nz\r\n\" id=\"DejaVuSans-48\"/>\r\n     </defs>\r\n     <use xlink:href=\"#DejaVuSans-108\"/>\r\n     <use x=\"27.783203\" xlink:href=\"#DejaVuSans-97\"/>\r\n     <use x=\"89.0625\" xlink:href=\"#DejaVuSans-98\"/>\r\n     <use x=\"152.539062\" xlink:href=\"#DejaVuSans-101\"/>\r\n     <use x=\"214.0625\" xlink:href=\"#DejaVuSans-108\"/>\r\n     <use x=\"241.845703\" xlink:href=\"#DejaVuSans-32\"/>\r\n     <use x=\"273.632812\" xlink:href=\"#DejaVuSans-61\"/>\r\n     <use x=\"357.421875\" xlink:href=\"#DejaVuSans-32\"/>\r\n     <use x=\"389.208984\" xlink:href=\"#DejaVuSans-48\"/>\r\n    </g>\r\n   </g>\r\n  </g>\r\n  <g id=\"axes_3\">\r\n   <g id=\"patch_12\">\r\n    <path d=\"M 325.805882 150.224007 \r\nL 453.711765 150.224007 \r\nL 453.711765 22.318125 \r\nL 325.805882 22.318125 \r\nz\r\n\" style=\"fill:#ffffff;\"/>\r\n   </g>\r\n   <g clip-path=\"url(#pac0666e853)\">\r\n    <image height=\"128\" id=\"imageff229c8c9b\" transform=\"scale(1 -1)translate(0 -128)\" width=\"128\" x=\"325.805882\" xlink:href=\"data:image/png;base64,\r\niVBORw0KGgoAAAANSUhEUgAAAIAAAACACAYAAADDPmHLAAAENElEQVR4nO2dS0hUYRTH750xX1FoPkhTygQx6GHQEFlRwrSWyFy4CFIpqk1S0EpaFLV14caWUasMLAUlMnwUUVYaIT2w8lX4KClBDXWc1sdjTV2/O+P4//9253D87ln85ni4c73afrskaBFYPJFugEQWCgAOBQCHAoBDAcChAOBQAHAoADgUABwKAA4FAIcCgEMBwImJdAPRykhVoYhfXaxVNfnt5SLeWtbjZkuO4AQAhwKAQwHA4Q7gkDj/uIi9dnR+lqKza2IMCgAOBQCHAoDDJdAQgeBCpFtwBCcAOBQAHAoADncAF0nsSox0CyHhBACHAoBDAcChAOBwCTTEkt8GRsG9IU4AcCgAOBQAHAoADpdAQyz1bWDyh7kIdPJ/cAKAQwHAoQDgUABwKAA4FAAcCgAOBQCHN4JcZKDYFnFec4Qa+QucAOBQAHAoADjGdoDP1/epXLbvi6njFePNWSJO6dVfvMS2dLl2/emONJko0DVXi+6K+KaV7Vo/TuEEAIcCgEMBwKEA4DheAvtu7RbxuyL9osS3c3Ixuz9Z4Ohal1J6Vc6zTd5kmQnOqpqvgYCIa8cPq5rG17tULqk7VsQZD0ZVTVbNSxF3ndb/fa94rVyCuQSSFQcFAIcCgON4B4iLl7/fPZatak5eqxJx6o2njq7VfrBS5YJeeb0hf5yqmc1c1GNsQNU89Neo3JojMh65oM+u/nRUxGneGX2OLX/O9u1QNcGuNyoXTjgBwKEA4FAAcCgAOK4+EZQwYeYP5D2d3SFrtrQ5O/usdUDlvKkpIh49lqdqNpQOy9ijP0sxllees3edqkl37wvLf4ITABwKAA4FAIcCgOPqEji2R/qVU+/m1cwR+PZdxKl1S9zBrJPhoYYKVdLtuy3iM+caVE3Dne36+qNjoZs0BCcAOBQAHAoAjuMdYL5v0U0N/VS4FZ//w+nxUUf2+SmVe/JIfr4q1g+rmoakQpWzuAOQcEEBwKEA4FAAcBwvgZub5CNQY2XTy24mmpnvH1S5+gmfiPdnPFM1MznJKhf73lxfoeAEAIcCgEMBwHG8A3ge94i489em5fay6uifSglZM+T3qlxuixvdLA0nADgUABwKAA4FAMfYE0FzQb5zcjHzlYv+d3CbrknInQxLL3+CEwAcCgAOBQDH2C/uy03HVS4x96ep46OSwMcBEee3l6uaUzs7Va7VJ58ScvMdApwA4FAAcCgAOBQAHGNLYGaHfhfATG+SqeOjkwX5Uip7MEGVtG7M1z8X1C+ddAtOAHAoADgUABwKAI6xJTDh3nOdM3X4KiH9hV6Uq0sbVe6KdSIc7ViWxQkADwUAhwKAY/vtkvDddSArDk4AcCgAOBQAHAoADgUAhwKAQwHAoQDgUABwKAA4FAAcCgAOBQCHAoBDAcChAOBQAHAoADgUABwKAA4FAIcCgPMbIgyp0HE5SwsAAAAASUVORK5CYII=\" y=\"-22.224007\"/>\r\n   </g>\r\n   <g id=\"matplotlib.axis_5\"/>\r\n   <g id=\"matplotlib.axis_6\"/>\r\n   <g id=\"patch_13\">\r\n    <path d=\"M 325.805882 150.224007 \r\nL 325.805882 22.318125 \r\n\" style=\"fill:none;stroke:#000000;stroke-linecap:square;stroke-linejoin:miter;stroke-width:0.8;\"/>\r\n   </g>\r\n   <g id=\"patch_14\">\r\n    <path d=\"M 453.711765 150.224007 \r\nL 453.711765 22.318125 \r\n\" style=\"fill:none;stroke:#000000;stroke-linecap:square;stroke-linejoin:miter;stroke-width:0.8;\"/>\r\n   </g>\r\n   <g id=\"patch_15\">\r\n    <path d=\"M 325.805882 150.224007 \r\nL 453.711765 150.224007 \r\n\" style=\"fill:none;stroke:#000000;stroke-linecap:square;stroke-linejoin:miter;stroke-width:0.8;\"/>\r\n   </g>\r\n   <g id=\"patch_16\">\r\n    <path d=\"M 325.805882 22.318125 \r\nL 453.711765 22.318125 \r\n\" style=\"fill:none;stroke:#000000;stroke-linecap:square;stroke-linejoin:miter;stroke-width:0.8;\"/>\r\n   </g>\r\n   <g id=\"text_3\">\r\n    <!-- label = 4 -->\r\n    <g transform=\"translate(362.588199 16.318125)scale(0.12 -0.12)\">\r\n     <defs>\r\n      <path d=\"M 37.796875 64.3125 \r\nL 12.890625 25.390625 \r\nL 37.796875 25.390625 \r\nz\r\nM 35.203125 72.90625 \r\nL 47.609375 72.90625 \r\nL 47.609375 25.390625 \r\nL 58.015625 25.390625 \r\nL 58.015625 17.1875 \r\nL 47.609375 17.1875 \r\nL 47.609375 0 \r\nL 37.796875 0 \r\nL 37.796875 17.1875 \r\nL 4.890625 17.1875 \r\nL 4.890625 26.703125 \r\nz\r\n\" id=\"DejaVuSans-52\"/>\r\n     </defs>\r\n     <use xlink:href=\"#DejaVuSans-108\"/>\r\n     <use x=\"27.783203\" xlink:href=\"#DejaVuSans-97\"/>\r\n     <use x=\"89.0625\" xlink:href=\"#DejaVuSans-98\"/>\r\n     <use x=\"152.539062\" xlink:href=\"#DejaVuSans-101\"/>\r\n     <use x=\"214.0625\" xlink:href=\"#DejaVuSans-108\"/>\r\n     <use x=\"241.845703\" xlink:href=\"#DejaVuSans-32\"/>\r\n     <use x=\"273.632812\" xlink:href=\"#DejaVuSans-61\"/>\r\n     <use x=\"357.421875\" xlink:href=\"#DejaVuSans-32\"/>\r\n     <use x=\"389.208984\" xlink:href=\"#DejaVuSans-52\"/>\r\n    </g>\r\n   </g>\r\n  </g>\r\n  <g id=\"axes_4\">\r\n   <g id=\"patch_17\">\r\n    <path d=\"M 10.7 303.711066 \r\nL 138.605882 303.711066 \r\nL 138.605882 175.805184 \r\nL 10.7 175.805184 \r\nz\r\n\" style=\"fill:#ffffff;\"/>\r\n   </g>\r\n   <g clip-path=\"url(#p16dcac3e33)\">\r\n    <image height=\"128\" id=\"image8bbd99ca03\" transform=\"scale(1 -1)translate(0 -128)\" width=\"128\" x=\"10.7\" xlink:href=\"data:image/png;base64,\r\niVBORw0KGgoAAAANSUhEUgAAAIAAAACACAYAAADDPmHLAAAD7ElEQVR4nO3dXUiTURzH8U2dzPSmEFm1aRGooEiCUUqhUVJ0USFTqjvrqld7hQIvuuoiohcpMAmC0KRMsO6CIKKIrCgwXygsli9UiBqhIdNtXcZ//ye0Z7LteX6/z905HMe5+Ho47JnTudXpjzgIVkqiN0CJxQDAMQBwDAAcAwDHAMAxAHAMABwDAMcAwDEAcAwAHAMAl5boDRhJW50nxp72cbWm2fdMjO9P5ag1dwp8i7sxG+IJAI4BgGMA4JLyDvBrrUeMO7wdBqtS47MZm+MJAI4BgGMA4BgAOAYAjgGAYwDgGAC4pHwjyD0RFOMXM5lqzeaMGTHetmRIrWlsqRHjwhP9ak14etrMFm2DJwA4BgCOAYBjAOCcVvh+gOEHxWquv6JVjGcjoXlfZ1f1XjUX6v9kfmM2wBMAHAMAxwDAMQBwSflOYDSfv1fNzY7KS99CLoHfqrLVXA4vgYSMAYBjAOAscQcw8j4YFuNi1/w/U17/Ts0F2pequdDkpOl9WQ1PAHAMABwDAMcAwFniaaCRcGWpGB9o6VJrdmb+mPd1qnv3qLms7V9M78tqeAKAYwDgGAA4y94Bon1uK1VzPZU3Tb1Wze79Yhx5qx9G2QVPAHAMABwDAMcAwFn2aWC0/Au/1ZyrytwXSQ2dlWOf39TLWAJPAHAMABwDAGebO0Co76Oaq2g8IsZt5y+pNd5U/VGicm9AjL+vylVr5gL6+wisiCcAOAYAjgGAYwDgbPM0cCFGzlWouTeHr6o5l1O+gVQ7uEOtCfrlx9JDY2OxbS5BeAKAYwDgGAA4BgAO6hKYWlSg5tbd1R/3aszuEWOj7x4ouXdMjNecehXj7hKDJwA4BgCOAYCDugMYSfOuVHNd3Y/E2OgOMDArxw2nj6o1mZ3dsW0uDngCgGMA4BgAOAYAzjYfCTNrbmRUzRU9rxfjvk231ZqSdDnOPam/cHK8M7a9xQNPAHAMABwDAAd/BzCyvNUtxk/L3GrNRrf8d3O38h6rNeUNx8XYc+1l7JtbZDwBwDEAcAwAHAMAB/80cCGmateruRsXm8Q43+VUa5p/Forxk7oytSbyVb8RFc//Z8wTABwDAMcAwPEOYNLg5Q1i/KGu6R8r/4r+kzOHw+HYcuigmst4+Nr8xv4TTwBwDAAcAwDHAMDxaaBJWcPyd2ciHFRrlqWkq7lkwxMAHAMAxwDAMQBwvASa5LkiP95VteKMWjOw77oYG70T6NAPEeOKJwA4BgCOAYDj00BwPAHAMQBwDAAcAwDHAMAxAHAMABwDAMcAwDEAcAwAHAMAxwDAMQBwDAAcAwDHAMAxAHAMABwDAMcAwDEAcH8ASnSl4YPpeB4AAAAASUVORK5CYII=\" y=\"-175.711066\"/>\r\n   </g>\r\n   <g id=\"matplotlib.axis_7\"/>\r\n   <g id=\"matplotlib.axis_8\"/>\r\n   <g id=\"patch_18\">\r\n    <path d=\"M 10.7 303.711066 \r\nL 10.7 175.805184 \r\n\" style=\"fill:none;stroke:#000000;stroke-linecap:square;stroke-linejoin:miter;stroke-width:0.8;\"/>\r\n   </g>\r\n   <g id=\"patch_19\">\r\n    <path d=\"M 138.605882 303.711066 \r\nL 138.605882 175.805184 \r\n\" style=\"fill:none;stroke:#000000;stroke-linecap:square;stroke-linejoin:miter;stroke-width:0.8;\"/>\r\n   </g>\r\n   <g id=\"patch_20\">\r\n    <path d=\"M 10.7 303.711066 \r\nL 138.605882 303.711066 \r\n\" style=\"fill:none;stroke:#000000;stroke-linecap:square;stroke-linejoin:miter;stroke-width:0.8;\"/>\r\n   </g>\r\n   <g id=\"patch_21\">\r\n    <path d=\"M 10.7 175.805184 \r\nL 138.605882 175.805184 \r\n\" style=\"fill:none;stroke:#000000;stroke-linecap:square;stroke-linejoin:miter;stroke-width:0.8;\"/>\r\n   </g>\r\n   <g id=\"text_4\">\r\n    <!-- label = 1 -->\r\n    <g transform=\"translate(47.482316 169.805184)scale(0.12 -0.12)\">\r\n     <defs>\r\n      <path d=\"M 12.40625 8.296875 \r\nL 28.515625 8.296875 \r\nL 28.515625 63.921875 \r\nL 10.984375 60.40625 \r\nL 10.984375 69.390625 \r\nL 28.421875 72.90625 \r\nL 38.28125 72.90625 \r\nL 38.28125 8.296875 \r\nL 54.390625 8.296875 \r\nL 54.390625 0 \r\nL 12.40625 0 \r\nz\r\n\" id=\"DejaVuSans-49\"/>\r\n     </defs>\r\n     <use xlink:href=\"#DejaVuSans-108\"/>\r\n     <use x=\"27.783203\" xlink:href=\"#DejaVuSans-97\"/>\r\n     <use x=\"89.0625\" xlink:href=\"#DejaVuSans-98\"/>\r\n     <use x=\"152.539062\" xlink:href=\"#DejaVuSans-101\"/>\r\n     <use x=\"214.0625\" xlink:href=\"#DejaVuSans-108\"/>\r\n     <use x=\"241.845703\" xlink:href=\"#DejaVuSans-32\"/>\r\n     <use x=\"273.632812\" xlink:href=\"#DejaVuSans-61\"/>\r\n     <use x=\"357.421875\" xlink:href=\"#DejaVuSans-32\"/>\r\n     <use x=\"389.208984\" xlink:href=\"#DejaVuSans-49\"/>\r\n    </g>\r\n   </g>\r\n  </g>\r\n  <g id=\"axes_5\">\r\n   <g id=\"patch_22\">\r\n    <path d=\"M 168.252941 303.711066 \r\nL 296.158824 303.711066 \r\nL 296.158824 175.805184 \r\nL 168.252941 175.805184 \r\nz\r\n\" style=\"fill:#ffffff;\"/>\r\n   </g>\r\n   <g clip-path=\"url(#p90164371bb)\">\r\n    <image height=\"128\" id=\"imageeb7e9704ab\" transform=\"scale(1 -1)translate(0 -128)\" width=\"128\" x=\"168.252941\" xlink:href=\"data:image/png;base64,\r\niVBORw0KGgoAAAANSUhEUgAAAIAAAACACAYAAADDPmHLAAAExElEQVR4nO2dW2gUdxTGZ3eTTdyQrlFRaL2WeCmojRKwRkQqq760SqPSqGgNQhupigERRZ8a+1SDqFQSEBVBEKyUCj5oq+CTMVpvoImml8RUUvFCNGISc1mfz3wLEzWZ2eT7fm/ncDLzz/LbM4e5bSgRWpF0BC3hoBcggkUCkCMByJEA5GQEvYB0JDJqpInrKydATV2i2sRLl2/ADdXc7td1DQTqAORIAHIkADn0M4D7eO84jhM9bT+WuvxqqFlwa5WJR9Q3QU3Pe67ND9QByJEA5EgAciQAOfRD4MO1UyFXm7/fxKWNi6Em/kPMxD2tz/t3YT6hDkCOBCBHApBDPwOUf/eLZ01LRT7kojVXB2I5vqMOQI4EIEcCkCMByKEaApPzCiC3/oObkOtK2u9F7E4L1HT316ICRh2AHAlAjgQgh2oGeLggBrmuJN630+v0+rGctEAdgBwJQI4EIEcCkEM1BMb/4Rnu+oo6ADkSgBwJQI4EIIdqCMw9WYPJSv/XkU6oA5AjAciRAORQzQBtJZ+lyP7p+zrSCXUAciQAORKAHAlADtUQmNGOVwMzQxHIdbnen/7v+vFQM67iv35bV5CoA5AjAciRAOQEPgO8XlIIub1Vh0w8M4rH6eMvPjLxnktLoWbKsQ4T595+BDWlD+ZDrmrcRRO3T3wNNUMFdQByJAA5EoAcCUBOyM+fjYuMGQ25HZfPQ25OVpeJwyk8fZfn9/5oz8U1Ofjvfz7spYmvdGZCzY8fF7z1/tMRdQByJAA5EoAcX08EhbKzIOc+3qdiWaIEt/XKnuRpKBsLNYsT101cPvoC1IzPGAY593RRGMUTQa3r5pp4+PHLUDMYUAcgRwKQIwHIkQDk+DoEJjs6IXetE6/0FWbZFze1H8AhLLqo2cSTdjZDTcNOG28q+BZqph+pg9yeMbUmjoRCUJP8+omtOROHmsHwKyLqAORIAHIkADkSgBxfrwam4u9KfF6vruRnEz/v7YCalfWrTZxd/AxqetvaPPcfzsmB3NMVM038W8VPUDMqYs8gTjv1PdTkb03xPoI0Qx2AHAlAjgQgJ/AZIBUNB+eY+F7xIahx3xH0ye9lUDNtW6OJe548faf1fHX3MeRK441Y6GL+ri0mzjuWflcM1QHIkQDkSAByJAA5aTkEuvm/vAhytdv2e/7dyr++NHH3crz9rC+D4aPNuP8rO7z3f+6VvUJYvXAh1HQ3B/ueAXUAciQAORKAnEExA4Qyo5DrSHxq4qNV+6Dmwwx7G/qGpkVQ07R3KuRyzt40cTiGPzcX/jXbxKcnn8Ea1/dr+tFNUDNxd7Anh9QByJEA5EgAciQAOYNiCOwLj8vmQu7gdntnkft2c8dJ/e6BbxoTJp4VfwA1W/LqPdfk3nbRjVVQM+KL+57bGUjUAciRAORIAHKGzAyQCvdLKJvW4HuFNs6+BLmted7H5RmHN5s41oIfY2uRfRRuwgn8vkXPXfPc10CiDkCOBCBHApAjAcgZ0kOg8EYdgBwJQI4EIEcCkCMByJEA5EgAciQAORKAHAlAjgQgRwKQIwHIkQDkSAByJAA5EoAcCUCOBCBHApAjAciRAORIAHIkADkSgBwJQI4EIEcCkCMByJEA5EgAct4AaoneXBYup3AAAAAASUVORK5CYII=\" y=\"-175.711066\"/>\r\n   </g>\r\n   <g id=\"matplotlib.axis_9\"/>\r\n   <g id=\"matplotlib.axis_10\"/>\r\n   <g id=\"patch_23\">\r\n    <path d=\"M 168.252941 303.711066 \r\nL 168.252941 175.805184 \r\n\" style=\"fill:none;stroke:#000000;stroke-linecap:square;stroke-linejoin:miter;stroke-width:0.8;\"/>\r\n   </g>\r\n   <g id=\"patch_24\">\r\n    <path d=\"M 296.158824 303.711066 \r\nL 296.158824 175.805184 \r\n\" style=\"fill:none;stroke:#000000;stroke-linecap:square;stroke-linejoin:miter;stroke-width:0.8;\"/>\r\n   </g>\r\n   <g id=\"patch_25\">\r\n    <path d=\"M 168.252941 303.711066 \r\nL 296.158824 303.711066 \r\n\" style=\"fill:none;stroke:#000000;stroke-linecap:square;stroke-linejoin:miter;stroke-width:0.8;\"/>\r\n   </g>\r\n   <g id=\"patch_26\">\r\n    <path d=\"M 168.252941 175.805184 \r\nL 296.158824 175.805184 \r\n\" style=\"fill:none;stroke:#000000;stroke-linecap:square;stroke-linejoin:miter;stroke-width:0.8;\"/>\r\n   </g>\r\n   <g id=\"text_5\">\r\n    <!-- label = 9 -->\r\n    <g transform=\"translate(205.035257 169.805184)scale(0.12 -0.12)\">\r\n     <defs>\r\n      <path d=\"M 10.984375 1.515625 \r\nL 10.984375 10.5 \r\nQ 14.703125 8.734375 18.5 7.8125 \r\nQ 22.3125 6.890625 25.984375 6.890625 \r\nQ 35.75 6.890625 40.890625 13.453125 \r\nQ 46.046875 20.015625 46.78125 33.40625 \r\nQ 43.953125 29.203125 39.59375 26.953125 \r\nQ 35.25 24.703125 29.984375 24.703125 \r\nQ 19.046875 24.703125 12.671875 31.3125 \r\nQ 6.296875 37.9375 6.296875 49.421875 \r\nQ 6.296875 60.640625 12.9375 67.421875 \r\nQ 19.578125 74.21875 30.609375 74.21875 \r\nQ 43.265625 74.21875 49.921875 64.515625 \r\nQ 56.59375 54.828125 56.59375 36.375 \r\nQ 56.59375 19.140625 48.40625 8.859375 \r\nQ 40.234375 -1.421875 26.421875 -1.421875 \r\nQ 22.703125 -1.421875 18.890625 -0.6875 \r\nQ 15.09375 0.046875 10.984375 1.515625 \r\nz\r\nM 30.609375 32.421875 \r\nQ 37.25 32.421875 41.125 36.953125 \r\nQ 45.015625 41.5 45.015625 49.421875 \r\nQ 45.015625 57.28125 41.125 61.84375 \r\nQ 37.25 66.40625 30.609375 66.40625 \r\nQ 23.96875 66.40625 20.09375 61.84375 \r\nQ 16.21875 57.28125 16.21875 49.421875 \r\nQ 16.21875 41.5 20.09375 36.953125 \r\nQ 23.96875 32.421875 30.609375 32.421875 \r\nz\r\n\" id=\"DejaVuSans-57\"/>\r\n     </defs>\r\n     <use xlink:href=\"#DejaVuSans-108\"/>\r\n     <use x=\"27.783203\" xlink:href=\"#DejaVuSans-97\"/>\r\n     <use x=\"89.0625\" xlink:href=\"#DejaVuSans-98\"/>\r\n     <use x=\"152.539062\" xlink:href=\"#DejaVuSans-101\"/>\r\n     <use x=\"214.0625\" xlink:href=\"#DejaVuSans-108\"/>\r\n     <use x=\"241.845703\" xlink:href=\"#DejaVuSans-32\"/>\r\n     <use x=\"273.632812\" xlink:href=\"#DejaVuSans-61\"/>\r\n     <use x=\"357.421875\" xlink:href=\"#DejaVuSans-32\"/>\r\n     <use x=\"389.208984\" xlink:href=\"#DejaVuSans-57\"/>\r\n    </g>\r\n   </g>\r\n  </g>\r\n  <g id=\"axes_6\">\r\n   <g id=\"patch_27\">\r\n    <path d=\"M 325.805882 303.711066 \r\nL 453.711765 303.711066 \r\nL 453.711765 175.805184 \r\nL 325.805882 175.805184 \r\nz\r\n\" style=\"fill:#ffffff;\"/>\r\n   </g>\r\n   <g clip-path=\"url(#p92b19a8c01)\">\r\n    <image height=\"128\" id=\"imageb6102909d2\" transform=\"scale(1 -1)translate(0 -128)\" width=\"128\" x=\"325.805882\" xlink:href=\"data:image/png;base64,\r\niVBORw0KGgoAAAANSUhEUgAAAIAAAACACAYAAADDPmHLAAAFZElEQVR4nO2dbWiVdRjGd3bOaS/ZSmeb043W2sZijqFh0jYqyeqLOXGjURlkIFZaIMvBCAQTpL4kaYkpiKW1krmmrUAkJgSJWcqo5aar2JxjL+qY+LKXc3b6WPe5TjyHwzk7Ha/r9+2+uZ+XjR83N///8zzHtdxVG0gStCTH+wZEfJEA5EgAciQAORKAHAlAjgQgRwKQIwHIkQDkSAByJAA5EoAcCUCOBCBHApAjAciRAORIAHIkADkSgBwJQI4nlid3Z84x8cBLJVAzVj4JOc+I18TFey5DzfTgsI3HxyO5RXrUAciRAORIAHJiOgNUtA+YeHPm8chO9DKmVnStNnHfqVyoKWgeM3GgswdqAlM4gzChDkCOBCBHApAjAciJ6RD4+Kwux5pr/gnI7RldauIFd41CTVtJi03gGlNS0lobln7xFpQUNp6BXMDnC3GyOxN1AHIkADkSgBwJQI4rlh+J6m+sMPHZjR9CzYAPh8Ca9zabOKf1L6i5tizfxIE1V6CmeeEBE9/vToGa0i/fhFzxXnsufzeuIEaL4TcqIJdd2+t8YP19Jgyc64zo+uoA5EgAciQAOTGdAVweu87UvWsx1HSt/Bhy/UFzwcpPGqAmf/8fJvYNDkHN1PJHTLzo/XNQs33each9ev0BEx985zmoSW+xx7nnZkLN6NNFJr5ZNwY1Xy/aB7lcD84qwbTdtNfbW1zgeEwo1AHIkQDkSAByJAA5MR0C4WIpONx07yiHXFc1DobBVHevMnHyC1NQ4x+yj4578vCxsfJjfZDbmmWHxbFpfOR86ZF6E+eUDEPN92VfQS6Yup4VkLuyM9/EqVfxbwvGffKsY00o1AHIkQDkSAByZnQGCEVyairkrtYtMvEP23c6nqe0CTd1ctv9Jk75Fp/+8eTMg1zlcbv5VJ/5m+P1w+GxbfhEUvZnHZCbvnUrKtcLB3UAciQAORKAHAlATtyHwFAELxhNPlEGNQ27D5p4WdoNqBkKeuS8a3I21Gy5UA25ptIDJp4fxu7c6Qkv5NY1vW7igm24Gxnv7xqoA5AjAciRAOT8L2eAcHBnZJh4/NEiqPE22qeE2kqOhnVur8tt4qmA/z8q/6H9Ni5o7aipNfF0x/mwrj+TqAOQIwHIkQDkSAByEnYIjIS+Lfgali89xJ/vCopDlKx+9pSJ383CncaN/U+a+FIlvgYX728RqAOQIwHIkQDkSAByqIbAaNJ72O5QdlTudzzmmfUbIJfa9lPU7ikS1AHIkQDkSAByYvqhyGjhLnwQct0bsk2cdwJ37O7uHDSxr/dS1O7Je+Yem6iM2qlnFHUAciQAORKAHAlATkIMgUn7cBft9+JdNvE8HtZ8w77398GFp6AmuwHXwfznLzreUvrQnbF+pg5AjgQgRwKQkxAzwOVj+Zh82/m42ll2Iah28edQc6glD3JHVlWZONTHomf/et35BhIAdQByJAA5EoAcCUBOQgyBCw7hwkzpknUm/qZiN9QUePGd/WDWZOAOob/1RxO31lRBzbTjmRMDdQByJAA5EoCchJgB/CMjkHvoRZvbtGQ91PRssu/5n6z6CGpC/ZLY2qC5IOvod1Dz50RW6Jv9Fz9P2OunDd2GmnhvKakDkCMByJEA5EgAcqheDUteWAK5i41pkHu1zC4ERfq18IdPvGbiold+ieg8sUQdgBwJQI4EIEcCkEM1BIaLO3OOiV33ZkBNX818E4/PxX9j4Vb7czAz+VMw4aIOQI4EIEcCkKMZgBx1AHIkADkSgBwJQI4EIEcCkCMByJEA5EgAciQAORKAHAlAjgQgRwKQIwHIkQDkSAByJAA5EoAcCUCOBCBHApDzN+KqIIE1eeQxAAAAAElFTkSuQmCC\" y=\"-175.711066\"/>\r\n   </g>\r\n   <g id=\"matplotlib.axis_11\"/>\r\n   <g id=\"matplotlib.axis_12\"/>\r\n   <g id=\"patch_28\">\r\n    <path d=\"M 325.805882 303.711066 \r\nL 325.805882 175.805184 \r\n\" style=\"fill:none;stroke:#000000;stroke-linecap:square;stroke-linejoin:miter;stroke-width:0.8;\"/>\r\n   </g>\r\n   <g id=\"patch_29\">\r\n    <path d=\"M 453.711765 303.711066 \r\nL 453.711765 175.805184 \r\n\" style=\"fill:none;stroke:#000000;stroke-linecap:square;stroke-linejoin:miter;stroke-width:0.8;\"/>\r\n   </g>\r\n   <g id=\"patch_30\">\r\n    <path d=\"M 325.805882 303.711066 \r\nL 453.711765 303.711066 \r\n\" style=\"fill:none;stroke:#000000;stroke-linecap:square;stroke-linejoin:miter;stroke-width:0.8;\"/>\r\n   </g>\r\n   <g id=\"patch_31\">\r\n    <path d=\"M 325.805882 175.805184 \r\nL 453.711765 175.805184 \r\n\" style=\"fill:none;stroke:#000000;stroke-linecap:square;stroke-linejoin:miter;stroke-width:0.8;\"/>\r\n   </g>\r\n   <g id=\"text_6\">\r\n    <!-- label = 2 -->\r\n    <g transform=\"translate(362.588199 169.805184)scale(0.12 -0.12)\">\r\n     <defs>\r\n      <path d=\"M 19.1875 8.296875 \r\nL 53.609375 8.296875 \r\nL 53.609375 0 \r\nL 7.328125 0 \r\nL 7.328125 8.296875 \r\nQ 12.9375 14.109375 22.625 23.890625 \r\nQ 32.328125 33.6875 34.8125 36.53125 \r\nQ 39.546875 41.84375 41.421875 45.53125 \r\nQ 43.3125 49.21875 43.3125 52.78125 \r\nQ 43.3125 58.59375 39.234375 62.25 \r\nQ 35.15625 65.921875 28.609375 65.921875 \r\nQ 23.96875 65.921875 18.8125 64.3125 \r\nQ 13.671875 62.703125 7.8125 59.421875 \r\nL 7.8125 69.390625 \r\nQ 13.765625 71.78125 18.9375 73 \r\nQ 24.125 74.21875 28.421875 74.21875 \r\nQ 39.75 74.21875 46.484375 68.546875 \r\nQ 53.21875 62.890625 53.21875 53.421875 \r\nQ 53.21875 48.921875 51.53125 44.890625 \r\nQ 49.859375 40.875 45.40625 35.40625 \r\nQ 44.1875 33.984375 37.640625 27.21875 \r\nQ 31.109375 20.453125 19.1875 8.296875 \r\nz\r\n\" id=\"DejaVuSans-50\"/>\r\n     </defs>\r\n     <use xlink:href=\"#DejaVuSans-108\"/>\r\n     <use x=\"27.783203\" xlink:href=\"#DejaVuSans-97\"/>\r\n     <use x=\"89.0625\" xlink:href=\"#DejaVuSans-98\"/>\r\n     <use x=\"152.539062\" xlink:href=\"#DejaVuSans-101\"/>\r\n     <use x=\"214.0625\" xlink:href=\"#DejaVuSans-108\"/>\r\n     <use x=\"241.845703\" xlink:href=\"#DejaVuSans-32\"/>\r\n     <use x=\"273.632812\" xlink:href=\"#DejaVuSans-61\"/>\r\n     <use x=\"357.421875\" xlink:href=\"#DejaVuSans-32\"/>\r\n     <use x=\"389.208984\" xlink:href=\"#DejaVuSans-50\"/>\r\n    </g>\r\n   </g>\r\n  </g>\r\n  <g id=\"axes_7\">\r\n   <g id=\"patch_32\">\r\n    <path d=\"M 10.7 457.198125 \r\nL 138.605882 457.198125 \r\nL 138.605882 329.292243 \r\nL 10.7 329.292243 \r\nz\r\n\" style=\"fill:#ffffff;\"/>\r\n   </g>\r\n   <g clip-path=\"url(#p847da349b8)\">\r\n    <image height=\"128\" id=\"image92cab787cd\" transform=\"scale(1 -1)translate(0 -128)\" width=\"128\" x=\"10.7\" xlink:href=\"data:image/png;base64,\r\niVBORw0KGgoAAAANSUhEUgAAAIAAAACACAYAAADDPmHLAAAC50lEQVR4nO3dsWtTURSA8aSxuCipDkVQKgV9gyI4OIjgIgFBUAcLIjh0cyj4H7g5iqCj6OAi6OAobh0KxaEdUtBaURxcVCSCIqIlqfPLifBI2r7X+32/LYdHuMPXwyUJWm/VZzZqwhor+wAqlwHAGQCcAcAZAJwBwBkAnAHAGQCcAcAZAJwBwBkAnAHAGQCcAcAZANyusg9QtsaxLMxaz5Zyr+f2rYVnxvr+di5duB6e6bVXRzzd1nMDwBkAnAHAGQAc/hL4/eT+MBt06UuVGwDOAOAMAA5/B9g9+7nsI5TKDQBnAHAGAGcAcPhL4OzUYpj1f9M3yHi9sRXH2XZuADgDgDMAOAOAQ10CP906E2bX9t4Ls16B95p+eSP3Omsv/efJanMDwBkAnAHAoe4Af7LfZR+hctwAcAYAZwBwBgCHugS+PfcwzIp86DNI9uDvaIepCDcAnAHAGQAc6g4w6Fc86wX+v5Sz7ath1ny1shlHKp0bAM4A4AwAzgDgUJfA9Y1umPUKfBT0Y3EyzJq195typrK5AeAMAM4A4AwAzgDgDADOAOAMAM4A4AwAzgDgDADOAOBQ3wYO+5OwlLkB4AwAzgDgUHeAYX8RlDI3AJwBwBkAnAHAJX0J/HDndN9kuZRzVJkbAM4A4AwALpk7QOPIdJjdvvh0qPc6/uRm7nX2/Ft4Jn6ktDO5AeAMAM4A4AwALplLYO3nrzB60TmRe31lz3yht5pczv9MqPvm3fDnqjg3AJwBwBkAXDJ3gO6Xr2G2sHoqP5gqdgcgcQPAGQCcAcAZAFwyl8DGRDPMDh+K3+Ipzw0AZwBwBgBnAHDJXAJrBw+E0f3scd9kfHvOsoO4AeAMAM4A4JK5A3Rfr4XZ5fm53OuP5x+FZ+52jobZxEon/94jnq3K3ABwBgBnAHAGAFdv1Wfg/1QimxsAzgDgDADOAOAMAM4A4AwAzgDgDADOAOAMAM4A4AwAzgDgDADOAOAMAO4fzq9VfnHo3hMAAAAASUVORK5CYII=\" y=\"-329.198125\"/>\r\n   </g>\r\n   <g id=\"matplotlib.axis_13\"/>\r\n   <g id=\"matplotlib.axis_14\"/>\r\n   <g id=\"patch_33\">\r\n    <path d=\"M 10.7 457.198125 \r\nL 10.7 329.292243 \r\n\" style=\"fill:none;stroke:#000000;stroke-linecap:square;stroke-linejoin:miter;stroke-width:0.8;\"/>\r\n   </g>\r\n   <g id=\"patch_34\">\r\n    <path d=\"M 138.605882 457.198125 \r\nL 138.605882 329.292243 \r\n\" style=\"fill:none;stroke:#000000;stroke-linecap:square;stroke-linejoin:miter;stroke-width:0.8;\"/>\r\n   </g>\r\n   <g id=\"patch_35\">\r\n    <path d=\"M 10.7 457.198125 \r\nL 138.605882 457.198125 \r\n\" style=\"fill:none;stroke:#000000;stroke-linecap:square;stroke-linejoin:miter;stroke-width:0.8;\"/>\r\n   </g>\r\n   <g id=\"patch_36\">\r\n    <path d=\"M 10.7 329.292243 \r\nL 138.605882 329.292243 \r\n\" style=\"fill:none;stroke:#000000;stroke-linecap:square;stroke-linejoin:miter;stroke-width:0.8;\"/>\r\n   </g>\r\n   <g id=\"text_7\">\r\n    <!-- label = 1 -->\r\n    <g transform=\"translate(47.482316 323.292243)scale(0.12 -0.12)\">\r\n     <use xlink:href=\"#DejaVuSans-108\"/>\r\n     <use x=\"27.783203\" xlink:href=\"#DejaVuSans-97\"/>\r\n     <use x=\"89.0625\" xlink:href=\"#DejaVuSans-98\"/>\r\n     <use x=\"152.539062\" xlink:href=\"#DejaVuSans-101\"/>\r\n     <use x=\"214.0625\" xlink:href=\"#DejaVuSans-108\"/>\r\n     <use x=\"241.845703\" xlink:href=\"#DejaVuSans-32\"/>\r\n     <use x=\"273.632812\" xlink:href=\"#DejaVuSans-61\"/>\r\n     <use x=\"357.421875\" xlink:href=\"#DejaVuSans-32\"/>\r\n     <use x=\"389.208984\" xlink:href=\"#DejaVuSans-49\"/>\r\n    </g>\r\n   </g>\r\n  </g>\r\n  <g id=\"axes_8\">\r\n   <g id=\"patch_37\">\r\n    <path d=\"M 168.252941 457.198125 \r\nL 296.158824 457.198125 \r\nL 296.158824 329.292243 \r\nL 168.252941 329.292243 \r\nz\r\n\" style=\"fill:#ffffff;\"/>\r\n   </g>\r\n   <g clip-path=\"url(#pcc00aeb6da)\">\r\n    <image height=\"128\" id=\"image78417387ec\" transform=\"scale(1 -1)translate(0 -128)\" width=\"128\" x=\"168.252941\" xlink:href=\"data:image/png;base64,\r\niVBORw0KGgoAAAANSUhEUgAAAIAAAACACAYAAADDPmHLAAAE9UlEQVR4nO2da2gUVxTHM5tsTDa00UaNpphqCNZ3QypijCVpKiiFKrYpaVF8RIImVBFiix9EEL9JSx+WWrAYChaRQkqRBhpK0Q/GpmLVGkmNUVGbxhgf+N5kM5t+PjmDOzvMTGbz//++ncOZuXfht4fLzN27xjKjejiNwBIa7QmQ0YUCgEMBwKEA4FAAcCgAOBQAHAoADgUAhwKAQwHAoQDgUABwMvwcLBSJqNzNbSUq9/3mL0Q8L9NQNVUXakT84PgUVfPK0R4RD127bmOWWLADgEMBwKEA4Bhe7ggyK0tF/G9DTNWcLz/k1fBphx9OE3FvbLyqOfRXucoVHzRFbJw85+a0AgU7ADgUABwKAA4FAMfTRWDF389E3JjX4dVQjglZfAdORsMirmtfp2qK6y6LOP7kibsT8wl2AHAoADgUABxfXwbZZfZvm2Xicdi6MEk+WHJK5fZMPqtyZVkDIu6oOKhq1rcuF3F30wJVk/edHi9osAOAQwHAoQDgUABwPH0QFH1nkYhzd9xQNT8WH1O51VUfiti81O3KfDKm6l1DPdVFKnek8VMRF4UTL0L7zAGVW7O9UcSR5vaE9/EbdgBwKAA4FAAcCgCOp08Cs479KeLB1nGqpuL9rSo34b+LnsxnqPeWyuXv17mazB0i/nnbPlVTkCE/S366/myxbL2dPWiwA4BDAcChAOD4+jZweEA/LMk9/IfKxf2YzHOY+lmbiKsff6xq2nZ/5dd0PIUdABwKAA4FAIcCgBPILWFBI7/Z4m3kbv/n4QXsAOBQAHAoADgpsQZInzNT5S5vyBNx4a+D+rpnQ66M37nJnW3pQYQdABwKAA4FAIcCgBPIReBweYmINzU1q5qVOfdlYo2zscJGusrFhk2LypGMje/O2PgUxDEUABwKAE4g1wAjMdP07tq4S/uGYhY/jHNy77c731O53B/0bqegwQ4ADgUAhwKAQwHA8fR8ALdIn/uqynVtnCDiiqXODqH8dtoJlXOyCOyO6TePNQfk+QCFP/WpGrPrStJjuQk7ADgUABwKAA4FACclFoFecvujJSq3vr5FxGtf1OcVvBDKTHqsvf2lKnfmjfEqF3/0KOl7O4UdABwKAA4FAAd+DWCH/voylZu19h8RN01vdXTv1a+tUDnzzl1H93ICOwA4FAAcCgAOBQAnJbaEjTaTDui/frlkyoVh3y596rnV4ZEj6dw3Q+Vm1nIRSHyCAoBDAcBJiTWAEdYvXkJFhYmvG4yJeOjaddfmlN/cJeILn0zUNdmJX+oUFNxTuVAkIuL406dJzs4+7ADgUABwKAA4FACclFgE3ti5UOXObvky4XWnovJBTG1LnS6y+lMPG+9HF5fKReAyGws+K36ff1Tllr/ZIOJxv5x2dG87sAOAQwHAoQDgpMQa4OXKm46uK8uS/1DS+e7XqiZk8R1w6+yBVIAdABwKAA4FAIcCgJMSi0Bj10sqN2uDfFjyedURVRM25G/2nT6s8ZKStlqVm9F+VcR2jq10CjsAOBQAHAoADgUAZ8z8NtB4fa7KxTPlGrenMkfVXNz6jcrZOy08ed7qqFa5nFW9KhePRj0Z3wp2AHAoADgUAJwxswYgzmAHAIcCgEMBwKEA4FAAcCgAOBQAHAoADgUAhwKAQwHAoQDgUABwKAA4FAAcCgAOBQCHAoBDAcChAOBQAHAoADj/A0rz5Wz+8BOmAAAAAElFTkSuQmCC\" y=\"-329.198125\"/>\r\n   </g>\r\n   <g id=\"matplotlib.axis_15\"/>\r\n   <g id=\"matplotlib.axis_16\"/>\r\n   <g id=\"patch_38\">\r\n    <path d=\"M 168.252941 457.198125 \r\nL 168.252941 329.292243 \r\n\" style=\"fill:none;stroke:#000000;stroke-linecap:square;stroke-linejoin:miter;stroke-width:0.8;\"/>\r\n   </g>\r\n   <g id=\"patch_39\">\r\n    <path d=\"M 296.158824 457.198125 \r\nL 296.158824 329.292243 \r\n\" style=\"fill:none;stroke:#000000;stroke-linecap:square;stroke-linejoin:miter;stroke-width:0.8;\"/>\r\n   </g>\r\n   <g id=\"patch_40\">\r\n    <path d=\"M 168.252941 457.198125 \r\nL 296.158824 457.198125 \r\n\" style=\"fill:none;stroke:#000000;stroke-linecap:square;stroke-linejoin:miter;stroke-width:0.8;\"/>\r\n   </g>\r\n   <g id=\"patch_41\">\r\n    <path d=\"M 168.252941 329.292243 \r\nL 296.158824 329.292243 \r\n\" style=\"fill:none;stroke:#000000;stroke-linecap:square;stroke-linejoin:miter;stroke-width:0.8;\"/>\r\n   </g>\r\n   <g id=\"text_8\">\r\n    <!-- label = 3 -->\r\n    <g transform=\"translate(205.035257 323.292243)scale(0.12 -0.12)\">\r\n     <defs>\r\n      <path d=\"M 40.578125 39.3125 \r\nQ 47.65625 37.796875 51.625 33 \r\nQ 55.609375 28.21875 55.609375 21.1875 \r\nQ 55.609375 10.40625 48.1875 4.484375 \r\nQ 40.765625 -1.421875 27.09375 -1.421875 \r\nQ 22.515625 -1.421875 17.65625 -0.515625 \r\nQ 12.796875 0.390625 7.625 2.203125 \r\nL 7.625 11.71875 \r\nQ 11.71875 9.328125 16.59375 8.109375 \r\nQ 21.484375 6.890625 26.8125 6.890625 \r\nQ 36.078125 6.890625 40.9375 10.546875 \r\nQ 45.796875 14.203125 45.796875 21.1875 \r\nQ 45.796875 27.640625 41.28125 31.265625 \r\nQ 36.765625 34.90625 28.71875 34.90625 \r\nL 20.21875 34.90625 \r\nL 20.21875 43.015625 \r\nL 29.109375 43.015625 \r\nQ 36.375 43.015625 40.234375 45.921875 \r\nQ 44.09375 48.828125 44.09375 54.296875 \r\nQ 44.09375 59.90625 40.109375 62.90625 \r\nQ 36.140625 65.921875 28.71875 65.921875 \r\nQ 24.65625 65.921875 20.015625 65.03125 \r\nQ 15.375 64.15625 9.8125 62.3125 \r\nL 9.8125 71.09375 \r\nQ 15.4375 72.65625 20.34375 73.4375 \r\nQ 25.25 74.21875 29.59375 74.21875 \r\nQ 40.828125 74.21875 47.359375 69.109375 \r\nQ 53.90625 64.015625 53.90625 55.328125 \r\nQ 53.90625 49.265625 50.4375 45.09375 \r\nQ 46.96875 40.921875 40.578125 39.3125 \r\nz\r\n\" id=\"DejaVuSans-51\"/>\r\n     </defs>\r\n     <use xlink:href=\"#DejaVuSans-108\"/>\r\n     <use x=\"27.783203\" xlink:href=\"#DejaVuSans-97\"/>\r\n     <use x=\"89.0625\" xlink:href=\"#DejaVuSans-98\"/>\r\n     <use x=\"152.539062\" xlink:href=\"#DejaVuSans-101\"/>\r\n     <use x=\"214.0625\" xlink:href=\"#DejaVuSans-108\"/>\r\n     <use x=\"241.845703\" xlink:href=\"#DejaVuSans-32\"/>\r\n     <use x=\"273.632812\" xlink:href=\"#DejaVuSans-61\"/>\r\n     <use x=\"357.421875\" xlink:href=\"#DejaVuSans-32\"/>\r\n     <use x=\"389.208984\" xlink:href=\"#DejaVuSans-51\"/>\r\n    </g>\r\n   </g>\r\n  </g>\r\n  <g id=\"axes_9\">\r\n   <g id=\"patch_42\">\r\n    <path d=\"M 325.805882 457.198125 \r\nL 453.711765 457.198125 \r\nL 453.711765 329.292243 \r\nL 325.805882 329.292243 \r\nz\r\n\" style=\"fill:#ffffff;\"/>\r\n   </g>\r\n   <g clip-path=\"url(#pf42da73e6b)\">\r\n    <image height=\"128\" id=\"imagec57b80b608\" transform=\"scale(1 -1)translate(0 -128)\" width=\"128\" x=\"325.805882\" xlink:href=\"data:image/png;base64,\r\niVBORw0KGgoAAAANSUhEUgAAAIAAAACACAYAAADDPmHLAAAC2UlEQVR4nO3cP2sUQRiA8dtc7kiiYBGIIAQFNSBIwC6CjRDwA3hgY6GCELC18yNYaGOhjbVgaWMlwU4xwSZFUEK0NJ5FEiN6f6zHWcgh7s45z/PrZpliEp68DHdhi+WiM2wIayL1AZSWAcAZAJwBwBkAnAHAGQCcAcAZAJwBwBkAnAHAGQDcZOoDpNZ9sRA965xcD9ar1y5Ee/obm5WdqU5OADgDgDMAOPwd4P6559Gz8+3dYP3qyFJdx6mdEwDOAOAMAM4A4PCXwJurt6JnH648CdY7i0ejPbNvKztSrZwAcAYAZwBw+DtAmY+9g2A9+/RNopNUzwkAZwBwBgBnAHBeAks0G+ErEyamp6I9g/39uo5TKScAnAHAGQCcAcDhL4F3l15Gz05NzgTrzcfxv46fub4ePfsfOQHgDADOAOBQd4BvNy5Gz1aOPYqefR2E3waeffAz2pPL2zWdAHAGAGcAcAYAh7oEDkb8afvDP74NPPgV7/kXBxoDTgA4A4AzADjUHWBvvhhp3+4w3JfL+4DKOAHgDADOAOAMAA51CZy/9Dn1EcaOEwDOAOAMAA51BxjV1bXbwfpEYyPRSarnBIAzADgDgDMAOC+BJfa6M4dvyoQTAM4A4AwAzgDgDADOAOAMAM4A4LL+IKh5fC5YPzz9rGRX/BJIEicAnAHAGQCcAcBlfQksWq1gvdAa7cI3vdWu4jhjyQkAZwBwBgCX9R3gb829i98JlCsnAJwBwBkAnAHA4S+BzSL+G2h97yU4SRpOADgDgDMAOPwdoD8cpD5CUk4AOAOAMwA4A4DDXwJf/4h/Be1P3WCd88dCTgA4A4AzADgDgMv6Etj/shOsL99ZifYs3nsfPettbVd2pnHjBIAzADgDgCuWi87w8G3KlRMAzgDgDADOAOAMAM4A4AwAzgDgDADOAOAMAM4A4AwAzgDgDADOAOAMAM4A4AwAzgDgDADOAOB+A8HmUYof+5QpAAAAAElFTkSuQmCC\" y=\"-329.198125\"/>\r\n   </g>\r\n   <g id=\"matplotlib.axis_17\"/>\r\n   <g id=\"matplotlib.axis_18\"/>\r\n   <g id=\"patch_43\">\r\n    <path d=\"M 325.805882 457.198125 \r\nL 325.805882 329.292243 \r\n\" style=\"fill:none;stroke:#000000;stroke-linecap:square;stroke-linejoin:miter;stroke-width:0.8;\"/>\r\n   </g>\r\n   <g id=\"patch_44\">\r\n    <path d=\"M 453.711765 457.198125 \r\nL 453.711765 329.292243 \r\n\" style=\"fill:none;stroke:#000000;stroke-linecap:square;stroke-linejoin:miter;stroke-width:0.8;\"/>\r\n   </g>\r\n   <g id=\"patch_45\">\r\n    <path d=\"M 325.805882 457.198125 \r\nL 453.711765 457.198125 \r\n\" style=\"fill:none;stroke:#000000;stroke-linecap:square;stroke-linejoin:miter;stroke-width:0.8;\"/>\r\n   </g>\r\n   <g id=\"patch_46\">\r\n    <path d=\"M 325.805882 329.292243 \r\nL 453.711765 329.292243 \r\n\" style=\"fill:none;stroke:#000000;stroke-linecap:square;stroke-linejoin:miter;stroke-width:0.8;\"/>\r\n   </g>\r\n   <g id=\"text_9\">\r\n    <!-- label = 1 -->\r\n    <g transform=\"translate(362.588199 323.292243)scale(0.12 -0.12)\">\r\n     <use xlink:href=\"#DejaVuSans-108\"/>\r\n     <use x=\"27.783203\" xlink:href=\"#DejaVuSans-97\"/>\r\n     <use x=\"89.0625\" xlink:href=\"#DejaVuSans-98\"/>\r\n     <use x=\"152.539062\" xlink:href=\"#DejaVuSans-101\"/>\r\n     <use x=\"214.0625\" xlink:href=\"#DejaVuSans-108\"/>\r\n     <use x=\"241.845703\" xlink:href=\"#DejaVuSans-32\"/>\r\n     <use x=\"273.632812\" xlink:href=\"#DejaVuSans-61\"/>\r\n     <use x=\"357.421875\" xlink:href=\"#DejaVuSans-32\"/>\r\n     <use x=\"389.208984\" xlink:href=\"#DejaVuSans-49\"/>\r\n    </g>\r\n   </g>\r\n  </g>\r\n </g>\r\n <defs>\r\n  <clipPath id=\"pb52f2da917\">\r\n   <rect height=\"127.905882\" width=\"127.905882\" x=\"10.7\" y=\"22.318125\"/>\r\n  </clipPath>\r\n  <clipPath id=\"p49ab1715a3\">\r\n   <rect height=\"127.905882\" width=\"127.905882\" x=\"168.252941\" y=\"22.318125\"/>\r\n  </clipPath>\r\n  <clipPath id=\"pac0666e853\">\r\n   <rect height=\"127.905882\" width=\"127.905882\" x=\"325.805882\" y=\"22.318125\"/>\r\n  </clipPath>\r\n  <clipPath id=\"p16dcac3e33\">\r\n   <rect height=\"127.905882\" width=\"127.905882\" x=\"10.7\" y=\"175.805184\"/>\r\n  </clipPath>\r\n  <clipPath id=\"p90164371bb\">\r\n   <rect height=\"127.905882\" width=\"127.905882\" x=\"168.252941\" y=\"175.805184\"/>\r\n  </clipPath>\r\n  <clipPath id=\"p92b19a8c01\">\r\n   <rect height=\"127.905882\" width=\"127.905882\" x=\"325.805882\" y=\"175.805184\"/>\r\n  </clipPath>\r\n  <clipPath id=\"p847da349b8\">\r\n   <rect height=\"127.905882\" width=\"127.905882\" x=\"10.7\" y=\"329.292243\"/>\r\n  </clipPath>\r\n  <clipPath id=\"pcc00aeb6da\">\r\n   <rect height=\"127.905882\" width=\"127.905882\" x=\"168.252941\" y=\"329.292243\"/>\r\n  </clipPath>\r\n  <clipPath id=\"pf42da73e6b\">\r\n   <rect height=\"127.905882\" width=\"127.905882\" x=\"325.805882\" y=\"329.292243\"/>\r\n  </clipPath>\r\n </defs>\r\n</svg>\r\n"
     },
     "metadata": {},
     "output_type": "display_data"
    }
   ],
   "source": [
    "%matplotlib inline\n",
    "%config InlineBackend.figure_format = 'svg'\n",
    "\n",
    "import matplotlib.pyplot as plt\n",
    "\n",
    "plt.figure(figsize=(8, 8))\n",
    "for i in range(9):\n",
    "    img, label = ds_train[i]\n",
    "    img = torch.squeeze(img)\n",
    "    ax = plt.subplot(3, 3, i + 1)\n",
    "    ax.imshow(img.numpy())\n",
    "    ax.set_title(\"label = %d\"%label)\n",
    "    ax.set_xticks([])\n",
    "    ax.set_yticks([])\n",
    "plt.show()"
   ],
   "metadata": {
    "collapsed": false,
    "pycharm": {
     "name": "#%%\n"
    }
   }
  },
  {
   "cell_type": "markdown",
   "source": [
    "## 脚本风格"
   ],
   "metadata": {
    "collapsed": false,
    "pycharm": {
     "name": "#%% md\n"
    }
   }
  },
  {
   "cell_type": "code",
   "execution_count": 14,
   "outputs": [
    {
     "name": "stdout",
     "output_type": "stream",
     "text": [
      "Sequential(\n",
      "  (conv1): Conv2d(1, 32, kernel_size=(3, 3), stride=(1, 1))\n",
      "  (pool1): MaxPool2d(kernel_size=2, stride=2, padding=0, dilation=1, ceil_mode=False)\n",
      "  (conv2): Conv2d(32, 64, kernel_size=(5, 5), stride=(1, 1))\n",
      "  (pool2): MaxPool2d(kernel_size=2, stride=2, padding=0, dilation=1, ceil_mode=False)\n",
      "  (dropout): Dropout2d(p=0.1, inplace=False)\n",
      "  (adaptive_pool): AdaptiveMaxPool2d(output_size=(1, 1))\n",
      "  (flatten): Flatten()\n",
      "  (linear1): Linear(in_features=64, out_features=32, bias=True)\n",
      "  (relu): ReLU()\n",
      "  (linear2): Linear(in_features=32, out_features=10, bias=True)\n",
      ")\n"
     ]
    }
   ],
   "source": [
    "net = nn.Sequential()\n",
    "net.add_module(\"conv1\", nn.Conv2d(in_channels=1, out_channels=32, kernel_size=3))\n",
    "net.add_module(\"pool1\", nn.MaxPool2d(kernel_size=2, stride=2))\n",
    "net.add_module(\"conv2\", nn.Conv2d(in_channels=32, out_channels=64, kernel_size=5))\n",
    "net.add_module(\"pool2\", nn.MaxPool2d(kernel_size=2, stride=2))\n",
    "net.add_module(\"dropout\", nn.Dropout2d(p=0.1))\n",
    "net.add_module(\"adaptive_pool\", nn.AdaptiveMaxPool2d((1, 1)))\n",
    "net.add_module(\"flatten\", nn.Flatten())\n",
    "net.add_module(\"linear1\", nn.Linear(64, 32))\n",
    "net.add_module(\"relu\", nn.ReLU())\n",
    "net.add_module(\"linear2\", nn.Linear(32, 10))\n",
    "\n",
    "print(net)"
   ],
   "metadata": {
    "collapsed": false,
    "pycharm": {
     "name": "#%%\n"
    }
   }
  },
  {
   "cell_type": "code",
   "execution_count": 15,
   "outputs": [
    {
     "name": "stdout",
     "output_type": "stream",
     "text": [
      "----------------------------------------------------------------\n",
      "        Layer (type)               Output Shape         Param #\n",
      "================================================================\n",
      "            Conv2d-1           [-1, 32, 30, 30]             320\n",
      "         MaxPool2d-2           [-1, 32, 15, 15]               0\n",
      "            Conv2d-3           [-1, 64, 11, 11]          51,264\n",
      "         MaxPool2d-4             [-1, 64, 5, 5]               0\n",
      "         Dropout2d-5             [-1, 64, 5, 5]               0\n",
      " AdaptiveMaxPool2d-6             [-1, 64, 1, 1]               0\n",
      "           Flatten-7                   [-1, 64]               0\n",
      "            Linear-8                   [-1, 32]           2,080\n",
      "              ReLU-9                   [-1, 32]               0\n",
      "           Linear-10                   [-1, 10]             330\n",
      "================================================================\n",
      "Total params: 53,994\n",
      "Trainable params: 53,994\n",
      "Non-trainable params: 0\n",
      "----------------------------------------------------------------\n",
      "Input size (MB): 0.003906\n",
      "Forward/backward pass size (MB): 0.359695\n",
      "Params size (MB): 0.205971\n",
      "Estimated Total Size (MB): 0.569572\n",
      "----------------------------------------------------------------\n"
     ]
    }
   ],
   "source": [
    "summary(net, input_shape=(1, 32, 32))"
   ],
   "metadata": {
    "collapsed": false,
    "pycharm": {
     "name": "#%%\n"
    }
   }
  },
  {
   "cell_type": "code",
   "execution_count": 17,
   "outputs": [],
   "source": [
    "import datetime\n",
    "import numpy as np\n",
    "import pandas as pd\n",
    "from sklearn.metrics import accuracy_score\n",
    "\n",
    "def accuracy(y_pred,y_true):\n",
    "    y_pred_cls = torch.argmax(nn.Softmax(dim=1)(y_pred), dim=1).data\n",
    "    return accuracy_score(y_true, y_pred_cls)\n",
    "\n",
    "loss_func = nn.CrossEntropyLoss()\n",
    "optimizer = torch.optim.Adam(params=net.parameters(),lr = 0.01)\n",
    "metric_func = accuracy\n",
    "metric_name = \"accuracy\""
   ],
   "metadata": {
    "collapsed": false,
    "pycharm": {
     "name": "#%%\n"
    }
   }
  },
  {
   "cell_type": "code",
   "execution_count": 19,
   "outputs": [
    {
     "name": "stdout",
     "output_type": "stream",
     "text": [
      "Start Training...\n",
      "================================================================================2021-02-12 16:00:55\n",
      "[step = 100] loss: 0.079, accuracy: 0.975\n",
      "[step = 200] loss: 0.074, accuracy: 0.977\n",
      "[step = 300] loss: 0.076, accuracy: 0.977\n",
      "[step = 400] loss: 0.079, accuracy: 0.976\n",
      "\n",
      "EPOCH = 0, loss = 0.078,accuracy  = 0.977, val_loss = 0.072, val_accuracy = 0.977\n",
      "\n",
      "================================================================================2021-02-12 16:01:20\n",
      "[step = 100] loss: 0.085, accuracy: 0.975\n",
      "[step = 200] loss: 0.079, accuracy: 0.977\n",
      "[step = 300] loss: 0.079, accuracy: 0.977\n",
      "[step = 400] loss: 0.081, accuracy: 0.976\n",
      "\n",
      "EPOCH = 1, loss = 0.083,accuracy  = 0.976, val_loss = 0.084, val_accuracy = 0.977\n",
      "\n",
      "================================================================================2021-02-12 16:01:47\n",
      "[step = 100] loss: 0.066, accuracy: 0.979\n",
      "[step = 200] loss: 0.066, accuracy: 0.979\n",
      "[step = 300] loss: 0.075, accuracy: 0.977\n",
      "[step = 400] loss: 0.079, accuracy: 0.976\n",
      "\n",
      "EPOCH = 2, loss = 0.080,accuracy  = 0.976, val_loss = 0.066, val_accuracy = 0.979\n",
      "\n",
      "================================================================================2021-02-12 16:02:13\n",
      "Finished Training...\n"
     ]
    }
   ],
   "source": [
    "epochs = 3\n",
    "log_step_freq = 100\n",
    "\n",
    "df_history = pd.DataFrame(columns = [\"epoch\", \"loss\", metric_name, \"val_loss\", \"val_\"+metric_name])\n",
    "print(\"Start Training...\")\n",
    "nowtime = datetime.datetime.now().strftime('%Y-%m-%d %H:%M:%S')\n",
    "print(\"==========\"*8 + \"%s\"%nowtime)\n",
    "\n",
    "for epoch in range(epochs):\n",
    "\n",
    "    # 1，训练循环-------------------------------------------------\n",
    "    net.train()\n",
    "    loss_sum = 0.0\n",
    "    metric_sum = 0.0\n",
    "    step = 1\n",
    "\n",
    "    for step, (features,labels) in enumerate(dl_train, 1):\n",
    "        # 梯度清零\n",
    "        optimizer.zero_grad()\n",
    "\n",
    "        # 正向传播求损失\n",
    "        pred = net(features)\n",
    "        loss = loss_func(pred, labels)\n",
    "        metric = metric_func(pred, labels)\n",
    "\n",
    "        # 反向传播求梯度\n",
    "        loss.backward()\n",
    "        optimizer.step()\n",
    "\n",
    "        # 打印batch级别日志\n",
    "        loss_sum += loss.item()\n",
    "        metric_sum += metric.item()\n",
    "        if step%log_step_freq == 0:\n",
    "            print((\"[step = %d] loss: %.3f, \" + metric_name + \": %.3f\") %\n",
    "                  (step, loss_sum/step, metric_sum/step))\n",
    "\n",
    "    # 2，验证循环-------------------------------------------------\n",
    "    net.eval()\n",
    "    val_loss_sum = 0.0\n",
    "    val_metric_sum = 0.0\n",
    "    val_step = 1\n",
    "\n",
    "    for val_step, (features,labels) in enumerate(dl_valid, 1):\n",
    "        with torch.no_grad():\n",
    "            pred = net(features)\n",
    "            val_loss = loss_func(pred, labels)\n",
    "            val_metric = metric_func(pred, labels)\n",
    "\n",
    "        val_loss_sum += val_loss.item()\n",
    "        val_metric_sum += val_metric.item()\n",
    "\n",
    "    # 3，记录日志-------------------------------------------------\n",
    "    info = (epoch, loss_sum/step, metric_sum/step,\n",
    "            val_loss_sum/val_step, val_metric_sum/val_step)\n",
    "    df_history.loc[epoch-1] = info\n",
    "\n",
    "    # 打印epoch级别日志\n",
    "    print((\"\\nEPOCH = %d, loss = %.3f,\"+ metric_name + \\\n",
    "          \"  = %.3f, val_loss = %.3f, \"+\"val_\"+ metric_name+\" = %.3f\")\n",
    "          %info)\n",
    "    nowtime = datetime.datetime.now().strftime('%Y-%m-%d %H:%M:%S')\n",
    "    print(\"\\n\"+\"==========\"*8 + \"%s\"%nowtime)\n",
    "print('Finished Training...')"
   ],
   "metadata": {
    "collapsed": false,
    "pycharm": {
     "name": "#%%\n"
    }
   }
  },
  {
   "cell_type": "markdown",
   "source": [
    "## 函数风格"
   ],
   "metadata": {
    "collapsed": false,
    "pycharm": {
     "name": "#%% md\n"
    }
   }
  },
  {
   "cell_type": "code",
   "execution_count": 20,
   "outputs": [
    {
     "name": "stdout",
     "output_type": "stream",
     "text": [
      "Net(\n",
      "  (layers): ModuleList(\n",
      "    (0): Conv2d(1, 32, kernel_size=(3, 3), stride=(1, 1))\n",
      "    (1): MaxPool2d(kernel_size=2, stride=2, padding=0, dilation=1, ceil_mode=False)\n",
      "    (2): Conv2d(32, 64, kernel_size=(5, 5), stride=(1, 1))\n",
      "    (3): MaxPool2d(kernel_size=2, stride=2, padding=0, dilation=1, ceil_mode=False)\n",
      "    (4): Dropout2d(p=0.1, inplace=False)\n",
      "    (5): AdaptiveMaxPool2d(output_size=(1, 1))\n",
      "    (6): Flatten()\n",
      "    (7): Linear(in_features=64, out_features=32, bias=True)\n",
      "    (8): ReLU()\n",
      "    (9): Linear(in_features=32, out_features=10, bias=True)\n",
      "  )\n",
      ")\n"
     ]
    }
   ],
   "source": [
    "class Net(nn.Module):\n",
    "    def __init__(self):\n",
    "        super(Net, self).__init__()\n",
    "        self.layers = nn.ModuleList([\n",
    "            nn.Conv2d(in_channels=1, out_channels=32, kernel_size=3),\n",
    "            nn.MaxPool2d(kernel_size=2, stride = 2),\n",
    "            nn.Conv2d(in_channels=32, out_channels=64, kernel_size=5),\n",
    "            nn.MaxPool2d(kernel_size=2, stride=2),\n",
    "            nn.Dropout2d(p=0.1),\n",
    "            nn.AdaptiveMaxPool2d((1, 1)),\n",
    "            nn.Flatten(),\n",
    "            nn.Linear(64, 32),\n",
    "            nn.ReLU(),\n",
    "            nn.Linear(32, 10)\n",
    "        ])\n",
    "\n",
    "    def forward(self, x):\n",
    "        for layer in self.layers:\n",
    "            x = layer(x)\n",
    "        return x\n",
    "\n",
    "net = Net()\n",
    "print(net)"
   ],
   "metadata": {
    "collapsed": false,
    "pycharm": {
     "name": "#%%\n"
    }
   }
  },
  {
   "cell_type": "code",
   "execution_count": 21,
   "outputs": [
    {
     "name": "stdout",
     "output_type": "stream",
     "text": [
      "----------------------------------------------------------------\n",
      "        Layer (type)               Output Shape         Param #\n",
      "================================================================\n",
      "            Conv2d-1           [-1, 32, 30, 30]             320\n",
      "         MaxPool2d-2           [-1, 32, 15, 15]               0\n",
      "            Conv2d-3           [-1, 64, 11, 11]          51,264\n",
      "         MaxPool2d-4             [-1, 64, 5, 5]               0\n",
      "         Dropout2d-5             [-1, 64, 5, 5]               0\n",
      " AdaptiveMaxPool2d-6             [-1, 64, 1, 1]               0\n",
      "           Flatten-7                   [-1, 64]               0\n",
      "            Linear-8                   [-1, 32]           2,080\n",
      "              ReLU-9                   [-1, 32]               0\n",
      "           Linear-10                   [-1, 10]             330\n",
      "================================================================\n",
      "Total params: 53,994\n",
      "Trainable params: 53,994\n",
      "Non-trainable params: 0\n",
      "----------------------------------------------------------------\n",
      "Input size (MB): 0.003906\n",
      "Forward/backward pass size (MB): 0.359695\n",
      "Params size (MB): 0.205971\n",
      "Estimated Total Size (MB): 0.569572\n",
      "----------------------------------------------------------------\n"
     ]
    }
   ],
   "source": [
    "summary(net, input_shape=(1, 32, 32))"
   ],
   "metadata": {
    "collapsed": false,
    "pycharm": {
     "name": "#%%\n"
    }
   }
  },
  {
   "cell_type": "code",
   "execution_count": 22,
   "outputs": [],
   "source": [
    "import datetime\n",
    "import numpy as np\n",
    "import pandas as pd\n",
    "from sklearn.metrics import accuracy_score\n",
    "\n",
    "def accuracy(y_pred,y_true):\n",
    "    y_pred_cls = torch.argmax(nn.Softmax(dim=1)(y_pred), dim=1).data\n",
    "    return accuracy_score(y_true, y_pred_cls)\n",
    "\n",
    "model = net\n",
    "model.optimizer = torch.optim.SGD(model.parameters(), lr=0.01)\n",
    "model.loss_func = nn.CrossEntropyLoss()\n",
    "model.metric_func = accuracy\n",
    "model.metric_name = \"accuracy\""
   ],
   "metadata": {
    "collapsed": false,
    "pycharm": {
     "name": "#%%\n"
    }
   }
  },
  {
   "cell_type": "code",
   "execution_count": 23,
   "outputs": [
    {
     "data": {
      "text/plain": "(2.302320718765259, 0.1015625)"
     },
     "execution_count": 23,
     "metadata": {},
     "output_type": "execute_result"
    }
   ],
   "source": [
    "def train_step(model, features, labels):\n",
    "    # 训练模式\n",
    "    model.train()\n",
    "    # 梯度清零\n",
    "    model.optimizer.zero_grad()\n",
    "    # 正向传播求损失\n",
    "    pred = model(features)\n",
    "    loss = model.loss_func(pred, labels)\n",
    "    metric = model.metric_func(pred, labels)\n",
    "    # 反向传播求梯度\n",
    "    loss.backward()\n",
    "    model.optimizer.step()\n",
    "    return loss.item(), metric.item()\n",
    "\n",
    "@torch.no_grad()\n",
    "def valid_step(model, features, labels):\n",
    "    # 预测模式\n",
    "    model.eval()\n",
    "    pred = model(features)\n",
    "    loss = model.loss_func(pred, labels)\n",
    "    metric = model.metric_func(pred, labels)\n",
    "    return loss.item(), metric.item()\n",
    "\n",
    "# 测试train_step效果\n",
    "features, labels = next(iter(dl_train))\n",
    "train_step(model,features,labels)"
   ],
   "metadata": {
    "collapsed": false,
    "pycharm": {
     "name": "#%%\n"
    }
   }
  },
  {
   "cell_type": "code",
   "execution_count": 24,
   "outputs": [],
   "source": [
    "def train_model(model, epochs, dl_train, dl_valid, log_step_freq):\n",
    "    metric_name = model.metric_name\n",
    "    df_history = pd.DataFrame(columns=[\"epoch\", \"loss\", metric_name, \"val_loss\", \"val_\" + metric_name])\n",
    "    print(\"Start Training...\")\n",
    "    nowtime = datetime.datetime.now().strftime('%Y-%m-%d %H:%M:%S')\n",
    "    print(\"==========\"*8 + \"%s\"%nowtime)\n",
    "    for epoch in range(1, epochs + 1):\n",
    "        # 1，训练循环-------------------------------------------------\n",
    "        loss_sum = 0.0\n",
    "        metric_sum = 0.0\n",
    "        step = 1\n",
    "\n",
    "        for step, (features, labels) in enumerate(dl_train, 1):\n",
    "            loss, metric = train_step(model, features, labels)\n",
    "            loss_sum += loss\n",
    "            metric_sum += metric\n",
    "            if step%log_step_freq == 0:\n",
    "                print((\"[step = %d] loss: %.3f, \"+metric_name+\": %.3f\") %\n",
    "                      (step, loss_sum/step, metric_sum/step))\n",
    "        # 2，验证循环-------------------------------------------------\n",
    "        val_loss_sum = 0.0\n",
    "        val_metric_sum = 0.0\n",
    "        val_step = 1\n",
    "\n",
    "        for val_step, (features, labels) in enumerate(dl_valid, 1):\n",
    "            val_loss, val_metric = valid_step(model, features, labels)\n",
    "            val_loss_sum += val_loss\n",
    "            val_metric_sum += val_metric\n",
    "\n",
    "        # 3，记录日志-------------------------------------------------\n",
    "        info = (epoch, loss_sum / step, metric_sum / step,\n",
    "                val_loss_sum / val_step, val_metric_sum / val_step)\n",
    "        df_history.loc[epoch-1] = info\n",
    "\n",
    "        # 打印epoch级别日志\n",
    "        print((\"\\nEPOCH = %d, loss = %.3f,\"+ metric_name + \\\n",
    "              \"  = %.3f, val_loss = %.3f, \"+\"val_\"+ metric_name+\" = %.3f\")\n",
    "              %info)\n",
    "        nowtime = datetime.datetime.now().strftime('%Y-%m-%d %H:%M:%S')\n",
    "        print(\"\\n\"+\"==========\"*8 + \"%s\"%nowtime)\n",
    "\n",
    "    print('Finished Training...')\n",
    "    return df_history"
   ],
   "metadata": {
    "collapsed": false,
    "pycharm": {
     "name": "#%%\n"
    }
   }
  },
  {
   "cell_type": "code",
   "execution_count": 25,
   "outputs": [
    {
     "name": "stdout",
     "output_type": "stream",
     "text": [
      "Start Training...\n",
      "================================================================================2021-02-12 16:16:47\n",
      "[step = 100] loss: 2.298, accuracy: 0.102\n",
      "[step = 200] loss: 2.288, accuracy: 0.112\n",
      "[step = 300] loss: 2.275, accuracy: 0.145\n",
      "[step = 400] loss: 2.260, accuracy: 0.185\n",
      "\n",
      "EPOCH = 1, loss = 2.248,accuracy  = 0.212, val_loss = 2.143, val_accuracy = 0.464\n",
      "\n",
      "================================================================================2021-02-12 16:17:13\n",
      "[step = 100] loss: 2.112, accuracy: 0.417\n",
      "[step = 200] loss: 2.056, accuracy: 0.434\n",
      "[step = 300] loss: 1.986, accuracy: 0.453\n",
      "[step = 400] loss: 1.903, accuracy: 0.475\n",
      "\n",
      "EPOCH = 2, loss = 1.842,accuracy  = 0.491, val_loss = 1.340, val_accuracy = 0.736\n",
      "\n",
      "================================================================================2021-02-12 16:17:39\n",
      "[step = 100] loss: 1.320, accuracy: 0.626\n",
      "[step = 200] loss: 1.231, accuracy: 0.652\n",
      "[step = 300] loss: 1.147, accuracy: 0.676\n",
      "[step = 400] loss: 1.070, accuracy: 0.700\n",
      "\n",
      "EPOCH = 3, loss = 1.022,accuracy  = 0.713, val_loss = 0.571, val_accuracy = 0.878\n",
      "\n",
      "================================================================================2021-02-12 16:18:05\n",
      "Finished Training...\n"
     ]
    }
   ],
   "source": [
    "epochs = 3\n",
    "dfhistory = train_model(model, epochs, dl_train, dl_valid, log_step_freq = 100)"
   ],
   "metadata": {
    "collapsed": false,
    "pycharm": {
     "name": "#%%\n"
    }
   }
  },
  {
   "cell_type": "markdown",
   "source": [
    "## 类风格"
   ],
   "metadata": {
    "collapsed": false,
    "pycharm": {
     "name": "#%% md\n"
    }
   }
  },
  {
   "cell_type": "code",
   "execution_count": 29,
   "outputs": [
    {
     "name": "stdout",
     "output_type": "stream",
     "text": [
      "Net(\n",
      "  (layers): ModuleList(\n",
      "    (0): Conv2d(1, 32, kernel_size=(3, 3), stride=(1, 1))\n",
      "    (1): MaxPool2d(kernel_size=2, stride=2, padding=0, dilation=1, ceil_mode=False)\n",
      "    (2): Conv2d(32, 64, kernel_size=(5, 5), stride=(1, 1))\n",
      "    (3): MaxPool2d(kernel_size=2, stride=2, padding=0, dilation=1, ceil_mode=False)\n",
      "    (4): Dropout2d(p=0.1, inplace=False)\n",
      "    (5): AdaptiveMaxPool2d(output_size=(1, 1))\n",
      "    (6): Flatten()\n",
      "    (7): Linear(in_features=64, out_features=32, bias=True)\n",
      "    (8): ReLU()\n",
      "    (9): Linear(in_features=32, out_features=10, bias=True)\n",
      "  )\n",
      ")\n"
     ]
    }
   ],
   "source": [
    "from torchkeras import Model\n",
    "\n",
    "class Net(Model):\n",
    "    def __init__(self):\n",
    "        super(Net, self).__init__()\n",
    "        self.layers = nn.ModuleList([\n",
    "            nn.Conv2d(in_channels=1, out_channels=32, kernel_size=3),\n",
    "            nn.MaxPool2d(kernel_size=2, stride = 2),\n",
    "            nn.Conv2d(in_channels=32, out_channels=64, kernel_size=5),\n",
    "            nn.MaxPool2d(kernel_size=2, stride=2),\n",
    "            nn.Dropout2d(p=0.1),\n",
    "            nn.AdaptiveMaxPool2d((1, 1)),\n",
    "            nn.Flatten(),\n",
    "            nn.Linear(64, 32),\n",
    "            nn.ReLU(),\n",
    "            nn.Linear(32, 10)\n",
    "        ])\n",
    "\n",
    "    def forward(self,x):\n",
    "        for layer in self.layers:\n",
    "            x = layer(x)\n",
    "        return x\n",
    "\n",
    "model = Net()\n",
    "print(model)"
   ],
   "metadata": {
    "collapsed": false,
    "pycharm": {
     "name": "#%%\n"
    }
   }
  },
  {
   "cell_type": "code",
   "execution_count": 30,
   "outputs": [
    {
     "name": "stdout",
     "output_type": "stream",
     "text": [
      "----------------------------------------------------------------\n",
      "        Layer (type)               Output Shape         Param #\n",
      "================================================================\n",
      "            Conv2d-1           [-1, 32, 30, 30]             320\n",
      "         MaxPool2d-2           [-1, 32, 15, 15]               0\n",
      "            Conv2d-3           [-1, 64, 11, 11]          51,264\n",
      "         MaxPool2d-4             [-1, 64, 5, 5]               0\n",
      "         Dropout2d-5             [-1, 64, 5, 5]               0\n",
      " AdaptiveMaxPool2d-6             [-1, 64, 1, 1]               0\n",
      "           Flatten-7                   [-1, 64]               0\n",
      "            Linear-8                   [-1, 32]           2,080\n",
      "              ReLU-9                   [-1, 32]               0\n",
      "           Linear-10                   [-1, 10]             330\n",
      "================================================================\n",
      "Total params: 53,994\n",
      "Trainable params: 53,994\n",
      "Non-trainable params: 0\n",
      "----------------------------------------------------------------\n",
      "Input size (MB): 0.003906\n",
      "Forward/backward pass size (MB): 0.359695\n",
      "Params size (MB): 0.205971\n",
      "Estimated Total Size (MB): 0.569572\n",
      "----------------------------------------------------------------\n"
     ]
    }
   ],
   "source": [
    "model.summary(input_shape=(1, 32, 32))"
   ],
   "metadata": {
    "collapsed": false,
    "pycharm": {
     "name": "#%%\n"
    }
   }
  },
  {
   "cell_type": "code",
   "execution_count": 32,
   "outputs": [],
   "source": [
    "import datetime\n",
    "import numpy as np\n",
    "import pandas as pd\n",
    "from sklearn.metrics import accuracy_score\n",
    "\n",
    "def accuracy(y_pred,y_true):\n",
    "    y_pred_cls = torch.argmax(nn.Softmax(dim=1)(y_pred), dim=1).data\n",
    "    return accuracy_score(y_true, y_pred_cls)\n",
    "\n",
    "model.compile(loss_func=nn.CrossEntropyLoss(),\n",
    "              optimizer=torch.optim.Adam(model.parameters(), lr=0.02),\n",
    "              metrics_dict={'accuracy' : accuracy})"
   ],
   "metadata": {
    "collapsed": false,
    "pycharm": {
     "name": "#%%\n"
    }
   }
  },
  {
   "cell_type": "code",
   "execution_count": 33,
   "outputs": [
    {
     "name": "stdout",
     "output_type": "stream",
     "text": [
      "Start Training ...\n",
      "\n",
      "================================================================================2021-02-12 16:27:58\n",
      "{'step': 100, 'loss': 0.99, 'accuracy': 0.656}\n",
      "{'step': 200, 'loss': 0.637, 'accuracy': 0.786}\n",
      "{'step': 300, 'loss': 0.493, 'accuracy': 0.836}\n",
      "{'step': 400, 'loss': 0.411, 'accuracy': 0.865}\n",
      "\n",
      " +-------+-------+----------+----------+--------------+\n",
      "| epoch |  loss | accuracy | val_loss | val_accuracy |\n",
      "+-------+-------+----------+----------+--------------+\n",
      "|   1   | 0.375 |  0.878   |  0.118   |    0.966     |\n",
      "+-------+-------+----------+----------+--------------+\n",
      "\n",
      "================================================================================2021-02-12 16:28:23\n",
      "{'step': 100, 'loss': 0.174, 'accuracy': 0.949}\n",
      "{'step': 200, 'loss': 0.169, 'accuracy': 0.95}\n",
      "{'step': 300, 'loss': 0.173, 'accuracy': 0.949}\n",
      "{'step': 400, 'loss': 0.176, 'accuracy': 0.949}\n",
      "\n",
      " +-------+-------+----------+----------+--------------+\n",
      "| epoch |  loss | accuracy | val_loss | val_accuracy |\n",
      "+-------+-------+----------+----------+--------------+\n",
      "|   2   | 0.176 |  0.949   |  0.249   |    0.935     |\n",
      "+-------+-------+----------+----------+--------------+\n",
      "\n",
      "================================================================================2021-02-12 16:28:49\n",
      "{'step': 100, 'loss': 0.187, 'accuracy': 0.952}\n",
      "{'step': 200, 'loss': 0.177, 'accuracy': 0.954}\n",
      "{'step': 300, 'loss': 0.179, 'accuracy': 0.953}\n",
      "{'step': 400, 'loss': 0.182, 'accuracy': 0.953}\n",
      "\n",
      " +-------+-------+----------+----------+--------------+\n",
      "| epoch |  loss | accuracy | val_loss | val_accuracy |\n",
      "+-------+-------+----------+----------+--------------+\n",
      "|   3   | 0.181 |  0.954   |  0.133   |    0.969     |\n",
      "+-------+-------+----------+----------+--------------+\n",
      "\n",
      "================================================================================2021-02-12 16:29:14\n",
      "Finished Training...\n"
     ]
    }
   ],
   "source": [
    "df_history = model.fit(epochs=3, dl_train=dl_train, dl_val=dl_valid, log_step_freq=100)"
   ],
   "metadata": {
    "collapsed": false,
    "pycharm": {
     "name": "#%%\n"
    }
   }
  }
 ],
 "metadata": {
  "kernelspec": {
   "display_name": "Python 3",
   "language": "python",
   "name": "python3"
  },
  "language_info": {
   "codemirror_mode": {
    "name": "ipython",
    "version": 2
   },
   "file_extension": ".py",
   "mimetype": "text/x-python",
   "name": "python",
   "nbconvert_exporter": "python",
   "pygments_lexer": "ipython2",
   "version": "2.7.6"
  }
 },
 "nbformat": 4,
 "nbformat_minor": 0
}